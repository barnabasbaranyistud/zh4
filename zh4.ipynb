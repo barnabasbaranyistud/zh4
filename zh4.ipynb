{
    "metadata": {
        "kernelspec": {
            "name": "SQL",
            "display_name": "SQL",
            "language": "sql"
        },
        "language_info": {
            "name": "sql",
            "version": ""
        }
    },
    "nbformat_minor": 2,
    "nbformat": 4,
    "cells": [
        {
            "cell_type": "markdown",
            "source": [
                "8\\. feladat"
            ],
            "metadata": {
                "azdata_cell_guid": "69e34275-827b-4f29-9e33-d693a61b7504"
            },
            "attachments": {}
        },
        {
            "cell_type": "code",
            "source": [
                "match(p:Person)-[:ACTED_IN]->(m:Movie)<-[:ACTED_IN]-(p2:Person)\r\n",
                "where p2.name = \"Tom Hanks\" AND p.name <> \"Tom Hanks\"\r\n",
                "return distinct p.name"
            ],
            "metadata": {
                "azdata_cell_guid": "43012f6c-b084-4c27-bf53-872a8cffa8a7",
                "language": "sql"
            },
            "outputs": [],
            "execution_count": null
        },
        {
            "cell_type": "markdown",
            "source": [
                "7\\. feladat"
            ],
            "metadata": {
                "azdata_cell_guid": "881d5444-0644-4488-b2de-9db387abe000"
            },
            "attachments": {}
        },
        {
            "cell_type": "code",
            "source": [
                "create table STUDENT(ID int, Nev varchar, Teljesitett_felevek LIST<int>, Eredmenyek MAP<text, text>, Nyelvtudas SET<text>, primary key(ID));\r\n",
                "INSERT INTO STUDENT (ID, Nev, Teljesitett_felevek, Eredmenyek, Nyelvtudas) VALUES (1, 'Toth Otto', [1, 2], {'1': '3,05', '2': '4,5'}, {'angol'});\r\n",
                "INSERT INTO STUDENT (ID, Nev, Teljesitett_felevek, Eredmenyek, Nyelvtudas) VALUES (2, 'Kis Kalman', [1, 2, 3], {'1': '3,85', '2': '2,8', '3':'5,00'}, {'angol', 'nemet', 'orosz'});"
            ],
            "metadata": {
                "azdata_cell_guid": "e34ba33b-1f7b-4691-a158-1ce5a9a16ebd",
                "language": "sql"
            },
            "outputs": [],
            "execution_count": null
        }
    ]
}