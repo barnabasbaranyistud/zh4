{
    "metadata": {
        "kernelspec": {
            "name": "SQL",
            "display_name": "SQL",
            "language": "sql"
        },
        "language_info": {
            "name": "sql",
            "version": ""
        }
    },
    "nbformat_minor": 2,
    "nbformat": 4,
    "cells": [
        {
            "cell_type": "markdown",
            "source": [
                "8\\. feladat"
            ],
            "metadata": {
                "azdata_cell_guid": "69e34275-827b-4f29-9e33-d693a61b7504"
            },
            "attachments": {}
        },
        {
            "cell_type": "code",
            "source": [
                "match(p:Person)-[:ACTED_IN]->(m:Movie)<-[:ACTED_IN]-(p2:Person)\r\n",
                "where p2.name = \"Tom Hanks\" AND p.name <> \"Tom Hanks\"\r\n",
                "return distinct p.name"
            ],
            "metadata": {
                "azdata_cell_guid": "43012f6c-b084-4c27-bf53-872a8cffa8a7",
                "language": "sql"
            },
            "outputs": [
                {
                    "output_type": "error",
                    "evalue": "Msg 102, Level 15, State 1, Line 1\r\nIncorrect syntax near 'p:'.",
                    "ename": "",
                    "traceback": []
                },
                {
                    "output_type": "display_data",
                    "data": {
                        "text/html": "Total execution time: 00:00:00.008"
                    },
                    "metadata": {}
                }
            ],
            "execution_count": 1
        },
        {
            "cell_type": "markdown",
            "source": [
                "7\\. feladat"
            ],
            "metadata": {
                "azdata_cell_guid": "881d5444-0644-4488-b2de-9db387abe000"
            },
            "attachments": {}
        },
        {
            "cell_type": "code",
            "source": [
                "create table STUDENT(ID int, Nev varchar, Teljesitett_felevek LIST<int>, Eredmenyek MAP<text, text>, Nyelvtudas SET<text>, primary key(ID));\r\n",
                "INSERT INTO STUDENT (ID, Nev, Teljesitett_felevek, Eredmenyek, Nyelvtudas) VALUES (1, 'Toth Otto', [1, 2], {'1': '3,05', '2': '4,5'}, {'angol'});\r\n",
                "INSERT INTO STUDENT (ID, Nev, Teljesitett_felevek, Eredmenyek, Nyelvtudas) VALUES (2, 'Kis Kalman', [1, 2, 3], {'1': '3,85', '2': '2,8', '3':'5,00'}, {'angol', 'nemet', 'orosz'});"
            ],
            "metadata": {
                "azdata_cell_guid": "e34ba33b-1f7b-4691-a158-1ce5a9a16ebd",
                "language": "sql"
            },
            "outputs": [],
            "execution_count": null
        },
        {
            "cell_type": "markdown",
            "source": [
                "1\\. feladat"
            ],
            "metadata": {
                "azdata_cell_guid": "605240e7-7abb-4bdb-ac1c-a91a8e0622f8"
            },
            "attachments": {}
        },
        {
            "cell_type": "code",
            "source": [
                "SELECT v.NEV, v.EMAIL, v.USERNEV\r\n",
                "FROM Vendeg v\r\n",
                "WHERE month(v.SZUL_DAT) <> 5 AND\r\n",
                "( SELECT count(*)\r\n",
                "from Foglalas f\r\n",
                "where v.USERNEV=f.UGYFEL_FK ) > 1"
            ],
            "metadata": {
                "azdata_cell_guid": "ee105e43-23d9-47f6-bde6-69e94a5e44c5",
                "language": "sql",
                "tags": []
            },
            "outputs": [
                {
                    "output_type": "display_data",
                    "data": {
                        "text/html": "(169 rows affected)"
                    },
                    "metadata": {}
                },
                {
                    "output_type": "display_data",
                    "data": {
                        "text/html": "Total execution time: 00:00:00.044"
                    },
                    "metadata": {}
                },
                {
                    "output_type": "execute_result",
                    "metadata": {},
                    "execution_count": 25,
                    "data": {
                        "application/vnd.dataresource+json": {
                            "schema": {
                                "fields": [
                                    {
                                        "name": "NEV"
                                    },
                                    {
                                        "name": "EMAIL"
                                    },
                                    {
                                        "name": "USERNEV"
                                    }
                                ]
                            },
                            "data": [
                                {
                                    "NEV": "Kiss Ádám",
                                    "EMAIL": "ádám.kiss@mail.hu",
                                    "USERNEV": "adam1"
                                },
                                {
                                    "NEV": "Barkóci Ádám",
                                    "EMAIL": "adam3@gmail.com",
                                    "USERNEV": "adam3"
                                },
                                {
                                    "NEV": "Bieniek Ádám",
                                    "EMAIL": "ádám.bieniek@mail.hu",
                                    "USERNEV": "adam4"
                                },
                                {
                                    "NEV": "Lengyel Ágnes",
                                    "EMAIL": "agnes@gmail.com",
                                    "USERNEV": "agnes"
                                },
                                {
                                    "NEV": "Hartyánszky Ágnes",
                                    "EMAIL": "agnes3@gmail.com",
                                    "USERNEV": "agnes3"
                                },
                                {
                                    "NEV": "Horváth Ágnes",
                                    "EMAIL": "AGNESH@gmail.com",
                                    "USERNEV": "AGNESH"
                                },
                                {
                                    "NEV": "Kovács Ágnes",
                                    "EMAIL": "AGNESK@gmail.com",
                                    "USERNEV": "AGNESK"
                                },
                                {
                                    "NEV": "Bíró Ákos",
                                    "EMAIL": "ákos.bíró@mail.hu",
                                    "USERNEV": "akos"
                                },
                                {
                                    "NEV": "Dunai Aladár",
                                    "EMAIL": "aladár.dunai@mail.hu",
                                    "USERNEV": "aladar"
                                },
                                {
                                    "NEV": "Bagóczki Alexandra",
                                    "EMAIL": "alexandra.bagóczki@mail.hu",
                                    "USERNEV": "alexandra"
                                },
                                {
                                    "NEV": "Tóth András",
                                    "EMAIL": "andrás.tóth@mail.hu",
                                    "USERNEV": "andras2"
                                },
                                {
                                    "NEV": "Molnár András",
                                    "EMAIL": "andrás.molnár@mail.hu",
                                    "USERNEV": "andras21"
                                },
                                {
                                    "NEV": "Vígh András",
                                    "EMAIL": "andrás.vígh@mail.hu",
                                    "USERNEV": "andras3"
                                },
                                {
                                    "NEV": "Back András",
                                    "EMAIL": "andras4@gmail.com",
                                    "USERNEV": "andras4"
                                },
                                {
                                    "NEV": "Komjáti András",
                                    "EMAIL": "andras41@gmail.com",
                                    "USERNEV": "andras41"
                                },
                                {
                                    "NEV": "Kiss Andrea",
                                    "EMAIL": "andrea.kiss@mail.hu",
                                    "USERNEV": "andrea"
                                },
                                {
                                    "NEV": "Tornyos Andrea",
                                    "EMAIL": "ANDREAT@gmail.com",
                                    "USERNEV": "ANDREAT"
                                },
                                {
                                    "NEV": "Pivarcsi Anett",
                                    "EMAIL": "anett.pivarcsi@mail.hu",
                                    "USERNEV": "anett3"
                                },
                                {
                                    "NEV": "Tóth Anikó",
                                    "EMAIL": "aniko@gmail.com",
                                    "USERNEV": "aniko"
                                },
                                {
                                    "NEV": "Böröcz Anikó",
                                    "EMAIL": "aniko4@gmail.com",
                                    "USERNEV": "aniko4"
                                },
                                {
                                    "NEV": "Simon Anikó",
                                    "EMAIL": "ANIKOS@gmail.com",
                                    "USERNEV": "ANIKOS"
                                },
                                {
                                    "NEV": "Hamvay-Kovács Anita",
                                    "EMAIL": "anita.hamvay-kovács@mail.hu",
                                    "USERNEV": "anita"
                                },
                                {
                                    "NEV": "Szűcs Annamária",
                                    "EMAIL": "annamária.szűcs@mail.hu",
                                    "USERNEV": "annamaria1"
                                },
                                {
                                    "NEV": "Regős Annamária",
                                    "EMAIL": "ANNAMARIAR@gmail.com",
                                    "USERNEV": "ANNAMARIAR"
                                },
                                {
                                    "NEV": "Jakab Áron",
                                    "EMAIL": "aron2@gmail.com",
                                    "USERNEV": "aron2"
                                },
                                {
                                    "NEV": "Kelemen Áron",
                                    "EMAIL": "áron.kelemen@mail.hu",
                                    "USERNEV": "ARONK"
                                },
                                {
                                    "NEV": "Ötvös Árpád",
                                    "EMAIL": "árpád.ötvös@mail.hu",
                                    "USERNEV": "arpad2"
                                },
                                {
                                    "NEV": "Móricz Árpád",
                                    "EMAIL": "árpád.móricz@mail.hu",
                                    "USERNEV": "ARPADM"
                                },
                                {
                                    "NEV": "Csóti Attila",
                                    "EMAIL": "attila@gmail.com",
                                    "USERNEV": "attila"
                                },
                                {
                                    "NEV": "Gulyás Attila",
                                    "EMAIL": "attila.gulyás@mail.hu",
                                    "USERNEV": "attila1"
                                },
                                {
                                    "NEV": "Baróti Attila",
                                    "EMAIL": "attila.baróti@mail.hu",
                                    "USERNEV": "attila4"
                                },
                                {
                                    "NEV": "Bozsik Balázs",
                                    "EMAIL": "balázs.bozsik@mail.hu",
                                    "USERNEV": "balazs1"
                                },
                                {
                                    "NEV": "Szűcs Balázs",
                                    "EMAIL": "balázs.szűcs@mail.hu",
                                    "USERNEV": "balazs2"
                                },
                                {
                                    "NEV": "Bakódy Balázs",
                                    "EMAIL": "balazs3@gmail.com",
                                    "USERNEV": "balazs3"
                                },
                                {
                                    "NEV": "Horváth Bálint",
                                    "EMAIL": "balint@gmail.com",
                                    "USERNEV": "balint"
                                },
                                {
                                    "NEV": "Molnár Bálint",
                                    "EMAIL": "balint1@gmail.com",
                                    "USERNEV": "balint1"
                                },
                                {
                                    "NEV": "Vukasinovity Bálint",
                                    "EMAIL": "balint2@gmail.com",
                                    "USERNEV": "balint2"
                                },
                                {
                                    "NEV": "Endresz Bálint",
                                    "EMAIL": "bálint.endresz@mail.hu",
                                    "USERNEV": "balu"
                                },
                                {
                                    "NEV": "Bagi Beáta",
                                    "EMAIL": "beáta.bagi@mail.hu",
                                    "USERNEV": "beata4"
                                },
                                {
                                    "NEV": "Kerényi Beatrix",
                                    "EMAIL": "beatrix.kerényi@mail.hu",
                                    "USERNEV": "BEATRIXK"
                                },
                                {
                                    "NEV": "Szekendi Beatrix",
                                    "EMAIL": "beatrix.szekendi@mail.hu",
                                    "USERNEV": "BEATRIXS"
                                },
                                {
                                    "NEV": "Farkas Béla",
                                    "EMAIL": "BELAF@gmail.com",
                                    "USERNEV": "BELAF"
                                },
                                {
                                    "NEV": "Győrffy Bence",
                                    "EMAIL": "bence@gmail.com",
                                    "USERNEV": "bence"
                                },
                                {
                                    "NEV": "Bajusz Bence",
                                    "EMAIL": "bence.bajusz@mail.hu",
                                    "USERNEV": "BENCEB"
                                },
                                {
                                    "NEV": "Simon Bernadett",
                                    "EMAIL": "bernadett1@gmail.com",
                                    "USERNEV": "bernadett1"
                                },
                                {
                                    "NEV": "Kovács Bernadett",
                                    "EMAIL": "bernadett.kovács@mail.hu",
                                    "USERNEV": "bernadett2"
                                },
                                {
                                    "NEV": "Orbán Bernadett",
                                    "EMAIL": "bernadett.orbán@mail.hu",
                                    "USERNEV": "BERNADETTO"
                                },
                                {
                                    "NEV": "Csiger Bertalan",
                                    "EMAIL": "bertalan@gmail.com",
                                    "USERNEV": "bertalan"
                                },
                                {
                                    "NEV": "Székely Brigitta",
                                    "EMAIL": "brigitta.székely@mail.hu",
                                    "USERNEV": "brigitta"
                                },
                                {
                                    "NEV": "Nagymihály Csongor",
                                    "EMAIL": "csongor.nagymihály@mail.hu",
                                    "USERNEV": "csongor3"
                                },
                                {
                                    "NEV": "Vörös Dániel",
                                    "EMAIL": "daniel@gmail.com",
                                    "USERNEV": "dani"
                                },
                                {
                                    "NEV": "Rácz Dániel",
                                    "EMAIL": "dániel.rácz@mail.hu",
                                    "USERNEV": "daniel"
                                },
                                {
                                    "NEV": "Keszler Dániel",
                                    "EMAIL": "dániel.keszler@mail.hu",
                                    "USERNEV": "daniel1"
                                },
                                {
                                    "NEV": "Ambrus Dávid",
                                    "EMAIL": "david@gmail.com",
                                    "USERNEV": "david"
                                },
                                {
                                    "NEV": "Sobják Dávid",
                                    "EMAIL": "david1@gmail.com",
                                    "USERNEV": "david1"
                                },
                                {
                                    "NEV": "Barna Debóra",
                                    "EMAIL": "debóra.barna@mail.hu",
                                    "USERNEV": "debora"
                                },
                                {
                                    "NEV": "Tömböly Dénes",
                                    "EMAIL": "denes@gmail.com",
                                    "USERNEV": "denes"
                                },
                                {
                                    "NEV": "Bittmann Edit",
                                    "EMAIL": "edit.bittmann@mail.hu",
                                    "USERNEV": "edit"
                                },
                                {
                                    "NEV": "Kuruc Emese",
                                    "EMAIL": "emese.kuruc@mail.hu",
                                    "USERNEV": "emese"
                                },
                                {
                                    "NEV": "Balogh Eszter",
                                    "EMAIL": "eszter.balogh@mail.hu",
                                    "USERNEV": "eszter2"
                                },
                                {
                                    "NEV": "Fülöp Eszter",
                                    "EMAIL": "eszter.fülöp@mail.hu",
                                    "USERNEV": "eszter4"
                                },
                                {
                                    "NEV": "Érsek Eszter",
                                    "EMAIL": "eszter.érsek@mail.hu",
                                    "USERNEV": "ESZTERE"
                                },
                                {
                                    "NEV": "Enyedi Éva",
                                    "EMAIL": "eva@gmail.com",
                                    "USERNEV": "eva"
                                },
                                {
                                    "NEV": "Perlinger Éva",
                                    "EMAIL": "eva2@gmail.com",
                                    "USERNEV": "eva2"
                                },
                                {
                                    "NEV": "Viktor Éva",
                                    "EMAIL": "EVAV@gmail.com",
                                    "USERNEV": "EVAV"
                                },
                                {
                                    "NEV": "Orosz Ferenc",
                                    "EMAIL": "ferenc.orosz@mail.hu",
                                    "USERNEV": "ferenc1"
                                },
                                {
                                    "NEV": "Frank Fruzsina",
                                    "EMAIL": "fruzsina4@gmail.com",
                                    "USERNEV": "fruzsina4"
                                },
                                {
                                    "NEV": "Köves Gábor",
                                    "EMAIL": "gabor1@gmail.com",
                                    "USERNEV": "gabor1"
                                },
                                {
                                    "NEV": "Telek Gábor",
                                    "EMAIL": "gábor.telek@mail.hu",
                                    "USERNEV": "gabor4"
                                },
                                {
                                    "NEV": "Nagy Gabriella",
                                    "EMAIL": "gabriella1@gmail.com",
                                    "USERNEV": "gabriella1"
                                },
                                {
                                    "NEV": "Nyíri Georgij",
                                    "EMAIL": "georgij.nyíri@mail.hu",
                                    "USERNEV": "georgij"
                                },
                                {
                                    "NEV": "Bárci Gusztáv",
                                    "EMAIL": "gusztav@gmail.com",
                                    "USERNEV": "gusztav"
                                },
                                {
                                    "NEV": "Kornseé Gyöngyi",
                                    "EMAIL": "gyöngyi.kornseé@mail.hu",
                                    "USERNEV": "GYONGYIK"
                                },
                                {
                                    "NEV": "Oroszi György",
                                    "EMAIL": "GYORGYO@gmail.com",
                                    "USERNEV": "GYORGYO"
                                },
                                {
                                    "NEV": "Nádudvari Henrik",
                                    "EMAIL": "henrik.nádudvari@mail.hu",
                                    "USERNEV": "henrik3"
                                },
                                {
                                    "NEV": "Andor Ibolya",
                                    "EMAIL": "ibolya.andor@mail.hu",
                                    "USERNEV": "IBOLYAA"
                                },
                                {
                                    "NEV": "Bosnyák Ilona",
                                    "EMAIL": "ilona3@gmail.com",
                                    "USERNEV": "ilona3"
                                },
                                {
                                    "NEV": "Búza Imre",
                                    "EMAIL": "imre.búza@mail.hu",
                                    "USERNEV": "imre"
                                },
                                {
                                    "NEV": "Papp Imre",
                                    "EMAIL": "imre.papp@mail.hu",
                                    "USERNEV": "imre1"
                                },
                                {
                                    "NEV": "Soós István",
                                    "EMAIL": "istvan@gmail.com",
                                    "USERNEV": "istvan"
                                },
                                {
                                    "NEV": "Vizi István",
                                    "EMAIL": "istván.vizi@mail.hu",
                                    "USERNEV": "istvan1"
                                },
                                {
                                    "NEV": "Varga István",
                                    "EMAIL": "ISTVANV@gmail.com",
                                    "USERNEV": "ISTVANV"
                                },
                                {
                                    "NEV": "Harangozó János",
                                    "EMAIL": "janos3@gmail.com",
                                    "USERNEV": "janos3"
                                },
                                {
                                    "NEV": "Giliga János",
                                    "EMAIL": "JANOSG@gmail.com",
                                    "USERNEV": "JANOSG"
                                },
                                {
                                    "NEV": "Pálinkás János",
                                    "EMAIL": "JANOSP@gmail.com",
                                    "USERNEV": "JANOSP"
                                },
                                {
                                    "NEV": "Gergely József",
                                    "EMAIL": "jozsef@gmail.com",
                                    "USERNEV": "jozsef"
                                },
                                {
                                    "NEV": "Vajda József",
                                    "EMAIL": "józsef.vajda@mail.hu",
                                    "USERNEV": "jozsef2"
                                },
                                {
                                    "NEV": "Hídasi Judit",
                                    "EMAIL": "JUDITH@gmail.com",
                                    "USERNEV": "JUDITH"
                                },
                                {
                                    "NEV": "Tóth Júlia",
                                    "EMAIL": "julia@gmail.com",
                                    "USERNEV": "julia"
                                },
                                {
                                    "NEV": "Nagy Júlia",
                                    "EMAIL": "julia4@gmail.com",
                                    "USERNEV": "julia4"
                                },
                                {
                                    "NEV": "Szabó Julianna",
                                    "EMAIL": "julianna4@gmail.com",
                                    "USERNEV": "julianna4"
                                },
                                {
                                    "NEV": "Gondos Katalin",
                                    "EMAIL": "katalin.gondos@mail.hu",
                                    "USERNEV": "kata"
                                },
                                {
                                    "NEV": "Horváth Katalin",
                                    "EMAIL": "katalin.horváth@mail.hu",
                                    "USERNEV": "katalin"
                                },
                                {
                                    "NEV": "Kertész Katalin",
                                    "EMAIL": "katalin4@gmail.com",
                                    "USERNEV": "katalin4"
                                },
                                {
                                    "NEV": "Kovács Katalin",
                                    "EMAIL": "katalin.kovács@mail.hu",
                                    "USERNEV": "katka"
                                },
                                {
                                    "NEV": "Bakó Klaudia",
                                    "EMAIL": "klaudia.bakó@mail.hu",
                                    "USERNEV": "klaudia2"
                                },
                                {
                                    "NEV": "Lukács Kornél",
                                    "EMAIL": "kornél.lukács@mail.hu",
                                    "USERNEV": "kornel4"
                                },
                                {
                                    "NEV": "Poprádi Kristóf",
                                    "EMAIL": "kristof4@gmail.com",
                                    "USERNEV": "kristof4"
                                },
                                {
                                    "NEV": "Horváth Krisztina",
                                    "EMAIL": "kriszti@gmail.com",
                                    "USERNEV": "kriszti"
                                },
                                {
                                    "NEV": "Czérna Krisztián",
                                    "EMAIL": "krisztián.czérna@mail.hu",
                                    "USERNEV": "krisztian4"
                                },
                                {
                                    "NEV": "Bori Krisztina",
                                    "EMAIL": "krisztina.bori@mail.hu",
                                    "USERNEV": "krisztina1"
                                },
                                {
                                    "NEV": "Gyárfás Krisztina",
                                    "EMAIL": "KRISZTINAG@gmail.com",
                                    "USERNEV": "KRISZTINAG"
                                },
                                {
                                    "NEV": "Kiss Lajos",
                                    "EMAIL": "lajos.kiss@mail.hu",
                                    "USERNEV": "lajos"
                                },
                                {
                                    "NEV": "Nagymihály Lajos",
                                    "EMAIL": "lajos.nagymihály@mail.hu",
                                    "USERNEV": "lala"
                                },
                                {
                                    "NEV": "Móra László",
                                    "EMAIL": "lászló.móra@mail.hu",
                                    "USERNEV": "laszlo2"
                                },
                                {
                                    "NEV": "Antal László",
                                    "EMAIL": "lászló.antal@mail.hu",
                                    "USERNEV": "LASZLOA"
                                },
                                {
                                    "NEV": "Nagy László",
                                    "EMAIL": "lászló.nagy@mail.hu",
                                    "USERNEV": "LASZLON"
                                },
                                {
                                    "NEV": "Baráth Mária",
                                    "EMAIL": "mária.baráth@mail.hu",
                                    "USERNEV": "maria1"
                                },
                                {
                                    "NEV": "Kispál Márk",
                                    "EMAIL": "márk.kispál@mail.hu",
                                    "USERNEV": "mark"
                                },
                                {
                                    "NEV": "Horváth Márk",
                                    "EMAIL": "márk.horváth@mail.hu",
                                    "USERNEV": "MARKH"
                                },
                                {
                                    "NEV": "Kalacsi Márton",
                                    "EMAIL": "marton@gmail.com",
                                    "USERNEV": "marton"
                                },
                                {
                                    "NEV": "Koza Máté",
                                    "EMAIL": "máté.koza@mail.hu",
                                    "USERNEV": "MATEK"
                                },
                                {
                                    "NEV": "Botka Mátyás",
                                    "EMAIL": "matyas2@gmail.com",
                                    "USERNEV": "matyas2"
                                },
                                {
                                    "NEV": "Szilágyi Mátyás",
                                    "EMAIL": "mátyás.szilágyi@mail.hu",
                                    "USERNEV": "MATYASS"
                                },
                                {
                                    "NEV": "Juhász Mihály",
                                    "EMAIL": "mihály.juhász@mail.hu",
                                    "USERNEV": "MIHALYJ"
                                },
                                {
                                    "NEV": "Gondos Miklós",
                                    "EMAIL": "miklos2@gmail.com",
                                    "USERNEV": "miklos2"
                                },
                                {
                                    "NEV": "Balla Miklós",
                                    "EMAIL": "miklós.balla@mail.hu",
                                    "USERNEV": "MIKLOSB"
                                },
                                {
                                    "NEV": "Mohos Mónika",
                                    "EMAIL": "mónika.mohos@mail.hu",
                                    "USERNEV": "MONIKAM"
                                },
                                {
                                    "NEV": "Fő Nándor",
                                    "EMAIL": "nándor.fő@mail.hu",
                                    "USERNEV": "NANDORF"
                                },
                                {
                                    "NEV": "Horváth Nikolett",
                                    "EMAIL": "nikolett3@gmail.com",
                                    "USERNEV": "nikolett3"
                                },
                                {
                                    "NEV": "Kő Nikoletta",
                                    "EMAIL": "nikoletta4@gmail.com",
                                    "USERNEV": "nikoletta4"
                                },
                                {
                                    "NEV": "Tatár Nikoletta",
                                    "EMAIL": "nikoletta.tatár@mail.hu",
                                    "USERNEV": "NIKOLETTAT"
                                },
                                {
                                    "NEV": "Szűcs Norbert",
                                    "EMAIL": "norbert@gmail.com",
                                    "USERNEV": "norbert"
                                },
                                {
                                    "NEV": "Hegedűs Norbert",
                                    "EMAIL": "norbert.hegedűs@mail.hu",
                                    "USERNEV": "norbert2"
                                },
                                {
                                    "NEV": "Mile Norbert",
                                    "EMAIL": "norbert4@gmail.com",
                                    "USERNEV": "norbert4"
                                },
                                {
                                    "NEV": "Béres Norbert",
                                    "EMAIL": "norbert5@gmail.com",
                                    "USERNEV": "norbert5"
                                },
                                {
                                    "NEV": "Barabás Pál",
                                    "EMAIL": "pál.barabás@mail.hu",
                                    "USERNEV": "pal"
                                },
                                {
                                    "NEV": "Kozma Péter",
                                    "EMAIL": "peter1@gmail.com",
                                    "USERNEV": "peter1"
                                },
                                {
                                    "NEV": "Bozsó Péter",
                                    "EMAIL": "peter2@gmail.com",
                                    "USERNEV": "peter2"
                                },
                                {
                                    "NEV": "Szalai Péter",
                                    "EMAIL": "peter3@gmail.com",
                                    "USERNEV": "peter3"
                                },
                                {
                                    "NEV": "Bíró Péter",
                                    "EMAIL": "péter.bíró@mail.hu",
                                    "USERNEV": "peter4"
                                },
                                {
                                    "NEV": "Berendi Péter",
                                    "EMAIL": "péter.berendi@mail.hu",
                                    "USERNEV": "PETERB"
                                },
                                {
                                    "NEV": "Palágyi Polla",
                                    "EMAIL": "polla@gmail.com",
                                    "USERNEV": "polla"
                                },
                                {
                                    "NEV": "Rácz Rajmond",
                                    "EMAIL": "rajmond.rácz@mail.hu",
                                    "USERNEV": "rajmond4"
                                },
                                {
                                    "NEV": "Szikszai Réka",
                                    "EMAIL": "réka.szikszai@mail.hu",
                                    "USERNEV": "reka4"
                                },
                                {
                                    "NEV": "Szirmai Renáta",
                                    "EMAIL": "RENATAS@gmail.com",
                                    "USERNEV": "RENATAS"
                                },
                                {
                                    "NEV": "Patay Róbert",
                                    "EMAIL": "robert2@gmail.com",
                                    "USERNEV": "robert2"
                                },
                                {
                                    "NEV": "Iván Róbert",
                                    "EMAIL": "róbert.iván@mail.hu",
                                    "USERNEV": "ROBERTI"
                                },
                                {
                                    "NEV": "Tóth Roland",
                                    "EMAIL": "roland@gmail.com",
                                    "USERNEV": "roland"
                                },
                                {
                                    "NEV": "Ferencz Roland",
                                    "EMAIL": "roland.ferencz@mail.hu",
                                    "USERNEV": "roland1"
                                },
                                {
                                    "NEV": "Bucskó Róza",
                                    "EMAIL": "roza2@gmail.com",
                                    "USERNEV": "roza2"
                                },
                                {
                                    "NEV": "Karasz Sándor",
                                    "EMAIL": "sandor@gmail.com",
                                    "USERNEV": "sandor"
                                },
                                {
                                    "NEV": "Farkas Sándor",
                                    "EMAIL": "sándor.farkas@mail.hu",
                                    "USERNEV": "sandor3"
                                },
                                {
                                    "NEV": "Nagy Sándor",
                                    "EMAIL": "sandor4@gmail.com",
                                    "USERNEV": "sandor4"
                                },
                                {
                                    "NEV": "Farkas Sára",
                                    "EMAIL": "sára.farkas@mail.hu",
                                    "USERNEV": "sara"
                                },
                                {
                                    "NEV": "Foltényi Sebastián",
                                    "EMAIL": "SEBASTIANF@gmail.com",
                                    "USERNEV": "SEBASTIANF"
                                },
                                {
                                    "NEV": "Rab Sebestyén",
                                    "EMAIL": "sebestyen@gmail.com",
                                    "USERNEV": "sebestyen"
                                },
                                {
                                    "NEV": "Miklós Szabolcs",
                                    "EMAIL": "szabolcs.miklós@mail.hu",
                                    "USERNEV": "SZABOLCSM"
                                },
                                {
                                    "NEV": "Szalai Szilárd",
                                    "EMAIL": "szilárd.szalai@mail.hu",
                                    "USERNEV": "SZILARDS"
                                },
                                {
                                    "NEV": "Tari Szilvia",
                                    "EMAIL": "szilvia.tari@mail.hu",
                                    "USERNEV": "szilvia1"
                                },
                                {
                                    "NEV": "Miklós Tamara",
                                    "EMAIL": "tamara.miklós@mail.hu",
                                    "USERNEV": "tamara2"
                                },
                                {
                                    "NEV": "Antal Tamás",
                                    "EMAIL": "tamás.antal@mail.hu",
                                    "USERNEV": "tamas"
                                },
                                {
                                    "NEV": "Fényes Tamás",
                                    "EMAIL": "TAMASF@gmail.com",
                                    "USERNEV": "TAMASF"
                                },
                                {
                                    "NEV": "Gombos Tibor",
                                    "EMAIL": "tibor.gombos@mail.hu",
                                    "USERNEV": "tibor"
                                },
                                {
                                    "NEV": "Kazy Tihamér",
                                    "EMAIL": "tihamér.kazy@mail.hu",
                                    "USERNEV": "tihamer"
                                },
                                {
                                    "NEV": "Dusha Tímea",
                                    "EMAIL": "tímea.dusha@mail.hu",
                                    "USERNEV": "timea2"
                                },
                                {
                                    "NEV": "Turcsik Tünde",
                                    "EMAIL": "tunde@gmail.com",
                                    "USERNEV": "tunde"
                                },
                                {
                                    "NEV": "Feró Valentin",
                                    "EMAIL": "valentin.feró@mail.hu",
                                    "USERNEV": "valentin"
                                },
                                {
                                    "NEV": "Tankó Veronika",
                                    "EMAIL": "veronika4@gmail.com",
                                    "USERNEV": "veronika4"
                                },
                                {
                                    "NEV": "Boros Vivien",
                                    "EMAIL": "vivien3@gmail.com",
                                    "USERNEV": "vivien3"
                                },
                                {
                                    "NEV": "Fodor Zoltán",
                                    "EMAIL": "zoltán.fodor@mail.hu",
                                    "USERNEV": "zoltan"
                                },
                                {
                                    "NEV": "Pintér Zoltán",
                                    "EMAIL": "zoltán.pintér@mail.hu",
                                    "USERNEV": "ZOLTANP"
                                },
                                {
                                    "NEV": "Tóth Zoltán",
                                    "EMAIL": "zoltán.tóth@mail.hu",
                                    "USERNEV": "ZOLTANT"
                                },
                                {
                                    "NEV": "Molnár Zsófi",
                                    "EMAIL": "zsofi1@gmail.com",
                                    "USERNEV": "zsofi1"
                                },
                                {
                                    "NEV": "Józsa Zsolt",
                                    "EMAIL": "ZSOLTJ@gmail.com",
                                    "USERNEV": "ZSOLTJ"
                                },
                                {
                                    "NEV": "Pusztai Zsuzsanna",
                                    "EMAIL": "zsuzsanna@gmail.com",
                                    "USERNEV": "zsuzsa"
                                },
                                {
                                    "NEV": "Varsányi Zsuzsa",
                                    "EMAIL": "zsuzsa.varsányi@mail.hu",
                                    "USERNEV": "zsuzsa3"
                                },
                                {
                                    "NEV": "Barta Zsuzsanna",
                                    "EMAIL": "zsuzsanna.barta@mail.hu",
                                    "USERNEV": "zsuzsanna"
                                },
                                {
                                    "NEV": "Vajda Zsuzsa",
                                    "EMAIL": "zsuzsa.vajda@mail.hu",
                                    "USERNEV": "ZSUZSAV"
                                }
                            ]
                        },
                        "text/html": [
                            "<table>",
                            "<tr><th>NEV</th><th>EMAIL</th><th>USERNEV</th></tr>",
                            "<tr><td>Kiss Ádám</td><td>ádám.kiss@mail.hu</td><td>adam1</td></tr>",
                            "<tr><td>Barkóci Ádám</td><td>adam3@gmail.com</td><td>adam3</td></tr>",
                            "<tr><td>Bieniek Ádám</td><td>ádám.bieniek@mail.hu</td><td>adam4</td></tr>",
                            "<tr><td>Lengyel Ágnes</td><td>agnes@gmail.com</td><td>agnes</td></tr>",
                            "<tr><td>Hartyánszky Ágnes</td><td>agnes3@gmail.com</td><td>agnes3</td></tr>",
                            "<tr><td>Horváth Ágnes</td><td>AGNESH@gmail.com</td><td>AGNESH</td></tr>",
                            "<tr><td>Kovács Ágnes</td><td>AGNESK@gmail.com</td><td>AGNESK</td></tr>",
                            "<tr><td>Bíró Ákos</td><td>ákos.bíró@mail.hu</td><td>akos</td></tr>",
                            "<tr><td>Dunai Aladár</td><td>aladár.dunai@mail.hu</td><td>aladar</td></tr>",
                            "<tr><td>Bagóczki Alexandra</td><td>alexandra.bagóczki@mail.hu</td><td>alexandra</td></tr>",
                            "<tr><td>Tóth András</td><td>andrás.tóth@mail.hu</td><td>andras2</td></tr>",
                            "<tr><td>Molnár András</td><td>andrás.molnár@mail.hu</td><td>andras21</td></tr>",
                            "<tr><td>Vígh András</td><td>andrás.vígh@mail.hu</td><td>andras3</td></tr>",
                            "<tr><td>Back András</td><td>andras4@gmail.com</td><td>andras4</td></tr>",
                            "<tr><td>Komjáti András</td><td>andras41@gmail.com</td><td>andras41</td></tr>",
                            "<tr><td>Kiss Andrea</td><td>andrea.kiss@mail.hu</td><td>andrea</td></tr>",
                            "<tr><td>Tornyos Andrea</td><td>ANDREAT@gmail.com</td><td>ANDREAT</td></tr>",
                            "<tr><td>Pivarcsi Anett</td><td>anett.pivarcsi@mail.hu</td><td>anett3</td></tr>",
                            "<tr><td>Tóth Anikó</td><td>aniko@gmail.com</td><td>aniko</td></tr>",
                            "<tr><td>Böröcz Anikó</td><td>aniko4@gmail.com</td><td>aniko4</td></tr>",
                            "<tr><td>Simon Anikó</td><td>ANIKOS@gmail.com</td><td>ANIKOS</td></tr>",
                            "<tr><td>Hamvay-Kovács Anita</td><td>anita.hamvay-kovács@mail.hu</td><td>anita</td></tr>",
                            "<tr><td>Szűcs Annamária</td><td>annamária.szűcs@mail.hu</td><td>annamaria1</td></tr>",
                            "<tr><td>Regős Annamária</td><td>ANNAMARIAR@gmail.com</td><td>ANNAMARIAR</td></tr>",
                            "<tr><td>Jakab Áron</td><td>aron2@gmail.com</td><td>aron2</td></tr>",
                            "<tr><td>Kelemen Áron</td><td>áron.kelemen@mail.hu</td><td>ARONK</td></tr>",
                            "<tr><td>Ötvös Árpád</td><td>árpád.ötvös@mail.hu</td><td>arpad2</td></tr>",
                            "<tr><td>Móricz Árpád</td><td>árpád.móricz@mail.hu</td><td>ARPADM</td></tr>",
                            "<tr><td>Csóti Attila</td><td>attila@gmail.com</td><td>attila</td></tr>",
                            "<tr><td>Gulyás Attila</td><td>attila.gulyás@mail.hu</td><td>attila1</td></tr>",
                            "<tr><td>Baróti Attila</td><td>attila.baróti@mail.hu</td><td>attila4</td></tr>",
                            "<tr><td>Bozsik Balázs</td><td>balázs.bozsik@mail.hu</td><td>balazs1</td></tr>",
                            "<tr><td>Szűcs Balázs</td><td>balázs.szűcs@mail.hu</td><td>balazs2</td></tr>",
                            "<tr><td>Bakódy Balázs</td><td>balazs3@gmail.com</td><td>balazs3</td></tr>",
                            "<tr><td>Horváth Bálint</td><td>balint@gmail.com</td><td>balint</td></tr>",
                            "<tr><td>Molnár Bálint</td><td>balint1@gmail.com</td><td>balint1</td></tr>",
                            "<tr><td>Vukasinovity Bálint</td><td>balint2@gmail.com</td><td>balint2</td></tr>",
                            "<tr><td>Endresz Bálint</td><td>bálint.endresz@mail.hu</td><td>balu</td></tr>",
                            "<tr><td>Bagi Beáta</td><td>beáta.bagi@mail.hu</td><td>beata4</td></tr>",
                            "<tr><td>Kerényi Beatrix</td><td>beatrix.kerényi@mail.hu</td><td>BEATRIXK</td></tr>",
                            "<tr><td>Szekendi Beatrix</td><td>beatrix.szekendi@mail.hu</td><td>BEATRIXS</td></tr>",
                            "<tr><td>Farkas Béla</td><td>BELAF@gmail.com</td><td>BELAF</td></tr>",
                            "<tr><td>Győrffy Bence</td><td>bence@gmail.com</td><td>bence</td></tr>",
                            "<tr><td>Bajusz Bence</td><td>bence.bajusz@mail.hu</td><td>BENCEB</td></tr>",
                            "<tr><td>Simon Bernadett</td><td>bernadett1@gmail.com</td><td>bernadett1</td></tr>",
                            "<tr><td>Kovács Bernadett</td><td>bernadett.kovács@mail.hu</td><td>bernadett2</td></tr>",
                            "<tr><td>Orbán Bernadett</td><td>bernadett.orbán@mail.hu</td><td>BERNADETTO</td></tr>",
                            "<tr><td>Csiger Bertalan</td><td>bertalan@gmail.com</td><td>bertalan</td></tr>",
                            "<tr><td>Székely Brigitta</td><td>brigitta.székely@mail.hu</td><td>brigitta</td></tr>",
                            "<tr><td>Nagymihály Csongor</td><td>csongor.nagymihály@mail.hu</td><td>csongor3</td></tr>",
                            "<tr><td>Vörös Dániel</td><td>daniel@gmail.com</td><td>dani</td></tr>",
                            "<tr><td>Rácz Dániel</td><td>dániel.rácz@mail.hu</td><td>daniel</td></tr>",
                            "<tr><td>Keszler Dániel</td><td>dániel.keszler@mail.hu</td><td>daniel1</td></tr>",
                            "<tr><td>Ambrus Dávid</td><td>david@gmail.com</td><td>david</td></tr>",
                            "<tr><td>Sobják Dávid</td><td>david1@gmail.com</td><td>david1</td></tr>",
                            "<tr><td>Barna Debóra</td><td>debóra.barna@mail.hu</td><td>debora</td></tr>",
                            "<tr><td>Tömböly Dénes</td><td>denes@gmail.com</td><td>denes</td></tr>",
                            "<tr><td>Bittmann Edit</td><td>edit.bittmann@mail.hu</td><td>edit</td></tr>",
                            "<tr><td>Kuruc Emese</td><td>emese.kuruc@mail.hu</td><td>emese</td></tr>",
                            "<tr><td>Balogh Eszter</td><td>eszter.balogh@mail.hu</td><td>eszter2</td></tr>",
                            "<tr><td>Fülöp Eszter</td><td>eszter.fülöp@mail.hu</td><td>eszter4</td></tr>",
                            "<tr><td>Érsek Eszter</td><td>eszter.érsek@mail.hu</td><td>ESZTERE</td></tr>",
                            "<tr><td>Enyedi Éva</td><td>eva@gmail.com</td><td>eva</td></tr>",
                            "<tr><td>Perlinger Éva</td><td>eva2@gmail.com</td><td>eva2</td></tr>",
                            "<tr><td>Viktor Éva</td><td>EVAV@gmail.com</td><td>EVAV</td></tr>",
                            "<tr><td>Orosz Ferenc</td><td>ferenc.orosz@mail.hu</td><td>ferenc1</td></tr>",
                            "<tr><td>Frank Fruzsina</td><td>fruzsina4@gmail.com</td><td>fruzsina4</td></tr>",
                            "<tr><td>Köves Gábor</td><td>gabor1@gmail.com</td><td>gabor1</td></tr>",
                            "<tr><td>Telek Gábor</td><td>gábor.telek@mail.hu</td><td>gabor4</td></tr>",
                            "<tr><td>Nagy Gabriella</td><td>gabriella1@gmail.com</td><td>gabriella1</td></tr>",
                            "<tr><td>Nyíri Georgij</td><td>georgij.nyíri@mail.hu</td><td>georgij</td></tr>",
                            "<tr><td>Bárci Gusztáv</td><td>gusztav@gmail.com</td><td>gusztav</td></tr>",
                            "<tr><td>Kornseé Gyöngyi</td><td>gyöngyi.kornseé@mail.hu</td><td>GYONGYIK</td></tr>",
                            "<tr><td>Oroszi György</td><td>GYORGYO@gmail.com</td><td>GYORGYO</td></tr>",
                            "<tr><td>Nádudvari Henrik</td><td>henrik.nádudvari@mail.hu</td><td>henrik3</td></tr>",
                            "<tr><td>Andor Ibolya</td><td>ibolya.andor@mail.hu</td><td>IBOLYAA</td></tr>",
                            "<tr><td>Bosnyák Ilona</td><td>ilona3@gmail.com</td><td>ilona3</td></tr>",
                            "<tr><td>Búza Imre</td><td>imre.búza@mail.hu</td><td>imre</td></tr>",
                            "<tr><td>Papp Imre</td><td>imre.papp@mail.hu</td><td>imre1</td></tr>",
                            "<tr><td>Soós István</td><td>istvan@gmail.com</td><td>istvan</td></tr>",
                            "<tr><td>Vizi István</td><td>istván.vizi@mail.hu</td><td>istvan1</td></tr>",
                            "<tr><td>Varga István</td><td>ISTVANV@gmail.com</td><td>ISTVANV</td></tr>",
                            "<tr><td>Harangozó János</td><td>janos3@gmail.com</td><td>janos3</td></tr>",
                            "<tr><td>Giliga János</td><td>JANOSG@gmail.com</td><td>JANOSG</td></tr>",
                            "<tr><td>Pálinkás János</td><td>JANOSP@gmail.com</td><td>JANOSP</td></tr>",
                            "<tr><td>Gergely József</td><td>jozsef@gmail.com</td><td>jozsef</td></tr>",
                            "<tr><td>Vajda József</td><td>józsef.vajda@mail.hu</td><td>jozsef2</td></tr>",
                            "<tr><td>Hídasi Judit</td><td>JUDITH@gmail.com</td><td>JUDITH</td></tr>",
                            "<tr><td>Tóth Júlia</td><td>julia@gmail.com</td><td>julia</td></tr>",
                            "<tr><td>Nagy Júlia</td><td>julia4@gmail.com</td><td>julia4</td></tr>",
                            "<tr><td>Szabó Julianna</td><td>julianna4@gmail.com</td><td>julianna4</td></tr>",
                            "<tr><td>Gondos Katalin</td><td>katalin.gondos@mail.hu</td><td>kata</td></tr>",
                            "<tr><td>Horváth Katalin</td><td>katalin.horváth@mail.hu</td><td>katalin</td></tr>",
                            "<tr><td>Kertész Katalin</td><td>katalin4@gmail.com</td><td>katalin4</td></tr>",
                            "<tr><td>Kovács Katalin</td><td>katalin.kovács@mail.hu</td><td>katka</td></tr>",
                            "<tr><td>Bakó Klaudia</td><td>klaudia.bakó@mail.hu</td><td>klaudia2</td></tr>",
                            "<tr><td>Lukács Kornél</td><td>kornél.lukács@mail.hu</td><td>kornel4</td></tr>",
                            "<tr><td>Poprádi Kristóf</td><td>kristof4@gmail.com</td><td>kristof4</td></tr>",
                            "<tr><td>Horváth Krisztina</td><td>kriszti@gmail.com</td><td>kriszti</td></tr>",
                            "<tr><td>Czérna Krisztián</td><td>krisztián.czérna@mail.hu</td><td>krisztian4</td></tr>",
                            "<tr><td>Bori Krisztina</td><td>krisztina.bori@mail.hu</td><td>krisztina1</td></tr>",
                            "<tr><td>Gyárfás Krisztina</td><td>KRISZTINAG@gmail.com</td><td>KRISZTINAG</td></tr>",
                            "<tr><td>Kiss Lajos</td><td>lajos.kiss@mail.hu</td><td>lajos</td></tr>",
                            "<tr><td>Nagymihály Lajos</td><td>lajos.nagymihály@mail.hu</td><td>lala</td></tr>",
                            "<tr><td>Móra László</td><td>lászló.móra@mail.hu</td><td>laszlo2</td></tr>",
                            "<tr><td>Antal László</td><td>lászló.antal@mail.hu</td><td>LASZLOA</td></tr>",
                            "<tr><td>Nagy László</td><td>lászló.nagy@mail.hu</td><td>LASZLON</td></tr>",
                            "<tr><td>Baráth Mária</td><td>mária.baráth@mail.hu</td><td>maria1</td></tr>",
                            "<tr><td>Kispál Márk</td><td>márk.kispál@mail.hu</td><td>mark</td></tr>",
                            "<tr><td>Horváth Márk</td><td>márk.horváth@mail.hu</td><td>MARKH</td></tr>",
                            "<tr><td>Kalacsi Márton</td><td>marton@gmail.com</td><td>marton</td></tr>",
                            "<tr><td>Koza Máté</td><td>máté.koza@mail.hu</td><td>MATEK</td></tr>",
                            "<tr><td>Botka Mátyás</td><td>matyas2@gmail.com</td><td>matyas2</td></tr>",
                            "<tr><td>Szilágyi Mátyás</td><td>mátyás.szilágyi@mail.hu</td><td>MATYASS</td></tr>",
                            "<tr><td>Juhász Mihály</td><td>mihály.juhász@mail.hu</td><td>MIHALYJ</td></tr>",
                            "<tr><td>Gondos Miklós</td><td>miklos2@gmail.com</td><td>miklos2</td></tr>",
                            "<tr><td>Balla Miklós</td><td>miklós.balla@mail.hu</td><td>MIKLOSB</td></tr>",
                            "<tr><td>Mohos Mónika</td><td>mónika.mohos@mail.hu</td><td>MONIKAM</td></tr>",
                            "<tr><td>Fő Nándor</td><td>nándor.fő@mail.hu</td><td>NANDORF</td></tr>",
                            "<tr><td>Horváth Nikolett</td><td>nikolett3@gmail.com</td><td>nikolett3</td></tr>",
                            "<tr><td>Kő Nikoletta</td><td>nikoletta4@gmail.com</td><td>nikoletta4</td></tr>",
                            "<tr><td>Tatár Nikoletta</td><td>nikoletta.tatár@mail.hu</td><td>NIKOLETTAT</td></tr>",
                            "<tr><td>Szűcs Norbert</td><td>norbert@gmail.com</td><td>norbert</td></tr>",
                            "<tr><td>Hegedűs Norbert</td><td>norbert.hegedűs@mail.hu</td><td>norbert2</td></tr>",
                            "<tr><td>Mile Norbert</td><td>norbert4@gmail.com</td><td>norbert4</td></tr>",
                            "<tr><td>Béres Norbert</td><td>norbert5@gmail.com</td><td>norbert5</td></tr>",
                            "<tr><td>Barabás Pál</td><td>pál.barabás@mail.hu</td><td>pal</td></tr>",
                            "<tr><td>Kozma Péter</td><td>peter1@gmail.com</td><td>peter1</td></tr>",
                            "<tr><td>Bozsó Péter</td><td>peter2@gmail.com</td><td>peter2</td></tr>",
                            "<tr><td>Szalai Péter</td><td>peter3@gmail.com</td><td>peter3</td></tr>",
                            "<tr><td>Bíró Péter</td><td>péter.bíró@mail.hu</td><td>peter4</td></tr>",
                            "<tr><td>Berendi Péter</td><td>péter.berendi@mail.hu</td><td>PETERB</td></tr>",
                            "<tr><td>Palágyi Polla</td><td>polla@gmail.com</td><td>polla</td></tr>",
                            "<tr><td>Rácz Rajmond</td><td>rajmond.rácz@mail.hu</td><td>rajmond4</td></tr>",
                            "<tr><td>Szikszai Réka</td><td>réka.szikszai@mail.hu</td><td>reka4</td></tr>",
                            "<tr><td>Szirmai Renáta</td><td>RENATAS@gmail.com</td><td>RENATAS</td></tr>",
                            "<tr><td>Patay Róbert</td><td>robert2@gmail.com</td><td>robert2</td></tr>",
                            "<tr><td>Iván Róbert</td><td>róbert.iván@mail.hu</td><td>ROBERTI</td></tr>",
                            "<tr><td>Tóth Roland</td><td>roland@gmail.com</td><td>roland</td></tr>",
                            "<tr><td>Ferencz Roland</td><td>roland.ferencz@mail.hu</td><td>roland1</td></tr>",
                            "<tr><td>Bucskó Róza</td><td>roza2@gmail.com</td><td>roza2</td></tr>",
                            "<tr><td>Karasz Sándor</td><td>sandor@gmail.com</td><td>sandor</td></tr>",
                            "<tr><td>Farkas Sándor</td><td>sándor.farkas@mail.hu</td><td>sandor3</td></tr>",
                            "<tr><td>Nagy Sándor</td><td>sandor4@gmail.com</td><td>sandor4</td></tr>",
                            "<tr><td>Farkas Sára</td><td>sára.farkas@mail.hu</td><td>sara</td></tr>",
                            "<tr><td>Foltényi Sebastián</td><td>SEBASTIANF@gmail.com</td><td>SEBASTIANF</td></tr>",
                            "<tr><td>Rab Sebestyén</td><td>sebestyen@gmail.com</td><td>sebestyen</td></tr>",
                            "<tr><td>Miklós Szabolcs</td><td>szabolcs.miklós@mail.hu</td><td>SZABOLCSM</td></tr>",
                            "<tr><td>Szalai Szilárd</td><td>szilárd.szalai@mail.hu</td><td>SZILARDS</td></tr>",
                            "<tr><td>Tari Szilvia</td><td>szilvia.tari@mail.hu</td><td>szilvia1</td></tr>",
                            "<tr><td>Miklós Tamara</td><td>tamara.miklós@mail.hu</td><td>tamara2</td></tr>",
                            "<tr><td>Antal Tamás</td><td>tamás.antal@mail.hu</td><td>tamas</td></tr>",
                            "<tr><td>Fényes Tamás</td><td>TAMASF@gmail.com</td><td>TAMASF</td></tr>",
                            "<tr><td>Gombos Tibor</td><td>tibor.gombos@mail.hu</td><td>tibor</td></tr>",
                            "<tr><td>Kazy Tihamér</td><td>tihamér.kazy@mail.hu</td><td>tihamer</td></tr>",
                            "<tr><td>Dusha Tímea</td><td>tímea.dusha@mail.hu</td><td>timea2</td></tr>",
                            "<tr><td>Turcsik Tünde</td><td>tunde@gmail.com</td><td>tunde</td></tr>",
                            "<tr><td>Feró Valentin</td><td>valentin.feró@mail.hu</td><td>valentin</td></tr>",
                            "<tr><td>Tankó Veronika</td><td>veronika4@gmail.com</td><td>veronika4</td></tr>",
                            "<tr><td>Boros Vivien</td><td>vivien3@gmail.com</td><td>vivien3</td></tr>",
                            "<tr><td>Fodor Zoltán</td><td>zoltán.fodor@mail.hu</td><td>zoltan</td></tr>",
                            "<tr><td>Pintér Zoltán</td><td>zoltán.pintér@mail.hu</td><td>ZOLTANP</td></tr>",
                            "<tr><td>Tóth Zoltán</td><td>zoltán.tóth@mail.hu</td><td>ZOLTANT</td></tr>",
                            "<tr><td>Molnár Zsófi</td><td>zsofi1@gmail.com</td><td>zsofi1</td></tr>",
                            "<tr><td>Józsa Zsolt</td><td>ZSOLTJ@gmail.com</td><td>ZSOLTJ</td></tr>",
                            "<tr><td>Pusztai Zsuzsanna</td><td>zsuzsanna@gmail.com</td><td>zsuzsa</td></tr>",
                            "<tr><td>Varsányi Zsuzsa</td><td>zsuzsa.varsányi@mail.hu</td><td>zsuzsa3</td></tr>",
                            "<tr><td>Barta Zsuzsanna</td><td>zsuzsanna.barta@mail.hu</td><td>zsuzsanna</td></tr>",
                            "<tr><td>Vajda Zsuzsa</td><td>zsuzsa.vajda@mail.hu</td><td>ZSUZSAV</td></tr>",
                            "</table>"
                        ]
                    }
                }
            ],
            "execution_count": 25
        },
        {
            "cell_type": "markdown",
            "source": [
                "2\\. feladat"
            ],
            "metadata": {
                "azdata_cell_guid": "8417540c-2eb5-4d04-a2ff-5478b73dcc76"
            },
            "attachments": {}
        },
        {
            "cell_type": "code",
            "source": [
                "SELECT SZALLAS_ID, SZALLAS_NEV\r\n",
                "FROM Szallashely sz\r\n",
                "WHERE CSILLAGOK_SZAMA = (\r\n",
                "    SELECT max(CSILLAGOK_SZAMA)\r\n",
                "    FROM Szallashely sz2\r\n",
                "    WHERE sz.HELY=sz2.HELY\r\n",
                ")"
            ],
            "metadata": {
                "azdata_cell_guid": "daed6656-e05c-45b4-bd75-82addb90168d",
                "language": "sql"
            },
            "outputs": [
                {
                    "output_type": "display_data",
                    "data": {
                        "text/html": "(11 rows affected)"
                    },
                    "metadata": {}
                },
                {
                    "output_type": "display_data",
                    "data": {
                        "text/html": "Total execution time: 00:00:00.011"
                    },
                    "metadata": {}
                },
                {
                    "output_type": "execute_result",
                    "metadata": {},
                    "execution_count": 9,
                    "data": {
                        "application/vnd.dataresource+json": {
                            "schema": {
                                "fields": [
                                    {
                                        "name": "SZALLAS_ID"
                                    },
                                    {
                                        "name": "SZALLAS_NEV"
                                    }
                                ]
                            },
                            "data": [
                                {
                                    "SZALLAS_ID": "17",
                                    "SZALLAS_NEV": "Szarvas Hotel"
                                },
                                {
                                    "SZALLAS_ID": "16",
                                    "SZALLAS_NEV": "Bagoly Hotel"
                                },
                                {
                                    "SZALLAS_ID": "3",
                                    "SZALLAS_NEV": "Fortuna Apartman"
                                },
                                {
                                    "SZALLAS_ID": "18",
                                    "SZALLAS_NEV": "Fortuna Apartman"
                                },
                                {
                                    "SZALLAS_ID": "19",
                                    "SZALLAS_NEV": "Nyárfás Vendégház"
                                },
                                {
                                    "SZALLAS_ID": "21",
                                    "SZALLAS_NEV": "Müller Vendégház"
                                },
                                {
                                    "SZALLAS_ID": "13",
                                    "SZALLAS_NEV": "Riviéra Panzió"
                                },
                                {
                                    "SZALLAS_ID": "10",
                                    "SZALLAS_NEV": "Lagúna Hotel"
                                },
                                {
                                    "SZALLAS_ID": "5",
                                    "SZALLAS_NEV": "Fortuna Panzió"
                                },
                                {
                                    "SZALLAS_ID": "11",
                                    "SZALLAS_NEV": "Partiszél Vendégház"
                                },
                                {
                                    "SZALLAS_ID": "8",
                                    "SZALLAS_NEV": "Hotel Három Hattyú"
                                }
                            ]
                        },
                        "text/html": [
                            "<table>",
                            "<tr><th>SZALLAS_ID</th><th>SZALLAS_NEV</th></tr>",
                            "<tr><td>17</td><td>Szarvas Hotel</td></tr>",
                            "<tr><td>16</td><td>Bagoly Hotel</td></tr>",
                            "<tr><td>3</td><td>Fortuna Apartman</td></tr>",
                            "<tr><td>18</td><td>Fortuna Apartman</td></tr>",
                            "<tr><td>19</td><td>Nyárfás Vendégház</td></tr>",
                            "<tr><td>21</td><td>Müller Vendégház</td></tr>",
                            "<tr><td>13</td><td>Riviéra Panzió</td></tr>",
                            "<tr><td>10</td><td>Lagúna Hotel</td></tr>",
                            "<tr><td>5</td><td>Fortuna Panzió</td></tr>",
                            "<tr><td>11</td><td>Partiszél Vendégház</td></tr>",
                            "<tr><td>8</td><td>Hotel Három Hattyú</td></tr>",
                            "</table>"
                        ]
                    }
                }
            ],
            "execution_count": 9
        },
        {
            "cell_type": "markdown",
            "source": [
                "3\\. feladat"
            ],
            "metadata": {
                "azdata_cell_guid": "4ad494f3-eedc-4cdc-a496-7e7f4a830a57"
            },
            "attachments": {}
        },
        {
            "cell_type": "code",
            "source": [
                "SELECT DISTINCT v.USERNEV, v.NEV, v.SZUL_DAT, \r\n",
                "FIRST_VALUE(f.METTOL) OVER(PARTITION BY f.UGYFEL_FK ORDER BY f.METTOL) AS 'Első foglalás dátuma',\r\n",
                "FIRST_VALUE(f.METTOL) OVER(PARTITION BY f.UGYFEL_FK ORDER BY f.METTOL DESC) AS 'Utolsó foglalás dátuma'\r\n",
                "FROM Vendeg v join Foglalas f on v.USERNEV=f.UGYFEL_FK"
            ],
            "metadata": {
                "azdata_cell_guid": "ac9dcbbf-ec70-43bd-bd84-dd7910c300a3",
                "language": "sql"
            },
            "outputs": [
                {
                    "output_type": "display_data",
                    "data": {
                        "text/html": "(195 rows affected)"
                    },
                    "metadata": {}
                },
                {
                    "output_type": "display_data",
                    "data": {
                        "text/html": "Total execution time: 00:00:00.055"
                    },
                    "metadata": {}
                },
                {
                    "output_type": "execute_result",
                    "metadata": {},
                    "execution_count": 12,
                    "data": {
                        "application/vnd.dataresource+json": {
                            "schema": {
                                "fields": [
                                    {
                                        "name": "USERNEV"
                                    },
                                    {
                                        "name": "NEV"
                                    },
                                    {
                                        "name": "SZUL_DAT"
                                    },
                                    {
                                        "name": "Első foglalás dátuma"
                                    },
                                    {
                                        "name": "Utolsó foglalás dátuma"
                                    }
                                ]
                            },
                            "data": [
                                {
                                    "USERNEV": "adam1",
                                    "NEV": "Kiss Ádám",
                                    "SZUL_DAT": "1991-12-28",
                                    "Első foglalás dátuma": "2016-05-28",
                                    "Utolsó foglalás dátuma": "2016-10-19"
                                },
                                {
                                    "USERNEV": "adam3",
                                    "NEV": "Barkóci Ádám",
                                    "SZUL_DAT": "1970-06-07",
                                    "Első foglalás dátuma": "2016-09-12",
                                    "Utolsó foglalás dátuma": "2017-02-06"
                                },
                                {
                                    "USERNEV": "adam4",
                                    "NEV": "Bieniek Ádám",
                                    "SZUL_DAT": "1976-08-01",
                                    "Első foglalás dátuma": "2016-08-28",
                                    "Utolsó foglalás dátuma": "2017-02-23"
                                },
                                {
                                    "USERNEV": "agnes",
                                    "NEV": "Lengyel Ágnes",
                                    "SZUL_DAT": "1979-12-10",
                                    "Első foglalás dátuma": "2016-05-09",
                                    "Utolsó foglalás dátuma": "2016-11-07"
                                },
                                {
                                    "USERNEV": "agnes3",
                                    "NEV": "Hartyánszky Ágnes",
                                    "SZUL_DAT": "1967-04-11",
                                    "Első foglalás dátuma": "2016-08-04",
                                    "Utolsó foglalás dátuma": "2017-02-16"
                                },
                                {
                                    "USERNEV": "AGNESH",
                                    "NEV": "Horváth Ágnes",
                                    "SZUL_DAT": "1981-12-24",
                                    "Első foglalás dátuma": "2016-04-10",
                                    "Utolsó foglalás dátuma": "2017-01-16"
                                },
                                {
                                    "USERNEV": "AGNESK",
                                    "NEV": "Kovács Ágnes",
                                    "SZUL_DAT": "1988-10-02",
                                    "Első foglalás dátuma": "2016-07-29",
                                    "Utolsó foglalás dátuma": "2016-12-17"
                                },
                                {
                                    "USERNEV": "akos",
                                    "NEV": "Bíró Ákos",
                                    "SZUL_DAT": "1982-04-24",
                                    "Első foglalás dátuma": "2016-05-18",
                                    "Utolsó foglalás dátuma": "2016-12-29"
                                },
                                {
                                    "USERNEV": "aladar",
                                    "NEV": "Dunai Aladár",
                                    "SZUL_DAT": "1980-11-01",
                                    "Első foglalás dátuma": "2016-05-17",
                                    "Utolsó foglalás dátuma": "2016-11-22"
                                },
                                {
                                    "USERNEV": "alexandra",
                                    "NEV": "Bagóczki Alexandra",
                                    "SZUL_DAT": "1992-03-25",
                                    "Első foglalás dátuma": "2016-05-21",
                                    "Utolsó foglalás dátuma": "2017-01-19"
                                },
                                {
                                    "USERNEV": "andi",
                                    "NEV": "Maródi Andrea",
                                    "SZUL_DAT": "1968-05-07",
                                    "Első foglalás dátuma": "2016-05-08",
                                    "Utolsó foglalás dátuma": "2017-01-13"
                                },
                                {
                                    "USERNEV": "andras2",
                                    "NEV": "Tóth András",
                                    "SZUL_DAT": "1997-10-31",
                                    "Első foglalás dátuma": "2016-05-30",
                                    "Utolsó foglalás dátuma": "2017-02-08"
                                },
                                {
                                    "USERNEV": "andras21",
                                    "NEV": "Molnár András",
                                    "SZUL_DAT": "1977-11-16",
                                    "Első foglalás dátuma": "2016-06-21",
                                    "Utolsó foglalás dátuma": "2017-01-28"
                                },
                                {
                                    "USERNEV": "andras3",
                                    "NEV": "Vígh András",
                                    "SZUL_DAT": "1971-04-02",
                                    "Első foglalás dátuma": "2016-05-01",
                                    "Utolsó foglalás dátuma": "2017-02-02"
                                },
                                {
                                    "USERNEV": "andras4",
                                    "NEV": "Back András",
                                    "SZUL_DAT": "1984-04-07",
                                    "Első foglalás dátuma": "2016-09-17",
                                    "Utolsó foglalás dátuma": "2017-01-09"
                                },
                                {
                                    "USERNEV": "andras41",
                                    "NEV": "Komjáti András",
                                    "SZUL_DAT": "1997-10-25",
                                    "Első foglalás dátuma": "2016-05-14",
                                    "Utolsó foglalás dátuma": "2016-11-23"
                                },
                                {
                                    "USERNEV": "ANDRASE",
                                    "NEV": "Erdei András",
                                    "SZUL_DAT": "1997-05-29",
                                    "Első foglalás dátuma": "2016-04-24",
                                    "Utolsó foglalás dátuma": "2016-11-29"
                                },
                                {
                                    "USERNEV": "ANDRASN",
                                    "NEV": "Nagy András",
                                    "SZUL_DAT": "1980-09-05",
                                    "Első foglalás dátuma": "2016-11-25",
                                    "Utolsó foglalás dátuma": "2016-11-25"
                                },
                                {
                                    "USERNEV": "andrea",
                                    "NEV": "Kiss Andrea",
                                    "SZUL_DAT": "1993-03-25",
                                    "Első foglalás dátuma": "2016-07-27",
                                    "Utolsó foglalás dátuma": "2017-02-09"
                                },
                                {
                                    "USERNEV": "andrea3",
                                    "NEV": "Szomor Andrea",
                                    "SZUL_DAT": "1996-05-10",
                                    "Első foglalás dátuma": "2016-11-19",
                                    "Utolsó foglalás dátuma": "2016-11-19"
                                },
                                {
                                    "USERNEV": "andrea4",
                                    "NEV": "Neizer Andrea",
                                    "SZUL_DAT": "1981-05-17",
                                    "Első foglalás dátuma": "2016-05-27",
                                    "Utolsó foglalás dátuma": "2017-01-22"
                                },
                                {
                                    "USERNEV": "ANDREAT",
                                    "NEV": "Tornyos Andrea",
                                    "SZUL_DAT": "1986-11-14",
                                    "Első foglalás dátuma": "2016-07-27",
                                    "Utolsó foglalás dátuma": "2016-10-08"
                                },
                                {
                                    "USERNEV": "anett3",
                                    "NEV": "Pivarcsi Anett",
                                    "SZUL_DAT": "1967-01-03",
                                    "Első foglalás dátuma": "2016-04-10",
                                    "Utolsó foglalás dátuma": "2016-10-16"
                                },
                                {
                                    "USERNEV": "aniko",
                                    "NEV": "Tóth Anikó",
                                    "SZUL_DAT": "1973-06-03",
                                    "Első foglalás dátuma": "2016-06-25",
                                    "Utolsó foglalás dátuma": "2017-02-23"
                                },
                                {
                                    "USERNEV": "aniko4",
                                    "NEV": "Böröcz Anikó",
                                    "SZUL_DAT": "1978-03-26",
                                    "Első foglalás dátuma": "2016-07-02",
                                    "Utolsó foglalás dátuma": "2016-10-16"
                                },
                                {
                                    "USERNEV": "ANIKOS",
                                    "NEV": "Simon Anikó",
                                    "SZUL_DAT": "1988-12-14",
                                    "Első foglalás dátuma": "2016-04-19",
                                    "Utolsó foglalás dátuma": "2016-11-10"
                                },
                                {
                                    "USERNEV": "anita",
                                    "NEV": "Hamvay-Kovács Anita",
                                    "SZUL_DAT": "1971-03-20",
                                    "Első foglalás dátuma": "2016-09-28",
                                    "Utolsó foglalás dátuma": "2017-02-20"
                                },
                                {
                                    "USERNEV": "annamaria1",
                                    "NEV": "Szűcs Annamária",
                                    "SZUL_DAT": "1990-04-27",
                                    "Első foglalás dátuma": "2016-06-06",
                                    "Utolsó foglalás dátuma": "2017-01-30"
                                },
                                {
                                    "USERNEV": "ANNAMARIAR",
                                    "NEV": "Regős Annamária",
                                    "SZUL_DAT": "1977-09-26",
                                    "Első foglalás dátuma": "2016-06-08",
                                    "Utolsó foglalás dátuma": "2017-02-16"
                                },
                                {
                                    "USERNEV": "aron2",
                                    "NEV": "Jakab Áron",
                                    "SZUL_DAT": "1971-04-26",
                                    "Első foglalás dátuma": "2016-04-11",
                                    "Utolsó foglalás dátuma": "2017-02-26"
                                },
                                {
                                    "USERNEV": "ARONK",
                                    "NEV": "Kelemen Áron",
                                    "SZUL_DAT": "1989-08-10",
                                    "Első foglalás dátuma": "2016-04-06",
                                    "Utolsó foglalás dátuma": "2017-02-21"
                                },
                                {
                                    "USERNEV": "arpad2",
                                    "NEV": "Ötvös Árpád",
                                    "SZUL_DAT": "1990-06-08",
                                    "Első foglalás dátuma": "2016-06-05",
                                    "Utolsó foglalás dátuma": "2017-02-18"
                                },
                                {
                                    "USERNEV": "ARPADH",
                                    "NEV": "Horváth Árpád",
                                    "SZUL_DAT": "1990-05-18",
                                    "Első foglalás dátuma": "2016-06-06",
                                    "Utolsó foglalás dátuma": "2017-02-16"
                                },
                                {
                                    "USERNEV": "ARPADM",
                                    "NEV": "Móricz Árpád",
                                    "SZUL_DAT": "1986-04-20",
                                    "Első foglalás dátuma": "2016-05-29",
                                    "Utolsó foglalás dátuma": "2017-02-12"
                                },
                                {
                                    "USERNEV": "attila",
                                    "NEV": "Csóti Attila",
                                    "SZUL_DAT": "1979-12-25",
                                    "Első foglalás dátuma": "2016-09-30",
                                    "Utolsó foglalás dátuma": "2016-12-22"
                                },
                                {
                                    "USERNEV": "attila1",
                                    "NEV": "Gulyás Attila",
                                    "SZUL_DAT": "1982-08-16",
                                    "Első foglalás dátuma": "2016-05-20",
                                    "Utolsó foglalás dátuma": "2017-01-23"
                                },
                                {
                                    "USERNEV": "attila4",
                                    "NEV": "Baróti Attila",
                                    "SZUL_DAT": "1975-11-06",
                                    "Első foglalás dátuma": "2016-08-18",
                                    "Utolsó foglalás dátuma": "2017-02-15"
                                },
                                {
                                    "USERNEV": "ATTILAO",
                                    "NEV": "Opra Attila",
                                    "SZUL_DAT": "1995-05-08",
                                    "Első foglalás dátuma": "2016-05-21",
                                    "Utolsó foglalás dátuma": "2017-02-22"
                                },
                                {
                                    "USERNEV": "balazs1",
                                    "NEV": "Bozsik Balázs",
                                    "SZUL_DAT": "1992-11-03",
                                    "Első foglalás dátuma": "2016-05-07",
                                    "Utolsó foglalás dátuma": "2017-02-12"
                                },
                                {
                                    "USERNEV": "balazs2",
                                    "NEV": "Szűcs Balázs",
                                    "SZUL_DAT": "1984-10-31",
                                    "Első foglalás dátuma": "2016-04-16",
                                    "Utolsó foglalás dátuma": "2017-02-27"
                                },
                                {
                                    "USERNEV": "balazs3",
                                    "NEV": "Bakódy Balázs",
                                    "SZUL_DAT": "1986-09-09",
                                    "Első foglalás dátuma": "2016-07-17",
                                    "Utolsó foglalás dátuma": "2017-01-20"
                                },
                                {
                                    "USERNEV": "balint",
                                    "NEV": "Horváth Bálint",
                                    "SZUL_DAT": "1996-03-17",
                                    "Első foglalás dátuma": "2016-04-22",
                                    "Utolsó foglalás dátuma": "2016-11-24"
                                },
                                {
                                    "USERNEV": "balint1",
                                    "NEV": "Molnár Bálint",
                                    "SZUL_DAT": "1989-08-24",
                                    "Első foglalás dátuma": "2016-06-07",
                                    "Utolsó foglalás dátuma": "2017-01-03"
                                },
                                {
                                    "USERNEV": "balint2",
                                    "NEV": "Vukasinovity Bálint",
                                    "SZUL_DAT": "1997-09-03",
                                    "Első foglalás dátuma": "2016-07-21",
                                    "Utolsó foglalás dátuma": "2016-12-04"
                                },
                                {
                                    "USERNEV": "balu",
                                    "NEV": "Endresz Bálint",
                                    "SZUL_DAT": "1976-08-01",
                                    "Első foglalás dátuma": "2016-08-06",
                                    "Utolsó foglalás dátuma": "2016-12-22"
                                },
                                {
                                    "USERNEV": "beata4",
                                    "NEV": "Bagi Beáta",
                                    "SZUL_DAT": "1994-03-19",
                                    "Első foglalás dátuma": "2016-04-20",
                                    "Utolsó foglalás dátuma": "2016-10-03"
                                },
                                {
                                    "USERNEV": "BEATRIXK",
                                    "NEV": "Kerényi Beatrix",
                                    "SZUL_DAT": "1972-04-06",
                                    "Első foglalás dátuma": "2016-06-10",
                                    "Utolsó foglalás dátuma": "2017-02-08"
                                },
                                {
                                    "USERNEV": "BEATRIXS",
                                    "NEV": "Szekendi Beatrix",
                                    "SZUL_DAT": "1981-04-06",
                                    "Első foglalás dátuma": "2016-04-18",
                                    "Utolsó foglalás dátuma": "2017-02-03"
                                },
                                {
                                    "USERNEV": "BELAF",
                                    "NEV": "Farkas Béla",
                                    "SZUL_DAT": "1995-02-24",
                                    "Első foglalás dátuma": "2016-07-27",
                                    "Utolsó foglalás dátuma": "2016-12-06"
                                },
                                {
                                    "USERNEV": "bence",
                                    "NEV": "Győrffy Bence",
                                    "SZUL_DAT": "1987-07-09",
                                    "Első foglalás dátuma": "2016-05-08",
                                    "Utolsó foglalás dátuma": "2017-02-05"
                                },
                                {
                                    "USERNEV": "BENCEB",
                                    "NEV": "Bajusz Bence",
                                    "SZUL_DAT": "1973-06-21",
                                    "Első foglalás dátuma": "2016-05-14",
                                    "Utolsó foglalás dátuma": "2017-02-12"
                                },
                                {
                                    "USERNEV": "bernadett1",
                                    "NEV": "Simon Bernadett",
                                    "SZUL_DAT": "1984-10-13",
                                    "Első foglalás dátuma": "2016-06-12",
                                    "Utolsó foglalás dátuma": "2017-02-24"
                                },
                                {
                                    "USERNEV": "bernadett2",
                                    "NEV": "Kovács Bernadett",
                                    "SZUL_DAT": "1996-08-20",
                                    "Első foglalás dátuma": "2016-05-01",
                                    "Utolsó foglalás dátuma": "2017-01-24"
                                },
                                {
                                    "USERNEV": "BERNADETTO",
                                    "NEV": "Orbán Bernadett",
                                    "SZUL_DAT": "1987-12-07",
                                    "Első foglalás dátuma": "2016-04-10",
                                    "Utolsó foglalás dátuma": "2017-01-28"
                                },
                                {
                                    "USERNEV": "bertalan",
                                    "NEV": "Csiger Bertalan",
                                    "SZUL_DAT": "1977-10-15",
                                    "Első foglalás dátuma": "2016-05-18",
                                    "Utolsó foglalás dátuma": "2017-02-20"
                                },
                                {
                                    "USERNEV": "brigitta",
                                    "NEV": "Székely Brigitta",
                                    "SZUL_DAT": "1978-09-13",
                                    "Első foglalás dátuma": "2016-05-30",
                                    "Utolsó foglalás dátuma": "2017-01-23"
                                },
                                {
                                    "USERNEV": "brigitta3",
                                    "NEV": "Pataki Brigitta",
                                    "SZUL_DAT": "1991-05-23",
                                    "Első foglalás dátuma": "2016-06-01",
                                    "Utolsó foglalás dátuma": "2017-02-09"
                                },
                                {
                                    "USERNEV": "csongor3",
                                    "NEV": "Nagymihály Csongor",
                                    "SZUL_DAT": "1984-03-05",
                                    "Első foglalás dátuma": "2016-05-01",
                                    "Utolsó foglalás dátuma": "2017-02-13"
                                },
                                {
                                    "USERNEV": "dani",
                                    "NEV": "Vörös Dániel",
                                    "SZUL_DAT": "1986-10-14",
                                    "Első foglalás dátuma": "2016-06-06",
                                    "Utolsó foglalás dátuma": "2017-02-25"
                                },
                                {
                                    "USERNEV": "daniel",
                                    "NEV": "Rácz Dániel",
                                    "SZUL_DAT": "1978-11-28",
                                    "Első foglalás dátuma": "2016-04-10",
                                    "Utolsó foglalás dátuma": "2017-02-20"
                                },
                                {
                                    "USERNEV": "daniel1",
                                    "NEV": "Keszler Dániel",
                                    "SZUL_DAT": "1969-07-16",
                                    "Első foglalás dátuma": "2016-04-10",
                                    "Utolsó foglalás dátuma": "2017-03-01"
                                },
                                {
                                    "USERNEV": "david",
                                    "NEV": "Ambrus Dávid",
                                    "SZUL_DAT": "1974-02-11",
                                    "Első foglalás dátuma": "2016-05-18",
                                    "Utolsó foglalás dátuma": "2017-01-18"
                                },
                                {
                                    "USERNEV": "david1",
                                    "NEV": "Sobják Dávid",
                                    "SZUL_DAT": "1970-08-16",
                                    "Első foglalás dátuma": "2016-09-20",
                                    "Utolsó foglalás dátuma": "2017-02-25"
                                },
                                {
                                    "USERNEV": "david4",
                                    "NEV": "Berta Dávid",
                                    "SZUL_DAT": "1990-10-08",
                                    "Első foglalás dátuma": "2017-02-16",
                                    "Utolsó foglalás dátuma": "2017-02-16"
                                },
                                {
                                    "USERNEV": "debora",
                                    "NEV": "Barna Debóra",
                                    "SZUL_DAT": "1976-10-14",
                                    "Első foglalás dátuma": "2016-06-22",
                                    "Utolsó foglalás dátuma": "2017-02-04"
                                },
                                {
                                    "USERNEV": "denes",
                                    "NEV": "Tömböly Dénes",
                                    "SZUL_DAT": "1975-03-14",
                                    "Első foglalás dátuma": "2016-05-27",
                                    "Utolsó foglalás dátuma": "2016-11-06"
                                },
                                {
                                    "USERNEV": "dora3",
                                    "NEV": "Sarodi Dóra",
                                    "SZUL_DAT": "1995-05-18",
                                    "Első foglalás dátuma": "2016-08-16",
                                    "Utolsó foglalás dátuma": "2016-11-22"
                                },
                                {
                                    "USERNEV": "edit",
                                    "NEV": "Bittmann Edit",
                                    "SZUL_DAT": "1984-04-20",
                                    "Első foglalás dátuma": "2016-07-14",
                                    "Utolsó foglalás dátuma": "2017-02-08"
                                },
                                {
                                    "USERNEV": "emese",
                                    "NEV": "Kuruc Emese",
                                    "SZUL_DAT": "1989-08-10",
                                    "Első foglalás dátuma": "2016-07-22",
                                    "Utolsó foglalás dátuma": "2017-01-30"
                                },
                                {
                                    "USERNEV": "eszter",
                                    "NEV": "Molnár Eszter",
                                    "SZUL_DAT": "1987-05-10",
                                    "Első foglalás dátuma": "2016-08-12",
                                    "Utolsó foglalás dátuma": "2016-12-23"
                                },
                                {
                                    "USERNEV": "eszter2",
                                    "NEV": "Balogh Eszter",
                                    "SZUL_DAT": "1998-01-31",
                                    "Első foglalás dátuma": "2016-06-30",
                                    "Utolsó foglalás dátuma": "2016-12-29"
                                },
                                {
                                    "USERNEV": "eszter4",
                                    "NEV": "Fülöp Eszter",
                                    "SZUL_DAT": "1993-06-28",
                                    "Első foglalás dátuma": "2017-01-05",
                                    "Utolsó foglalás dátuma": "2017-02-26"
                                },
                                {
                                    "USERNEV": "ESZTERE",
                                    "NEV": "Érsek Eszter",
                                    "SZUL_DAT": "1978-08-28",
                                    "Első foglalás dátuma": "2016-05-30",
                                    "Utolsó foglalás dátuma": "2017-02-10"
                                },
                                {
                                    "USERNEV": "eva",
                                    "NEV": "Enyedi Éva",
                                    "SZUL_DAT": "1967-06-30",
                                    "Első foglalás dátuma": "2016-10-06",
                                    "Utolsó foglalás dátuma": "2017-01-14"
                                },
                                {
                                    "USERNEV": "eva2",
                                    "NEV": "Perlinger Éva",
                                    "SZUL_DAT": "1971-08-19",
                                    "Első foglalás dátuma": "2016-09-02",
                                    "Utolsó foglalás dátuma": "2017-01-06"
                                },
                                {
                                    "USERNEV": "EVAV",
                                    "NEV": "Viktor Éva",
                                    "SZUL_DAT": "1980-12-26",
                                    "Első foglalás dátuma": "2016-05-01",
                                    "Utolsó foglalás dátuma": "2017-02-04"
                                },
                                {
                                    "USERNEV": "ferenc1",
                                    "NEV": "Orosz Ferenc",
                                    "SZUL_DAT": "1983-10-08",
                                    "Első foglalás dátuma": "2016-05-08",
                                    "Utolsó foglalás dátuma": "2016-11-07"
                                },
                                {
                                    "USERNEV": "fruzsina4",
                                    "NEV": "Frank Fruzsina",
                                    "SZUL_DAT": "1996-08-16",
                                    "Első foglalás dátuma": "2016-06-02",
                                    "Utolsó foglalás dátuma": "2017-01-22"
                                },
                                {
                                    "USERNEV": "gabor1",
                                    "NEV": "Köves Gábor",
                                    "SZUL_DAT": "1973-07-15",
                                    "Első foglalás dátuma": "2016-06-20",
                                    "Utolsó foglalás dátuma": "2016-11-19"
                                },
                                {
                                    "USERNEV": "gabor4",
                                    "NEV": "Telek Gábor",
                                    "SZUL_DAT": "1987-03-15",
                                    "Első foglalás dátuma": "2016-04-26",
                                    "Utolsó foglalás dátuma": "2016-11-07"
                                },
                                {
                                    "USERNEV": "gabriella1",
                                    "NEV": "Nagy Gabriella",
                                    "SZUL_DAT": "1982-11-01",
                                    "Első foglalás dátuma": "2016-04-21",
                                    "Utolsó foglalás dátuma": "2017-02-21"
                                },
                                {
                                    "USERNEV": "gabriella10",
                                    "NEV": "Vida Gabriella",
                                    "SZUL_DAT": "1969-06-18",
                                    "Első foglalás dátuma": "2016-10-01",
                                    "Utolsó foglalás dátuma": "2016-10-01"
                                },
                                {
                                    "USERNEV": "georgij",
                                    "NEV": "Nyíri Georgij",
                                    "SZUL_DAT": "1983-02-23",
                                    "Első foglalás dátuma": "2016-06-16",
                                    "Utolsó foglalás dátuma": "2016-09-18"
                                },
                                {
                                    "USERNEV": "gusztav",
                                    "NEV": "Bárci Gusztáv",
                                    "SZUL_DAT": "1967-02-25",
                                    "Első foglalás dátuma": "2016-05-06",
                                    "Utolsó foglalás dátuma": "2017-02-23"
                                },
                                {
                                    "USERNEV": "GYONGYIK",
                                    "NEV": "Kornseé Gyöngyi",
                                    "SZUL_DAT": "1974-06-07",
                                    "Első foglalás dátuma": "2016-06-02",
                                    "Utolsó foglalás dátuma": "2017-01-22"
                                },
                                {
                                    "USERNEV": "GYORGYO",
                                    "NEV": "Oroszi György",
                                    "SZUL_DAT": "1980-03-23",
                                    "Első foglalás dátuma": "2016-05-27",
                                    "Utolsó foglalás dátuma": "2017-02-24"
                                },
                                {
                                    "USERNEV": "henrik3",
                                    "NEV": "Nádudvari Henrik",
                                    "SZUL_DAT": "1986-12-05",
                                    "Első foglalás dátuma": "2016-08-24",
                                    "Utolsó foglalás dátuma": "2017-01-27"
                                },
                                {
                                    "USERNEV": "IBOLYAA",
                                    "NEV": "Andor Ibolya",
                                    "SZUL_DAT": "1983-11-27",
                                    "Első foglalás dátuma": "2016-08-29",
                                    "Utolsó foglalás dátuma": "2017-01-17"
                                },
                                {
                                    "USERNEV": "ilona3",
                                    "NEV": "Bosnyák Ilona",
                                    "SZUL_DAT": "1990-08-06",
                                    "Első foglalás dátuma": "2016-07-31",
                                    "Utolsó foglalás dátuma": "2016-12-25"
                                },
                                {
                                    "USERNEV": "imre",
                                    "NEV": "Búza Imre",
                                    "SZUL_DAT": "1988-09-30",
                                    "Első foglalás dátuma": "2016-09-17",
                                    "Utolsó foglalás dátuma": "2016-10-28"
                                },
                                {
                                    "USERNEV": "imre1",
                                    "NEV": "Papp Imre",
                                    "SZUL_DAT": "1976-06-25",
                                    "Első foglalás dátuma": "2016-06-23",
                                    "Utolsó foglalás dátuma": "2017-02-05"
                                },
                                {
                                    "USERNEV": "istvan",
                                    "NEV": "Soós István",
                                    "SZUL_DAT": "1986-06-28",
                                    "Első foglalás dátuma": "2016-10-07",
                                    "Utolsó foglalás dátuma": "2017-01-02"
                                },
                                {
                                    "USERNEV": "istvan1",
                                    "NEV": "Vizi István",
                                    "SZUL_DAT": "1997-12-01",
                                    "Első foglalás dátuma": "2016-04-16",
                                    "Utolsó foglalás dátuma": "2017-02-07"
                                },
                                {
                                    "USERNEV": "ISTVANV",
                                    "NEV": "Varga István",
                                    "SZUL_DAT": "1989-04-09",
                                    "Első foglalás dátuma": "2016-07-01",
                                    "Utolsó foglalás dátuma": "2016-09-29"
                                },
                                {
                                    "USERNEV": "janos3",
                                    "NEV": "Harangozó János",
                                    "SZUL_DAT": "1967-11-02",
                                    "Első foglalás dátuma": "2016-06-04",
                                    "Utolsó foglalás dátuma": "2017-02-12"
                                },
                                {
                                    "USERNEV": "JANOSG",
                                    "NEV": "Giliga János",
                                    "SZUL_DAT": "1975-01-03",
                                    "Első foglalás dátuma": "2016-05-09",
                                    "Utolsó foglalás dátuma": "2017-01-31"
                                },
                                {
                                    "USERNEV": "JANOSP",
                                    "NEV": "Pálinkás János",
                                    "SZUL_DAT": "1984-10-12",
                                    "Első foglalás dátuma": "2016-07-04",
                                    "Utolsó foglalás dátuma": "2016-12-18"
                                },
                                {
                                    "USERNEV": "jozsef",
                                    "NEV": "Gergely József",
                                    "SZUL_DAT": "1985-11-01",
                                    "Első foglalás dátuma": "2016-09-13",
                                    "Utolsó foglalás dátuma": "2016-12-06"
                                },
                                {
                                    "USERNEV": "jozsef2",
                                    "NEV": "Vajda József",
                                    "SZUL_DAT": "1978-09-04",
                                    "Első foglalás dátuma": "2016-07-06",
                                    "Utolsó foglalás dátuma": "2016-11-25"
                                },
                                {
                                    "USERNEV": "JOZSEFG",
                                    "NEV": "Gyuris József",
                                    "SZUL_DAT": "1975-05-26",
                                    "Első foglalás dátuma": "2016-05-02",
                                    "Utolsó foglalás dátuma": "2017-02-24"
                                },
                                {
                                    "USERNEV": "JUDITH",
                                    "NEV": "Hídasi Judit",
                                    "SZUL_DAT": "1997-07-12",
                                    "Első foglalás dátuma": "2016-06-06",
                                    "Utolsó foglalás dátuma": "2016-12-19"
                                },
                                {
                                    "USERNEV": "julia",
                                    "NEV": "Tóth Júlia",
                                    "SZUL_DAT": "1993-03-02",
                                    "Első foglalás dátuma": "2016-04-21",
                                    "Utolsó foglalás dátuma": "2017-02-27"
                                },
                                {
                                    "USERNEV": "julia4",
                                    "NEV": "Nagy Júlia",
                                    "SZUL_DAT": "1985-08-11",
                                    "Első foglalás dátuma": "2016-11-07",
                                    "Utolsó foglalás dátuma": "2017-02-04"
                                },
                                {
                                    "USERNEV": "julianna4",
                                    "NEV": "Szabó Julianna",
                                    "SZUL_DAT": "1990-09-29",
                                    "Első foglalás dátuma": "2016-07-20",
                                    "Utolsó foglalás dátuma": "2016-11-27"
                                },
                                {
                                    "USERNEV": "kata",
                                    "NEV": "Gondos Katalin",
                                    "SZUL_DAT": "1968-06-22",
                                    "Első foglalás dátuma": "2016-04-10",
                                    "Utolsó foglalás dátuma": "2017-01-15"
                                },
                                {
                                    "USERNEV": "katalin",
                                    "NEV": "Horváth Katalin",
                                    "SZUL_DAT": "1968-01-01",
                                    "Első foglalás dátuma": "2016-04-10",
                                    "Utolsó foglalás dátuma": "2017-02-24"
                                },
                                {
                                    "USERNEV": "katalin4",
                                    "NEV": "Kertész Katalin",
                                    "SZUL_DAT": "1986-04-13",
                                    "Első foglalás dátuma": "2016-07-01",
                                    "Utolsó foglalás dátuma": "2017-01-24"
                                },
                                {
                                    "USERNEV": "kati",
                                    "NEV": "Zatykó Katalin",
                                    "SZUL_DAT": "1995-05-01",
                                    "Első foglalás dátuma": "2016-06-06",
                                    "Utolsó foglalás dátuma": "2016-10-30"
                                },
                                {
                                    "USERNEV": "katka",
                                    "NEV": "Kovács Katalin",
                                    "SZUL_DAT": "1975-03-31",
                                    "Első foglalás dátuma": "2016-04-10",
                                    "Utolsó foglalás dátuma": "2017-01-19"
                                },
                                {
                                    "USERNEV": "klaudia2",
                                    "NEV": "Bakó Klaudia",
                                    "SZUL_DAT": "1982-04-16",
                                    "Első foglalás dátuma": "2016-06-06",
                                    "Utolsó foglalás dátuma": "2016-10-02"
                                },
                                {
                                    "USERNEV": "kornel4",
                                    "NEV": "Lukács Kornél",
                                    "SZUL_DAT": "1975-09-30",
                                    "Első foglalás dátuma": "2016-05-08",
                                    "Utolsó foglalás dátuma": "2016-09-23"
                                },
                                {
                                    "USERNEV": "kristof4",
                                    "NEV": "Poprádi Kristóf",
                                    "SZUL_DAT": "1984-01-15",
                                    "Első foglalás dátuma": "2016-04-08",
                                    "Utolsó foglalás dátuma": "2016-09-30"
                                },
                                {
                                    "USERNEV": "kriszti",
                                    "NEV": "Horváth Krisztina",
                                    "SZUL_DAT": "1978-06-12",
                                    "Első foglalás dátuma": "2016-05-19",
                                    "Utolsó foglalás dátuma": "2017-03-03"
                                },
                                {
                                    "USERNEV": "krisztian4",
                                    "NEV": "Czérna Krisztián",
                                    "SZUL_DAT": "1970-08-01",
                                    "Első foglalás dátuma": "2016-06-03",
                                    "Utolsó foglalás dátuma": "2017-02-23"
                                },
                                {
                                    "USERNEV": "KRISZTIANM",
                                    "NEV": "Mogyródi Krisztián",
                                    "SZUL_DAT": "1968-05-27",
                                    "Első foglalás dátuma": "2016-04-09",
                                    "Utolsó foglalás dátuma": "2017-01-16"
                                },
                                {
                                    "USERNEV": "krisztina",
                                    "NEV": "Szedlár Krisztina",
                                    "SZUL_DAT": "1979-05-10",
                                    "Első foglalás dátuma": "2016-05-21",
                                    "Utolsó foglalás dátuma": "2017-02-16"
                                },
                                {
                                    "USERNEV": "krisztina1",
                                    "NEV": "Bori Krisztina",
                                    "SZUL_DAT": "1969-10-13",
                                    "Első foglalás dátuma": "2016-04-28",
                                    "Utolsó foglalás dátuma": "2017-01-21"
                                },
                                {
                                    "USERNEV": "KRISZTINAG",
                                    "NEV": "Gyárfás Krisztina",
                                    "SZUL_DAT": "1987-09-19",
                                    "Első foglalás dátuma": "2016-04-23",
                                    "Utolsó foglalás dátuma": "2017-01-25"
                                },
                                {
                                    "USERNEV": "lajos",
                                    "NEV": "Kiss Lajos",
                                    "SZUL_DAT": "1978-10-31",
                                    "Első foglalás dátuma": "2016-07-18",
                                    "Utolsó foglalás dátuma": "2017-02-12"
                                },
                                {
                                    "USERNEV": "lala",
                                    "NEV": "Nagymihály Lajos",
                                    "SZUL_DAT": "1997-02-24",
                                    "Első foglalás dátuma": "2016-06-16",
                                    "Utolsó foglalás dátuma": "2017-01-17"
                                },
                                {
                                    "USERNEV": "laszlo1",
                                    "NEV": "Farkas László",
                                    "SZUL_DAT": "1967-10-30",
                                    "Első foglalás dátuma": "2016-09-23",
                                    "Utolsó foglalás dátuma": "2016-09-23"
                                },
                                {
                                    "USERNEV": "laszlo2",
                                    "NEV": "Móra László",
                                    "SZUL_DAT": "1975-02-19",
                                    "Első foglalás dátuma": "2016-04-06",
                                    "Utolsó foglalás dátuma": "2016-11-25"
                                },
                                {
                                    "USERNEV": "LASZLOA",
                                    "NEV": "Antal László",
                                    "SZUL_DAT": "1969-06-29",
                                    "Első foglalás dátuma": "2016-06-03",
                                    "Utolsó foglalás dátuma": "2017-02-08"
                                },
                                {
                                    "USERNEV": "LASZLON",
                                    "NEV": "Nagy László",
                                    "SZUL_DAT": "1969-04-12",
                                    "Első foglalás dátuma": "2016-06-03",
                                    "Utolsó foglalás dátuma": "2017-02-18"
                                },
                                {
                                    "USERNEV": "maria1",
                                    "NEV": "Baráth Mária",
                                    "SZUL_DAT": "1995-11-19",
                                    "Első foglalás dátuma": "2016-05-13",
                                    "Utolsó foglalás dátuma": "2017-02-24"
                                },
                                {
                                    "USERNEV": "mark",
                                    "NEV": "Kispál Márk",
                                    "SZUL_DAT": "1996-01-23",
                                    "Első foglalás dátuma": "2016-04-19",
                                    "Utolsó foglalás dátuma": "2016-11-19"
                                },
                                {
                                    "USERNEV": "MARKH",
                                    "NEV": "Horváth Márk",
                                    "SZUL_DAT": "1997-09-23",
                                    "Első foglalás dátuma": "2016-09-14",
                                    "Utolsó foglalás dátuma": "2017-01-22"
                                },
                                {
                                    "USERNEV": "marton",
                                    "NEV": "Kalacsi Márton",
                                    "SZUL_DAT": "1989-06-24",
                                    "Első foglalás dátuma": "2016-04-27",
                                    "Utolsó foglalás dátuma": "2017-03-02"
                                },
                                {
                                    "USERNEV": "MATEK",
                                    "NEV": "Koza Máté",
                                    "SZUL_DAT": "1997-02-28",
                                    "Első foglalás dátuma": "2016-08-17",
                                    "Utolsó foglalás dátuma": "2017-01-16"
                                },
                                {
                                    "USERNEV": "matyas2",
                                    "NEV": "Botka Mátyás",
                                    "SZUL_DAT": "1972-07-07",
                                    "Első foglalás dátuma": "2016-07-13",
                                    "Utolsó foglalás dátuma": "2016-12-09"
                                },
                                {
                                    "USERNEV": "MATYASS",
                                    "NEV": "Szilágyi Mátyás",
                                    "SZUL_DAT": "1975-03-22",
                                    "Első foglalás dátuma": "2016-05-10",
                                    "Utolsó foglalás dátuma": "2017-01-09"
                                },
                                {
                                    "USERNEV": "MIHALYJ",
                                    "NEV": "Juhász Mihály",
                                    "SZUL_DAT": "1979-10-12",
                                    "Első foglalás dátuma": "2016-05-30",
                                    "Utolsó foglalás dátuma": "2017-02-06"
                                },
                                {
                                    "USERNEV": "miklos2",
                                    "NEV": "Gondos Miklós",
                                    "SZUL_DAT": "1995-10-07",
                                    "Első foglalás dátuma": "2016-04-19",
                                    "Utolsó foglalás dátuma": "2016-11-16"
                                },
                                {
                                    "USERNEV": "MIKLOSB",
                                    "NEV": "Balla Miklós",
                                    "SZUL_DAT": "1979-02-16",
                                    "Első foglalás dátuma": "2016-06-26",
                                    "Utolsó foglalás dátuma": "2016-12-05"
                                },
                                {
                                    "USERNEV": "MONIKAM",
                                    "NEV": "Mohos Mónika",
                                    "SZUL_DAT": "1974-10-01",
                                    "Első foglalás dátuma": "2016-04-29",
                                    "Utolsó foglalás dátuma": "2017-02-23"
                                },
                                {
                                    "USERNEV": "NANDORF",
                                    "NEV": "Fő Nándor",
                                    "SZUL_DAT": "1968-11-12",
                                    "Első foglalás dátuma": "2016-04-06",
                                    "Utolsó foglalás dátuma": "2017-02-05"
                                },
                                {
                                    "USERNEV": "nikolett3",
                                    "NEV": "Horváth Nikolett",
                                    "SZUL_DAT": "1981-09-29",
                                    "Első foglalás dátuma": "2016-05-24",
                                    "Utolsó foglalás dátuma": "2016-10-22"
                                },
                                {
                                    "USERNEV": "nikoletta4",
                                    "NEV": "Kő Nikoletta",
                                    "SZUL_DAT": "1972-01-10",
                                    "Első foglalás dátuma": "2016-04-08",
                                    "Utolsó foglalás dátuma": "2017-02-01"
                                },
                                {
                                    "USERNEV": "NIKOLETTAT",
                                    "NEV": "Tatár Nikoletta",
                                    "SZUL_DAT": "1997-10-19",
                                    "Első foglalás dátuma": "2016-05-22",
                                    "Utolsó foglalás dátuma": "2016-09-21"
                                },
                                {
                                    "USERNEV": "norbert",
                                    "NEV": "Szűcs Norbert",
                                    "SZUL_DAT": "1969-07-17",
                                    "Első foglalás dátuma": "2016-07-08",
                                    "Utolsó foglalás dátuma": "2017-02-26"
                                },
                                {
                                    "USERNEV": "norbert2",
                                    "NEV": "Hegedűs Norbert",
                                    "SZUL_DAT": "1991-07-17",
                                    "Első foglalás dátuma": "2016-04-19",
                                    "Utolsó foglalás dátuma": "2017-01-29"
                                },
                                {
                                    "USERNEV": "norbert4",
                                    "NEV": "Mile Norbert",
                                    "SZUL_DAT": "1983-06-15",
                                    "Első foglalás dátuma": "2016-04-10",
                                    "Utolsó foglalás dátuma": "2017-03-03"
                                },
                                {
                                    "USERNEV": "norbert5",
                                    "NEV": "Béres Norbert",
                                    "SZUL_DAT": "1975-07-27",
                                    "Első foglalás dátuma": "2016-06-24",
                                    "Utolsó foglalás dátuma": "2016-11-05"
                                },
                                {
                                    "USERNEV": "pal",
                                    "NEV": "Barabás Pál",
                                    "SZUL_DAT": "1968-02-06",
                                    "Első foglalás dátuma": "2016-08-14",
                                    "Utolsó foglalás dátuma": "2017-02-20"
                                },
                                {
                                    "USERNEV": "peter1",
                                    "NEV": "Kozma Péter",
                                    "SZUL_DAT": "1976-03-18",
                                    "Első foglalás dátuma": "2016-07-14",
                                    "Utolsó foglalás dátuma": "2017-02-28"
                                },
                                {
                                    "USERNEV": "peter2",
                                    "NEV": "Bozsó Péter",
                                    "SZUL_DAT": "1976-01-26",
                                    "Első foglalás dátuma": "2016-07-03",
                                    "Utolsó foglalás dátuma": "2016-11-15"
                                },
                                {
                                    "USERNEV": "peter3",
                                    "NEV": "Szalai Péter",
                                    "SZUL_DAT": "1983-07-18",
                                    "Első foglalás dátuma": "2016-06-30",
                                    "Utolsó foglalás dátuma": "2017-02-21"
                                },
                                {
                                    "USERNEV": "peter4",
                                    "NEV": "Bíró Péter",
                                    "SZUL_DAT": "1985-09-01",
                                    "Első foglalás dátuma": "2016-04-12",
                                    "Utolsó foglalás dátuma": "2017-02-05"
                                },
                                {
                                    "USERNEV": "PETERB",
                                    "NEV": "Berendi Péter",
                                    "SZUL_DAT": "1969-01-01",
                                    "Első foglalás dátuma": "2016-04-06",
                                    "Utolsó foglalás dátuma": "2016-11-17"
                                },
                                {
                                    "USERNEV": "polla",
                                    "NEV": "Palágyi Polla",
                                    "SZUL_DAT": "1994-02-04",
                                    "Első foglalás dátuma": "2016-04-17",
                                    "Utolsó foglalás dátuma": "2017-02-11"
                                },
                                {
                                    "USERNEV": "rajmond4",
                                    "NEV": "Rácz Rajmond",
                                    "SZUL_DAT": "1993-09-25",
                                    "Első foglalás dátuma": "2016-09-05",
                                    "Utolsó foglalás dátuma": "2016-11-16"
                                },
                                {
                                    "USERNEV": "reka4",
                                    "NEV": "Szikszai Réka",
                                    "SZUL_DAT": "1969-11-27",
                                    "Első foglalás dátuma": "2016-07-27",
                                    "Utolsó foglalás dátuma": "2017-02-26"
                                },
                                {
                                    "USERNEV": "RENATAK",
                                    "NEV": "Kardos Renáta",
                                    "SZUL_DAT": "1988-05-17",
                                    "Első foglalás dátuma": "2016-10-27",
                                    "Utolsó foglalás dátuma": "2017-03-01"
                                },
                                {
                                    "USERNEV": "RENATAS",
                                    "NEV": "Szirmai Renáta",
                                    "SZUL_DAT": "1991-03-26",
                                    "Első foglalás dátuma": "2016-05-04",
                                    "Utolsó foglalás dátuma": "2017-02-14"
                                },
                                {
                                    "USERNEV": "robert2",
                                    "NEV": "Patay Róbert",
                                    "SZUL_DAT": "1977-01-08",
                                    "Első foglalás dátuma": "2016-05-15",
                                    "Utolsó foglalás dátuma": "2016-12-17"
                                },
                                {
                                    "USERNEV": "ROBERTI",
                                    "NEV": "Iván Róbert",
                                    "SZUL_DAT": "1967-07-02",
                                    "Első foglalás dátuma": "2016-07-12",
                                    "Utolsó foglalás dátuma": "2017-02-17"
                                },
                                {
                                    "USERNEV": "ROBERTP",
                                    "NEV": "Pásztor Róbert",
                                    "SZUL_DAT": "1972-05-16",
                                    "Első foglalás dátuma": "2016-07-30",
                                    "Utolsó foglalás dátuma": "2016-09-08"
                                },
                                {
                                    "USERNEV": "roland",
                                    "NEV": "Tóth Roland",
                                    "SZUL_DAT": "1968-03-21",
                                    "Első foglalás dátuma": "2016-06-09",
                                    "Utolsó foglalás dátuma": "2016-11-19"
                                },
                                {
                                    "USERNEV": "roland1",
                                    "NEV": "Ferencz Roland",
                                    "SZUL_DAT": "1985-12-31",
                                    "Első foglalás dátuma": "2016-11-05",
                                    "Utolsó foglalás dátuma": "2017-01-16"
                                },
                                {
                                    "USERNEV": "roza2",
                                    "NEV": "Bucskó Róza",
                                    "SZUL_DAT": "1988-12-26",
                                    "Első foglalás dátuma": "2016-09-10",
                                    "Utolsó foglalás dátuma": "2017-02-18"
                                },
                                {
                                    "USERNEV": "sandor",
                                    "NEV": "Karasz Sándor",
                                    "SZUL_DAT": "1970-01-27",
                                    "Első foglalás dátuma": "2016-07-04",
                                    "Utolsó foglalás dátuma": "2016-09-19"
                                },
                                {
                                    "USERNEV": "sandor3",
                                    "NEV": "Farkas Sándor",
                                    "SZUL_DAT": "1989-01-27",
                                    "Első foglalás dátuma": "2016-05-12",
                                    "Utolsó foglalás dátuma": "2016-11-10"
                                },
                                {
                                    "USERNEV": "sandor4",
                                    "NEV": "Nagy Sándor",
                                    "SZUL_DAT": "1997-06-11",
                                    "Első foglalás dátuma": "2016-10-15",
                                    "Utolsó foglalás dátuma": "2017-01-22"
                                },
                                {
                                    "USERNEV": "sara",
                                    "NEV": "Farkas Sára",
                                    "SZUL_DAT": "1973-04-05",
                                    "Első foglalás dátuma": "2016-05-28",
                                    "Utolsó foglalás dátuma": "2016-12-25"
                                },
                                {
                                    "USERNEV": "SEBASTIANF",
                                    "NEV": "Foltényi Sebastián",
                                    "SZUL_DAT": "1992-09-09",
                                    "Első foglalás dátuma": "2016-04-06",
                                    "Utolsó foglalás dátuma": "2016-09-17"
                                },
                                {
                                    "USERNEV": "sebestyen",
                                    "NEV": "Rab Sebestyén",
                                    "SZUL_DAT": "1992-03-03",
                                    "Első foglalás dátuma": "2016-04-07",
                                    "Utolsó foglalás dátuma": "2016-10-26"
                                },
                                {
                                    "USERNEV": "szabolcs",
                                    "NEV": "Bodor Szabolcs",
                                    "SZUL_DAT": "1990-07-16",
                                    "Első foglalás dátuma": "2016-12-05",
                                    "Utolsó foglalás dátuma": "2016-12-05"
                                },
                                {
                                    "USERNEV": "SZABOLCSM",
                                    "NEV": "Miklós Szabolcs",
                                    "SZUL_DAT": "1980-08-11",
                                    "Első foglalás dátuma": "2016-06-18",
                                    "Utolsó foglalás dátuma": "2017-02-04"
                                },
                                {
                                    "USERNEV": "SZILARDS",
                                    "NEV": "Szalai Szilárd",
                                    "SZUL_DAT": "1967-09-28",
                                    "Első foglalás dátuma": "2016-04-23",
                                    "Utolsó foglalás dátuma": "2017-02-08"
                                },
                                {
                                    "USERNEV": "szilvia1",
                                    "NEV": "Tari Szilvia",
                                    "SZUL_DAT": "1971-03-09",
                                    "Első foglalás dátuma": "2016-05-14",
                                    "Utolsó foglalás dátuma": "2017-01-28"
                                },
                                {
                                    "USERNEV": "tamara2",
                                    "NEV": "Miklós Tamara",
                                    "SZUL_DAT": "1980-08-11",
                                    "Első foglalás dátuma": "2016-08-12",
                                    "Utolsó foglalás dátuma": "2016-11-15"
                                },
                                {
                                    "USERNEV": "tamas",
                                    "NEV": "Antal Tamás",
                                    "SZUL_DAT": "1984-09-05",
                                    "Első foglalás dátuma": "2016-05-17",
                                    "Utolsó foglalás dátuma": "2017-02-14"
                                },
                                {
                                    "USERNEV": "TAMASF",
                                    "NEV": "Fényes Tamás",
                                    "SZUL_DAT": "1997-11-06",
                                    "Első foglalás dátuma": "2016-05-03",
                                    "Utolsó foglalás dátuma": "2017-02-16"
                                },
                                {
                                    "USERNEV": "tibor",
                                    "NEV": "Gombos Tibor",
                                    "SZUL_DAT": "1993-11-28",
                                    "Első foglalás dátuma": "2016-10-09",
                                    "Utolsó foglalás dátuma": "2016-11-05"
                                },
                                {
                                    "USERNEV": "tibor2",
                                    "NEV": "Dániel Tibor",
                                    "SZUL_DAT": "1985-02-02",
                                    "Első foglalás dátuma": "2016-10-20",
                                    "Utolsó foglalás dátuma": "2016-10-20"
                                },
                                {
                                    "USERNEV": "tihamer",
                                    "NEV": "Kazy Tihamér",
                                    "SZUL_DAT": "1991-07-05",
                                    "Első foglalás dátuma": "2016-05-30",
                                    "Utolsó foglalás dátuma": "2016-12-25"
                                },
                                {
                                    "USERNEV": "timea",
                                    "NEV": "Papós Tímea",
                                    "SZUL_DAT": "1996-01-08",
                                    "Első foglalás dátuma": "2016-12-26",
                                    "Utolsó foglalás dátuma": "2016-12-26"
                                },
                                {
                                    "USERNEV": "timea2",
                                    "NEV": "Dusha Tímea",
                                    "SZUL_DAT": "1975-08-22",
                                    "Első foglalás dátuma": "2016-06-06",
                                    "Utolsó foglalás dátuma": "2016-12-14"
                                },
                                {
                                    "USERNEV": "tunde",
                                    "NEV": "Turcsik Tünde",
                                    "SZUL_DAT": "1974-02-12",
                                    "Első foglalás dátuma": "2016-06-03",
                                    "Utolsó foglalás dátuma": "2017-01-03"
                                },
                                {
                                    "USERNEV": "valentin",
                                    "NEV": "Feró Valentin",
                                    "SZUL_DAT": "1986-01-09",
                                    "Első foglalás dátuma": "2016-05-24",
                                    "Utolsó foglalás dátuma": "2016-12-01"
                                },
                                {
                                    "USERNEV": "veronika4",
                                    "NEV": "Tankó Veronika",
                                    "SZUL_DAT": "1983-08-28",
                                    "Első foglalás dátuma": "2016-05-30",
                                    "Utolsó foglalás dátuma": "2017-02-03"
                                },
                                {
                                    "USERNEV": "VIKTORIAU",
                                    "NEV": "Urbán Viktoria",
                                    "SZUL_DAT": "1996-05-03",
                                    "Első foglalás dátuma": "2016-04-30",
                                    "Utolsó foglalás dátuma": "2016-10-26"
                                },
                                {
                                    "USERNEV": "VIKTORK",
                                    "NEV": "Keresztúri Viktor",
                                    "SZUL_DAT": "1989-05-05",
                                    "Első foglalás dátuma": "2016-05-30",
                                    "Utolsó foglalás dátuma": "2016-06-06"
                                },
                                {
                                    "USERNEV": "vivien3",
                                    "NEV": "Boros Vivien",
                                    "SZUL_DAT": "1991-07-01",
                                    "Első foglalás dátuma": "2016-05-02",
                                    "Utolsó foglalás dátuma": "2016-12-24"
                                },
                                {
                                    "USERNEV": "zoltan",
                                    "NEV": "Fodor Zoltán",
                                    "SZUL_DAT": "1979-11-25",
                                    "Első foglalás dátuma": "2016-08-24",
                                    "Utolsó foglalás dátuma": "2016-09-05"
                                },
                                {
                                    "USERNEV": "zoltan4",
                                    "NEV": "Barna Zoltán",
                                    "SZUL_DAT": "1986-05-20",
                                    "Első foglalás dátuma": "2016-05-12",
                                    "Utolsó foglalás dátuma": "2017-01-01"
                                },
                                {
                                    "USERNEV": "ZOLTANP",
                                    "NEV": "Pintér Zoltán",
                                    "SZUL_DAT": "1977-06-07",
                                    "Első foglalás dátuma": "2016-06-05",
                                    "Utolsó foglalás dátuma": "2016-12-25"
                                },
                                {
                                    "USERNEV": "ZOLTANT",
                                    "NEV": "Tóth Zoltán",
                                    "SZUL_DAT": "1985-12-14",
                                    "Első foglalás dátuma": "2016-05-01",
                                    "Utolsó foglalás dátuma": "2017-01-16"
                                },
                                {
                                    "USERNEV": "zsofi1",
                                    "NEV": "Molnár Zsófi",
                                    "SZUL_DAT": "1983-11-17",
                                    "Első foglalás dátuma": "2016-06-16",
                                    "Utolsó foglalás dátuma": "2017-02-18"
                                },
                                {
                                    "USERNEV": "zsolt1",
                                    "NEV": "Pulai Zsolt",
                                    "SZUL_DAT": "1988-05-27",
                                    "Első foglalás dátuma": "2016-04-14",
                                    "Utolsó foglalás dátuma": "2016-07-31"
                                },
                                {
                                    "USERNEV": "ZSOLTJ",
                                    "NEV": "Józsa Zsolt",
                                    "SZUL_DAT": "1983-09-29",
                                    "Első foglalás dátuma": "2016-04-24",
                                    "Utolsó foglalás dátuma": "2016-10-01"
                                },
                                {
                                    "USERNEV": "zsuzsa",
                                    "NEV": "Pusztai Zsuzsanna",
                                    "SZUL_DAT": "1980-09-17",
                                    "Első foglalás dátuma": "2016-07-24",
                                    "Utolsó foglalás dátuma": "2016-11-28"
                                },
                                {
                                    "USERNEV": "zsuzsa3",
                                    "NEV": "Varsányi Zsuzsa",
                                    "SZUL_DAT": "1979-03-06",
                                    "Első foglalás dátuma": "2016-07-30",
                                    "Utolsó foglalás dátuma": "2016-10-27"
                                },
                                {
                                    "USERNEV": "zsuzsanna",
                                    "NEV": "Barta Zsuzsanna",
                                    "SZUL_DAT": "1994-10-07",
                                    "Első foglalás dátuma": "2016-05-17",
                                    "Utolsó foglalás dátuma": "2017-01-16"
                                },
                                {
                                    "USERNEV": "ZSUZSAV",
                                    "NEV": "Vajda Zsuzsa",
                                    "SZUL_DAT": "1976-12-11",
                                    "Első foglalás dátuma": "2016-04-14",
                                    "Utolsó foglalás dátuma": "2016-11-21"
                                }
                            ]
                        },
                        "text/html": [
                            "<table>",
                            "<tr><th>USERNEV</th><th>NEV</th><th>SZUL_DAT</th><th>Első foglalás dátuma</th><th>Utolsó foglalás dátuma</th></tr>",
                            "<tr><td>adam1</td><td>Kiss Ádám</td><td>1991-12-28</td><td>2016-05-28</td><td>2016-10-19</td></tr>",
                            "<tr><td>adam3</td><td>Barkóci Ádám</td><td>1970-06-07</td><td>2016-09-12</td><td>2017-02-06</td></tr>",
                            "<tr><td>adam4</td><td>Bieniek Ádám</td><td>1976-08-01</td><td>2016-08-28</td><td>2017-02-23</td></tr>",
                            "<tr><td>agnes</td><td>Lengyel Ágnes</td><td>1979-12-10</td><td>2016-05-09</td><td>2016-11-07</td></tr>",
                            "<tr><td>agnes3</td><td>Hartyánszky Ágnes</td><td>1967-04-11</td><td>2016-08-04</td><td>2017-02-16</td></tr>",
                            "<tr><td>AGNESH</td><td>Horváth Ágnes</td><td>1981-12-24</td><td>2016-04-10</td><td>2017-01-16</td></tr>",
                            "<tr><td>AGNESK</td><td>Kovács Ágnes</td><td>1988-10-02</td><td>2016-07-29</td><td>2016-12-17</td></tr>",
                            "<tr><td>akos</td><td>Bíró Ákos</td><td>1982-04-24</td><td>2016-05-18</td><td>2016-12-29</td></tr>",
                            "<tr><td>aladar</td><td>Dunai Aladár</td><td>1980-11-01</td><td>2016-05-17</td><td>2016-11-22</td></tr>",
                            "<tr><td>alexandra</td><td>Bagóczki Alexandra</td><td>1992-03-25</td><td>2016-05-21</td><td>2017-01-19</td></tr>",
                            "<tr><td>andi</td><td>Maródi Andrea</td><td>1968-05-07</td><td>2016-05-08</td><td>2017-01-13</td></tr>",
                            "<tr><td>andras2</td><td>Tóth András</td><td>1997-10-31</td><td>2016-05-30</td><td>2017-02-08</td></tr>",
                            "<tr><td>andras21</td><td>Molnár András</td><td>1977-11-16</td><td>2016-06-21</td><td>2017-01-28</td></tr>",
                            "<tr><td>andras3</td><td>Vígh András</td><td>1971-04-02</td><td>2016-05-01</td><td>2017-02-02</td></tr>",
                            "<tr><td>andras4</td><td>Back András</td><td>1984-04-07</td><td>2016-09-17</td><td>2017-01-09</td></tr>",
                            "<tr><td>andras41</td><td>Komjáti András</td><td>1997-10-25</td><td>2016-05-14</td><td>2016-11-23</td></tr>",
                            "<tr><td>ANDRASE</td><td>Erdei András</td><td>1997-05-29</td><td>2016-04-24</td><td>2016-11-29</td></tr>",
                            "<tr><td>ANDRASN</td><td>Nagy András</td><td>1980-09-05</td><td>2016-11-25</td><td>2016-11-25</td></tr>",
                            "<tr><td>andrea</td><td>Kiss Andrea</td><td>1993-03-25</td><td>2016-07-27</td><td>2017-02-09</td></tr>",
                            "<tr><td>andrea3</td><td>Szomor Andrea</td><td>1996-05-10</td><td>2016-11-19</td><td>2016-11-19</td></tr>",
                            "<tr><td>andrea4</td><td>Neizer Andrea</td><td>1981-05-17</td><td>2016-05-27</td><td>2017-01-22</td></tr>",
                            "<tr><td>ANDREAT</td><td>Tornyos Andrea</td><td>1986-11-14</td><td>2016-07-27</td><td>2016-10-08</td></tr>",
                            "<tr><td>anett3</td><td>Pivarcsi Anett</td><td>1967-01-03</td><td>2016-04-10</td><td>2016-10-16</td></tr>",
                            "<tr><td>aniko</td><td>Tóth Anikó</td><td>1973-06-03</td><td>2016-06-25</td><td>2017-02-23</td></tr>",
                            "<tr><td>aniko4</td><td>Böröcz Anikó</td><td>1978-03-26</td><td>2016-07-02</td><td>2016-10-16</td></tr>",
                            "<tr><td>ANIKOS</td><td>Simon Anikó</td><td>1988-12-14</td><td>2016-04-19</td><td>2016-11-10</td></tr>",
                            "<tr><td>anita</td><td>Hamvay-Kovács Anita</td><td>1971-03-20</td><td>2016-09-28</td><td>2017-02-20</td></tr>",
                            "<tr><td>annamaria1</td><td>Szűcs Annamária</td><td>1990-04-27</td><td>2016-06-06</td><td>2017-01-30</td></tr>",
                            "<tr><td>ANNAMARIAR</td><td>Regős Annamária</td><td>1977-09-26</td><td>2016-06-08</td><td>2017-02-16</td></tr>",
                            "<tr><td>aron2</td><td>Jakab Áron</td><td>1971-04-26</td><td>2016-04-11</td><td>2017-02-26</td></tr>",
                            "<tr><td>ARONK</td><td>Kelemen Áron</td><td>1989-08-10</td><td>2016-04-06</td><td>2017-02-21</td></tr>",
                            "<tr><td>arpad2</td><td>Ötvös Árpád</td><td>1990-06-08</td><td>2016-06-05</td><td>2017-02-18</td></tr>",
                            "<tr><td>ARPADH</td><td>Horváth Árpád</td><td>1990-05-18</td><td>2016-06-06</td><td>2017-02-16</td></tr>",
                            "<tr><td>ARPADM</td><td>Móricz Árpád</td><td>1986-04-20</td><td>2016-05-29</td><td>2017-02-12</td></tr>",
                            "<tr><td>attila</td><td>Csóti Attila</td><td>1979-12-25</td><td>2016-09-30</td><td>2016-12-22</td></tr>",
                            "<tr><td>attila1</td><td>Gulyás Attila</td><td>1982-08-16</td><td>2016-05-20</td><td>2017-01-23</td></tr>",
                            "<tr><td>attila4</td><td>Baróti Attila</td><td>1975-11-06</td><td>2016-08-18</td><td>2017-02-15</td></tr>",
                            "<tr><td>ATTILAO</td><td>Opra Attila</td><td>1995-05-08</td><td>2016-05-21</td><td>2017-02-22</td></tr>",
                            "<tr><td>balazs1</td><td>Bozsik Balázs</td><td>1992-11-03</td><td>2016-05-07</td><td>2017-02-12</td></tr>",
                            "<tr><td>balazs2</td><td>Szűcs Balázs</td><td>1984-10-31</td><td>2016-04-16</td><td>2017-02-27</td></tr>",
                            "<tr><td>balazs3</td><td>Bakódy Balázs</td><td>1986-09-09</td><td>2016-07-17</td><td>2017-01-20</td></tr>",
                            "<tr><td>balint</td><td>Horváth Bálint</td><td>1996-03-17</td><td>2016-04-22</td><td>2016-11-24</td></tr>",
                            "<tr><td>balint1</td><td>Molnár Bálint</td><td>1989-08-24</td><td>2016-06-07</td><td>2017-01-03</td></tr>",
                            "<tr><td>balint2</td><td>Vukasinovity Bálint</td><td>1997-09-03</td><td>2016-07-21</td><td>2016-12-04</td></tr>",
                            "<tr><td>balu</td><td>Endresz Bálint</td><td>1976-08-01</td><td>2016-08-06</td><td>2016-12-22</td></tr>",
                            "<tr><td>beata4</td><td>Bagi Beáta</td><td>1994-03-19</td><td>2016-04-20</td><td>2016-10-03</td></tr>",
                            "<tr><td>BEATRIXK</td><td>Kerényi Beatrix</td><td>1972-04-06</td><td>2016-06-10</td><td>2017-02-08</td></tr>",
                            "<tr><td>BEATRIXS</td><td>Szekendi Beatrix</td><td>1981-04-06</td><td>2016-04-18</td><td>2017-02-03</td></tr>",
                            "<tr><td>BELAF</td><td>Farkas Béla</td><td>1995-02-24</td><td>2016-07-27</td><td>2016-12-06</td></tr>",
                            "<tr><td>bence</td><td>Győrffy Bence</td><td>1987-07-09</td><td>2016-05-08</td><td>2017-02-05</td></tr>",
                            "<tr><td>BENCEB</td><td>Bajusz Bence</td><td>1973-06-21</td><td>2016-05-14</td><td>2017-02-12</td></tr>",
                            "<tr><td>bernadett1</td><td>Simon Bernadett</td><td>1984-10-13</td><td>2016-06-12</td><td>2017-02-24</td></tr>",
                            "<tr><td>bernadett2</td><td>Kovács Bernadett</td><td>1996-08-20</td><td>2016-05-01</td><td>2017-01-24</td></tr>",
                            "<tr><td>BERNADETTO</td><td>Orbán Bernadett</td><td>1987-12-07</td><td>2016-04-10</td><td>2017-01-28</td></tr>",
                            "<tr><td>bertalan</td><td>Csiger Bertalan</td><td>1977-10-15</td><td>2016-05-18</td><td>2017-02-20</td></tr>",
                            "<tr><td>brigitta</td><td>Székely Brigitta</td><td>1978-09-13</td><td>2016-05-30</td><td>2017-01-23</td></tr>",
                            "<tr><td>brigitta3</td><td>Pataki Brigitta</td><td>1991-05-23</td><td>2016-06-01</td><td>2017-02-09</td></tr>",
                            "<tr><td>csongor3</td><td>Nagymihály Csongor</td><td>1984-03-05</td><td>2016-05-01</td><td>2017-02-13</td></tr>",
                            "<tr><td>dani</td><td>Vörös Dániel</td><td>1986-10-14</td><td>2016-06-06</td><td>2017-02-25</td></tr>",
                            "<tr><td>daniel</td><td>Rácz Dániel</td><td>1978-11-28</td><td>2016-04-10</td><td>2017-02-20</td></tr>",
                            "<tr><td>daniel1</td><td>Keszler Dániel</td><td>1969-07-16</td><td>2016-04-10</td><td>2017-03-01</td></tr>",
                            "<tr><td>david</td><td>Ambrus Dávid</td><td>1974-02-11</td><td>2016-05-18</td><td>2017-01-18</td></tr>",
                            "<tr><td>david1</td><td>Sobják Dávid</td><td>1970-08-16</td><td>2016-09-20</td><td>2017-02-25</td></tr>",
                            "<tr><td>david4</td><td>Berta Dávid</td><td>1990-10-08</td><td>2017-02-16</td><td>2017-02-16</td></tr>",
                            "<tr><td>debora</td><td>Barna Debóra</td><td>1976-10-14</td><td>2016-06-22</td><td>2017-02-04</td></tr>",
                            "<tr><td>denes</td><td>Tömböly Dénes</td><td>1975-03-14</td><td>2016-05-27</td><td>2016-11-06</td></tr>",
                            "<tr><td>dora3</td><td>Sarodi Dóra</td><td>1995-05-18</td><td>2016-08-16</td><td>2016-11-22</td></tr>",
                            "<tr><td>edit</td><td>Bittmann Edit</td><td>1984-04-20</td><td>2016-07-14</td><td>2017-02-08</td></tr>",
                            "<tr><td>emese</td><td>Kuruc Emese</td><td>1989-08-10</td><td>2016-07-22</td><td>2017-01-30</td></tr>",
                            "<tr><td>eszter</td><td>Molnár Eszter</td><td>1987-05-10</td><td>2016-08-12</td><td>2016-12-23</td></tr>",
                            "<tr><td>eszter2</td><td>Balogh Eszter</td><td>1998-01-31</td><td>2016-06-30</td><td>2016-12-29</td></tr>",
                            "<tr><td>eszter4</td><td>Fülöp Eszter</td><td>1993-06-28</td><td>2017-01-05</td><td>2017-02-26</td></tr>",
                            "<tr><td>ESZTERE</td><td>Érsek Eszter</td><td>1978-08-28</td><td>2016-05-30</td><td>2017-02-10</td></tr>",
                            "<tr><td>eva</td><td>Enyedi Éva</td><td>1967-06-30</td><td>2016-10-06</td><td>2017-01-14</td></tr>",
                            "<tr><td>eva2</td><td>Perlinger Éva</td><td>1971-08-19</td><td>2016-09-02</td><td>2017-01-06</td></tr>",
                            "<tr><td>EVAV</td><td>Viktor Éva</td><td>1980-12-26</td><td>2016-05-01</td><td>2017-02-04</td></tr>",
                            "<tr><td>ferenc1</td><td>Orosz Ferenc</td><td>1983-10-08</td><td>2016-05-08</td><td>2016-11-07</td></tr>",
                            "<tr><td>fruzsina4</td><td>Frank Fruzsina</td><td>1996-08-16</td><td>2016-06-02</td><td>2017-01-22</td></tr>",
                            "<tr><td>gabor1</td><td>Köves Gábor</td><td>1973-07-15</td><td>2016-06-20</td><td>2016-11-19</td></tr>",
                            "<tr><td>gabor4</td><td>Telek Gábor</td><td>1987-03-15</td><td>2016-04-26</td><td>2016-11-07</td></tr>",
                            "<tr><td>gabriella1</td><td>Nagy Gabriella</td><td>1982-11-01</td><td>2016-04-21</td><td>2017-02-21</td></tr>",
                            "<tr><td>gabriella10</td><td>Vida Gabriella</td><td>1969-06-18</td><td>2016-10-01</td><td>2016-10-01</td></tr>",
                            "<tr><td>georgij</td><td>Nyíri Georgij</td><td>1983-02-23</td><td>2016-06-16</td><td>2016-09-18</td></tr>",
                            "<tr><td>gusztav</td><td>Bárci Gusztáv</td><td>1967-02-25</td><td>2016-05-06</td><td>2017-02-23</td></tr>",
                            "<tr><td>GYONGYIK</td><td>Kornseé Gyöngyi</td><td>1974-06-07</td><td>2016-06-02</td><td>2017-01-22</td></tr>",
                            "<tr><td>GYORGYO</td><td>Oroszi György</td><td>1980-03-23</td><td>2016-05-27</td><td>2017-02-24</td></tr>",
                            "<tr><td>henrik3</td><td>Nádudvari Henrik</td><td>1986-12-05</td><td>2016-08-24</td><td>2017-01-27</td></tr>",
                            "<tr><td>IBOLYAA</td><td>Andor Ibolya</td><td>1983-11-27</td><td>2016-08-29</td><td>2017-01-17</td></tr>",
                            "<tr><td>ilona3</td><td>Bosnyák Ilona</td><td>1990-08-06</td><td>2016-07-31</td><td>2016-12-25</td></tr>",
                            "<tr><td>imre</td><td>Búza Imre</td><td>1988-09-30</td><td>2016-09-17</td><td>2016-10-28</td></tr>",
                            "<tr><td>imre1</td><td>Papp Imre</td><td>1976-06-25</td><td>2016-06-23</td><td>2017-02-05</td></tr>",
                            "<tr><td>istvan</td><td>Soós István</td><td>1986-06-28</td><td>2016-10-07</td><td>2017-01-02</td></tr>",
                            "<tr><td>istvan1</td><td>Vizi István</td><td>1997-12-01</td><td>2016-04-16</td><td>2017-02-07</td></tr>",
                            "<tr><td>ISTVANV</td><td>Varga István</td><td>1989-04-09</td><td>2016-07-01</td><td>2016-09-29</td></tr>",
                            "<tr><td>janos3</td><td>Harangozó János</td><td>1967-11-02</td><td>2016-06-04</td><td>2017-02-12</td></tr>",
                            "<tr><td>JANOSG</td><td>Giliga János</td><td>1975-01-03</td><td>2016-05-09</td><td>2017-01-31</td></tr>",
                            "<tr><td>JANOSP</td><td>Pálinkás János</td><td>1984-10-12</td><td>2016-07-04</td><td>2016-12-18</td></tr>",
                            "<tr><td>jozsef</td><td>Gergely József</td><td>1985-11-01</td><td>2016-09-13</td><td>2016-12-06</td></tr>",
                            "<tr><td>jozsef2</td><td>Vajda József</td><td>1978-09-04</td><td>2016-07-06</td><td>2016-11-25</td></tr>",
                            "<tr><td>JOZSEFG</td><td>Gyuris József</td><td>1975-05-26</td><td>2016-05-02</td><td>2017-02-24</td></tr>",
                            "<tr><td>JUDITH</td><td>Hídasi Judit</td><td>1997-07-12</td><td>2016-06-06</td><td>2016-12-19</td></tr>",
                            "<tr><td>julia</td><td>Tóth Júlia</td><td>1993-03-02</td><td>2016-04-21</td><td>2017-02-27</td></tr>",
                            "<tr><td>julia4</td><td>Nagy Júlia</td><td>1985-08-11</td><td>2016-11-07</td><td>2017-02-04</td></tr>",
                            "<tr><td>julianna4</td><td>Szabó Julianna</td><td>1990-09-29</td><td>2016-07-20</td><td>2016-11-27</td></tr>",
                            "<tr><td>kata</td><td>Gondos Katalin</td><td>1968-06-22</td><td>2016-04-10</td><td>2017-01-15</td></tr>",
                            "<tr><td>katalin</td><td>Horváth Katalin</td><td>1968-01-01</td><td>2016-04-10</td><td>2017-02-24</td></tr>",
                            "<tr><td>katalin4</td><td>Kertész Katalin</td><td>1986-04-13</td><td>2016-07-01</td><td>2017-01-24</td></tr>",
                            "<tr><td>kati</td><td>Zatykó Katalin</td><td>1995-05-01</td><td>2016-06-06</td><td>2016-10-30</td></tr>",
                            "<tr><td>katka</td><td>Kovács Katalin</td><td>1975-03-31</td><td>2016-04-10</td><td>2017-01-19</td></tr>",
                            "<tr><td>klaudia2</td><td>Bakó Klaudia</td><td>1982-04-16</td><td>2016-06-06</td><td>2016-10-02</td></tr>",
                            "<tr><td>kornel4</td><td>Lukács Kornél</td><td>1975-09-30</td><td>2016-05-08</td><td>2016-09-23</td></tr>",
                            "<tr><td>kristof4</td><td>Poprádi Kristóf</td><td>1984-01-15</td><td>2016-04-08</td><td>2016-09-30</td></tr>",
                            "<tr><td>kriszti</td><td>Horváth Krisztina</td><td>1978-06-12</td><td>2016-05-19</td><td>2017-03-03</td></tr>",
                            "<tr><td>krisztian4</td><td>Czérna Krisztián</td><td>1970-08-01</td><td>2016-06-03</td><td>2017-02-23</td></tr>",
                            "<tr><td>KRISZTIANM</td><td>Mogyródi Krisztián</td><td>1968-05-27</td><td>2016-04-09</td><td>2017-01-16</td></tr>",
                            "<tr><td>krisztina</td><td>Szedlár Krisztina</td><td>1979-05-10</td><td>2016-05-21</td><td>2017-02-16</td></tr>",
                            "<tr><td>krisztina1</td><td>Bori Krisztina</td><td>1969-10-13</td><td>2016-04-28</td><td>2017-01-21</td></tr>",
                            "<tr><td>KRISZTINAG</td><td>Gyárfás Krisztina</td><td>1987-09-19</td><td>2016-04-23</td><td>2017-01-25</td></tr>",
                            "<tr><td>lajos</td><td>Kiss Lajos</td><td>1978-10-31</td><td>2016-07-18</td><td>2017-02-12</td></tr>",
                            "<tr><td>lala</td><td>Nagymihály Lajos</td><td>1997-02-24</td><td>2016-06-16</td><td>2017-01-17</td></tr>",
                            "<tr><td>laszlo1</td><td>Farkas László</td><td>1967-10-30</td><td>2016-09-23</td><td>2016-09-23</td></tr>",
                            "<tr><td>laszlo2</td><td>Móra László</td><td>1975-02-19</td><td>2016-04-06</td><td>2016-11-25</td></tr>",
                            "<tr><td>LASZLOA</td><td>Antal László</td><td>1969-06-29</td><td>2016-06-03</td><td>2017-02-08</td></tr>",
                            "<tr><td>LASZLON</td><td>Nagy László</td><td>1969-04-12</td><td>2016-06-03</td><td>2017-02-18</td></tr>",
                            "<tr><td>maria1</td><td>Baráth Mária</td><td>1995-11-19</td><td>2016-05-13</td><td>2017-02-24</td></tr>",
                            "<tr><td>mark</td><td>Kispál Márk</td><td>1996-01-23</td><td>2016-04-19</td><td>2016-11-19</td></tr>",
                            "<tr><td>MARKH</td><td>Horváth Márk</td><td>1997-09-23</td><td>2016-09-14</td><td>2017-01-22</td></tr>",
                            "<tr><td>marton</td><td>Kalacsi Márton</td><td>1989-06-24</td><td>2016-04-27</td><td>2017-03-02</td></tr>",
                            "<tr><td>MATEK</td><td>Koza Máté</td><td>1997-02-28</td><td>2016-08-17</td><td>2017-01-16</td></tr>",
                            "<tr><td>matyas2</td><td>Botka Mátyás</td><td>1972-07-07</td><td>2016-07-13</td><td>2016-12-09</td></tr>",
                            "<tr><td>MATYASS</td><td>Szilágyi Mátyás</td><td>1975-03-22</td><td>2016-05-10</td><td>2017-01-09</td></tr>",
                            "<tr><td>MIHALYJ</td><td>Juhász Mihály</td><td>1979-10-12</td><td>2016-05-30</td><td>2017-02-06</td></tr>",
                            "<tr><td>miklos2</td><td>Gondos Miklós</td><td>1995-10-07</td><td>2016-04-19</td><td>2016-11-16</td></tr>",
                            "<tr><td>MIKLOSB</td><td>Balla Miklós</td><td>1979-02-16</td><td>2016-06-26</td><td>2016-12-05</td></tr>",
                            "<tr><td>MONIKAM</td><td>Mohos Mónika</td><td>1974-10-01</td><td>2016-04-29</td><td>2017-02-23</td></tr>",
                            "<tr><td>NANDORF</td><td>Fő Nándor</td><td>1968-11-12</td><td>2016-04-06</td><td>2017-02-05</td></tr>",
                            "<tr><td>nikolett3</td><td>Horváth Nikolett</td><td>1981-09-29</td><td>2016-05-24</td><td>2016-10-22</td></tr>",
                            "<tr><td>nikoletta4</td><td>Kő Nikoletta</td><td>1972-01-10</td><td>2016-04-08</td><td>2017-02-01</td></tr>",
                            "<tr><td>NIKOLETTAT</td><td>Tatár Nikoletta</td><td>1997-10-19</td><td>2016-05-22</td><td>2016-09-21</td></tr>",
                            "<tr><td>norbert</td><td>Szűcs Norbert</td><td>1969-07-17</td><td>2016-07-08</td><td>2017-02-26</td></tr>",
                            "<tr><td>norbert2</td><td>Hegedűs Norbert</td><td>1991-07-17</td><td>2016-04-19</td><td>2017-01-29</td></tr>",
                            "<tr><td>norbert4</td><td>Mile Norbert</td><td>1983-06-15</td><td>2016-04-10</td><td>2017-03-03</td></tr>",
                            "<tr><td>norbert5</td><td>Béres Norbert</td><td>1975-07-27</td><td>2016-06-24</td><td>2016-11-05</td></tr>",
                            "<tr><td>pal</td><td>Barabás Pál</td><td>1968-02-06</td><td>2016-08-14</td><td>2017-02-20</td></tr>",
                            "<tr><td>peter1</td><td>Kozma Péter</td><td>1976-03-18</td><td>2016-07-14</td><td>2017-02-28</td></tr>",
                            "<tr><td>peter2</td><td>Bozsó Péter</td><td>1976-01-26</td><td>2016-07-03</td><td>2016-11-15</td></tr>",
                            "<tr><td>peter3</td><td>Szalai Péter</td><td>1983-07-18</td><td>2016-06-30</td><td>2017-02-21</td></tr>",
                            "<tr><td>peter4</td><td>Bíró Péter</td><td>1985-09-01</td><td>2016-04-12</td><td>2017-02-05</td></tr>",
                            "<tr><td>PETERB</td><td>Berendi Péter</td><td>1969-01-01</td><td>2016-04-06</td><td>2016-11-17</td></tr>",
                            "<tr><td>polla</td><td>Palágyi Polla</td><td>1994-02-04</td><td>2016-04-17</td><td>2017-02-11</td></tr>",
                            "<tr><td>rajmond4</td><td>Rácz Rajmond</td><td>1993-09-25</td><td>2016-09-05</td><td>2016-11-16</td></tr>",
                            "<tr><td>reka4</td><td>Szikszai Réka</td><td>1969-11-27</td><td>2016-07-27</td><td>2017-02-26</td></tr>",
                            "<tr><td>RENATAK</td><td>Kardos Renáta</td><td>1988-05-17</td><td>2016-10-27</td><td>2017-03-01</td></tr>",
                            "<tr><td>RENATAS</td><td>Szirmai Renáta</td><td>1991-03-26</td><td>2016-05-04</td><td>2017-02-14</td></tr>",
                            "<tr><td>robert2</td><td>Patay Róbert</td><td>1977-01-08</td><td>2016-05-15</td><td>2016-12-17</td></tr>",
                            "<tr><td>ROBERTI</td><td>Iván Róbert</td><td>1967-07-02</td><td>2016-07-12</td><td>2017-02-17</td></tr>",
                            "<tr><td>ROBERTP</td><td>Pásztor Róbert</td><td>1972-05-16</td><td>2016-07-30</td><td>2016-09-08</td></tr>",
                            "<tr><td>roland</td><td>Tóth Roland</td><td>1968-03-21</td><td>2016-06-09</td><td>2016-11-19</td></tr>",
                            "<tr><td>roland1</td><td>Ferencz Roland</td><td>1985-12-31</td><td>2016-11-05</td><td>2017-01-16</td></tr>",
                            "<tr><td>roza2</td><td>Bucskó Róza</td><td>1988-12-26</td><td>2016-09-10</td><td>2017-02-18</td></tr>",
                            "<tr><td>sandor</td><td>Karasz Sándor</td><td>1970-01-27</td><td>2016-07-04</td><td>2016-09-19</td></tr>",
                            "<tr><td>sandor3</td><td>Farkas Sándor</td><td>1989-01-27</td><td>2016-05-12</td><td>2016-11-10</td></tr>",
                            "<tr><td>sandor4</td><td>Nagy Sándor</td><td>1997-06-11</td><td>2016-10-15</td><td>2017-01-22</td></tr>",
                            "<tr><td>sara</td><td>Farkas Sára</td><td>1973-04-05</td><td>2016-05-28</td><td>2016-12-25</td></tr>",
                            "<tr><td>SEBASTIANF</td><td>Foltényi Sebastián</td><td>1992-09-09</td><td>2016-04-06</td><td>2016-09-17</td></tr>",
                            "<tr><td>sebestyen</td><td>Rab Sebestyén</td><td>1992-03-03</td><td>2016-04-07</td><td>2016-10-26</td></tr>",
                            "<tr><td>szabolcs</td><td>Bodor Szabolcs</td><td>1990-07-16</td><td>2016-12-05</td><td>2016-12-05</td></tr>",
                            "<tr><td>SZABOLCSM</td><td>Miklós Szabolcs</td><td>1980-08-11</td><td>2016-06-18</td><td>2017-02-04</td></tr>",
                            "<tr><td>SZILARDS</td><td>Szalai Szilárd</td><td>1967-09-28</td><td>2016-04-23</td><td>2017-02-08</td></tr>",
                            "<tr><td>szilvia1</td><td>Tari Szilvia</td><td>1971-03-09</td><td>2016-05-14</td><td>2017-01-28</td></tr>",
                            "<tr><td>tamara2</td><td>Miklós Tamara</td><td>1980-08-11</td><td>2016-08-12</td><td>2016-11-15</td></tr>",
                            "<tr><td>tamas</td><td>Antal Tamás</td><td>1984-09-05</td><td>2016-05-17</td><td>2017-02-14</td></tr>",
                            "<tr><td>TAMASF</td><td>Fényes Tamás</td><td>1997-11-06</td><td>2016-05-03</td><td>2017-02-16</td></tr>",
                            "<tr><td>tibor</td><td>Gombos Tibor</td><td>1993-11-28</td><td>2016-10-09</td><td>2016-11-05</td></tr>",
                            "<tr><td>tibor2</td><td>Dániel Tibor</td><td>1985-02-02</td><td>2016-10-20</td><td>2016-10-20</td></tr>",
                            "<tr><td>tihamer</td><td>Kazy Tihamér</td><td>1991-07-05</td><td>2016-05-30</td><td>2016-12-25</td></tr>",
                            "<tr><td>timea</td><td>Papós Tímea</td><td>1996-01-08</td><td>2016-12-26</td><td>2016-12-26</td></tr>",
                            "<tr><td>timea2</td><td>Dusha Tímea</td><td>1975-08-22</td><td>2016-06-06</td><td>2016-12-14</td></tr>",
                            "<tr><td>tunde</td><td>Turcsik Tünde</td><td>1974-02-12</td><td>2016-06-03</td><td>2017-01-03</td></tr>",
                            "<tr><td>valentin</td><td>Feró Valentin</td><td>1986-01-09</td><td>2016-05-24</td><td>2016-12-01</td></tr>",
                            "<tr><td>veronika4</td><td>Tankó Veronika</td><td>1983-08-28</td><td>2016-05-30</td><td>2017-02-03</td></tr>",
                            "<tr><td>VIKTORIAU</td><td>Urbán Viktoria</td><td>1996-05-03</td><td>2016-04-30</td><td>2016-10-26</td></tr>",
                            "<tr><td>VIKTORK</td><td>Keresztúri Viktor</td><td>1989-05-05</td><td>2016-05-30</td><td>2016-06-06</td></tr>",
                            "<tr><td>vivien3</td><td>Boros Vivien</td><td>1991-07-01</td><td>2016-05-02</td><td>2016-12-24</td></tr>",
                            "<tr><td>zoltan</td><td>Fodor Zoltán</td><td>1979-11-25</td><td>2016-08-24</td><td>2016-09-05</td></tr>",
                            "<tr><td>zoltan4</td><td>Barna Zoltán</td><td>1986-05-20</td><td>2016-05-12</td><td>2017-01-01</td></tr>",
                            "<tr><td>ZOLTANP</td><td>Pintér Zoltán</td><td>1977-06-07</td><td>2016-06-05</td><td>2016-12-25</td></tr>",
                            "<tr><td>ZOLTANT</td><td>Tóth Zoltán</td><td>1985-12-14</td><td>2016-05-01</td><td>2017-01-16</td></tr>",
                            "<tr><td>zsofi1</td><td>Molnár Zsófi</td><td>1983-11-17</td><td>2016-06-16</td><td>2017-02-18</td></tr>",
                            "<tr><td>zsolt1</td><td>Pulai Zsolt</td><td>1988-05-27</td><td>2016-04-14</td><td>2016-07-31</td></tr>",
                            "<tr><td>ZSOLTJ</td><td>Józsa Zsolt</td><td>1983-09-29</td><td>2016-04-24</td><td>2016-10-01</td></tr>",
                            "<tr><td>zsuzsa</td><td>Pusztai Zsuzsanna</td><td>1980-09-17</td><td>2016-07-24</td><td>2016-11-28</td></tr>",
                            "<tr><td>zsuzsa3</td><td>Varsányi Zsuzsa</td><td>1979-03-06</td><td>2016-07-30</td><td>2016-10-27</td></tr>",
                            "<tr><td>zsuzsanna</td><td>Barta Zsuzsanna</td><td>1994-10-07</td><td>2016-05-17</td><td>2017-01-16</td></tr>",
                            "<tr><td>ZSUZSAV</td><td>Vajda Zsuzsa</td><td>1976-12-11</td><td>2016-04-14</td><td>2016-11-21</td></tr>",
                            "</table>"
                        ]
                    }
                }
            ],
            "execution_count": 12
        },
        {
            "cell_type": "markdown",
            "source": [
                "4\\. feladat"
            ],
            "metadata": {
                "azdata_cell_guid": "207f1b65-aa8e-48f8-8fb4-e3dc763d19e1"
            },
            "attachments": {}
        },
        {
            "cell_type": "code",
            "source": [
                "SELECT f.SZOBA_FK, f.METTOL, count(*) AS 'Foglalások száma'\r\n",
                "FROM Foglalas f\r\n",
                "GROUP BY CUBE(f.METTOL, f.SZOBA_FK)\r\n",
                "HAVING COUNT(*) >= 2"
            ],
            "metadata": {
                "azdata_cell_guid": "f3bc32a8-e814-4dec-8537-7060c1553242",
                "language": "sql",
                "tags": []
            },
            "outputs": [
                {
                    "output_type": "display_data",
                    "data": {
                        "text/html": "(424 rows affected)"
                    },
                    "metadata": {}
                },
                {
                    "output_type": "display_data",
                    "data": {
                        "text/html": "Total execution time: 00:00:00.011"
                    },
                    "metadata": {}
                },
                {
                    "output_type": "execute_result",
                    "metadata": {},
                    "execution_count": 23,
                    "data": {
                        "application/vnd.dataresource+json": {
                            "schema": {
                                "fields": [
                                    {
                                        "name": "SZOBA_FK"
                                    },
                                    {
                                        "name": "METTOL"
                                    },
                                    {
                                        "name": "Foglalások száma"
                                    }
                                ]
                            },
                            "data": [
                                {
                                    "SZOBA_FK": "1",
                                    "METTOL": "NULL",
                                    "Foglalások száma": "8"
                                },
                                {
                                    "SZOBA_FK": "2",
                                    "METTOL": "NULL",
                                    "Foglalások száma": "4"
                                },
                                {
                                    "SZOBA_FK": "3",
                                    "METTOL": "NULL",
                                    "Foglalások száma": "8"
                                },
                                {
                                    "SZOBA_FK": "4",
                                    "METTOL": "NULL",
                                    "Foglalások száma": "6"
                                },
                                {
                                    "SZOBA_FK": "5",
                                    "METTOL": "NULL",
                                    "Foglalások száma": "4"
                                },
                                {
                                    "SZOBA_FK": "6",
                                    "METTOL": "NULL",
                                    "Foglalások száma": "6"
                                },
                                {
                                    "SZOBA_FK": "7",
                                    "METTOL": "NULL",
                                    "Foglalások száma": "6"
                                },
                                {
                                    "SZOBA_FK": "8",
                                    "METTOL": "NULL",
                                    "Foglalások száma": "5"
                                },
                                {
                                    "SZOBA_FK": "9",
                                    "METTOL": "NULL",
                                    "Foglalások száma": "6"
                                },
                                {
                                    "SZOBA_FK": "10",
                                    "METTOL": "NULL",
                                    "Foglalások száma": "4"
                                },
                                {
                                    "SZOBA_FK": "11",
                                    "METTOL": "NULL",
                                    "Foglalások száma": "4"
                                },
                                {
                                    "SZOBA_FK": "12",
                                    "METTOL": "NULL",
                                    "Foglalások száma": "9"
                                },
                                {
                                    "SZOBA_FK": "13",
                                    "METTOL": "NULL",
                                    "Foglalások száma": "4"
                                },
                                {
                                    "SZOBA_FK": "14",
                                    "METTOL": "NULL",
                                    "Foglalások száma": "3"
                                },
                                {
                                    "SZOBA_FK": "15",
                                    "METTOL": "NULL",
                                    "Foglalások száma": "6"
                                },
                                {
                                    "SZOBA_FK": "16",
                                    "METTOL": "NULL",
                                    "Foglalások száma": "5"
                                },
                                {
                                    "SZOBA_FK": "17",
                                    "METTOL": "NULL",
                                    "Foglalások száma": "6"
                                },
                                {
                                    "SZOBA_FK": "18",
                                    "METTOL": "NULL",
                                    "Foglalások száma": "6"
                                },
                                {
                                    "SZOBA_FK": "19",
                                    "METTOL": "NULL",
                                    "Foglalások száma": "6"
                                },
                                {
                                    "SZOBA_FK": "20",
                                    "METTOL": "2016-10-01",
                                    "Foglalások száma": "2"
                                },
                                {
                                    "SZOBA_FK": "20",
                                    "METTOL": "NULL",
                                    "Foglalások száma": "5"
                                },
                                {
                                    "SZOBA_FK": "21",
                                    "METTOL": "NULL",
                                    "Foglalások száma": "4"
                                },
                                {
                                    "SZOBA_FK": "22",
                                    "METTOL": "NULL",
                                    "Foglalások száma": "6"
                                },
                                {
                                    "SZOBA_FK": "23",
                                    "METTOL": "NULL",
                                    "Foglalások száma": "3"
                                },
                                {
                                    "SZOBA_FK": "24",
                                    "METTOL": "NULL",
                                    "Foglalások száma": "3"
                                },
                                {
                                    "SZOBA_FK": "25",
                                    "METTOL": "NULL",
                                    "Foglalások száma": "2"
                                },
                                {
                                    "SZOBA_FK": "26",
                                    "METTOL": "NULL",
                                    "Foglalások száma": "2"
                                },
                                {
                                    "SZOBA_FK": "27",
                                    "METTOL": "NULL",
                                    "Foglalások száma": "7"
                                },
                                {
                                    "SZOBA_FK": "28",
                                    "METTOL": "NULL",
                                    "Foglalások száma": "6"
                                },
                                {
                                    "SZOBA_FK": "29",
                                    "METTOL": "NULL",
                                    "Foglalások száma": "6"
                                },
                                {
                                    "SZOBA_FK": "30",
                                    "METTOL": "NULL",
                                    "Foglalások száma": "3"
                                },
                                {
                                    "SZOBA_FK": "31",
                                    "METTOL": "NULL",
                                    "Foglalások száma": "3"
                                },
                                {
                                    "SZOBA_FK": "33",
                                    "METTOL": "NULL",
                                    "Foglalások száma": "6"
                                },
                                {
                                    "SZOBA_FK": "34",
                                    "METTOL": "NULL",
                                    "Foglalások száma": "4"
                                },
                                {
                                    "SZOBA_FK": "35",
                                    "METTOL": "NULL",
                                    "Foglalások száma": "9"
                                },
                                {
                                    "SZOBA_FK": "36",
                                    "METTOL": "NULL",
                                    "Foglalások száma": "6"
                                },
                                {
                                    "SZOBA_FK": "37",
                                    "METTOL": "NULL",
                                    "Foglalások száma": "3"
                                },
                                {
                                    "SZOBA_FK": "38",
                                    "METTOL": "NULL",
                                    "Foglalások száma": "8"
                                },
                                {
                                    "SZOBA_FK": "39",
                                    "METTOL": "NULL",
                                    "Foglalások száma": "7"
                                },
                                {
                                    "SZOBA_FK": "40",
                                    "METTOL": "2016-06-07",
                                    "Foglalások száma": "2"
                                },
                                {
                                    "SZOBA_FK": "40",
                                    "METTOL": "NULL",
                                    "Foglalások száma": "4"
                                },
                                {
                                    "SZOBA_FK": "41",
                                    "METTOL": "NULL",
                                    "Foglalások száma": "2"
                                },
                                {
                                    "SZOBA_FK": "42",
                                    "METTOL": "NULL",
                                    "Foglalások száma": "6"
                                },
                                {
                                    "SZOBA_FK": "43",
                                    "METTOL": "NULL",
                                    "Foglalások száma": "8"
                                },
                                {
                                    "SZOBA_FK": "44",
                                    "METTOL": "NULL",
                                    "Foglalások száma": "6"
                                },
                                {
                                    "SZOBA_FK": "45",
                                    "METTOL": "2016-08-20",
                                    "Foglalások száma": "2"
                                },
                                {
                                    "SZOBA_FK": "45",
                                    "METTOL": "NULL",
                                    "Foglalások száma": "5"
                                },
                                {
                                    "SZOBA_FK": "46",
                                    "METTOL": "NULL",
                                    "Foglalások száma": "4"
                                },
                                {
                                    "SZOBA_FK": "47",
                                    "METTOL": "NULL",
                                    "Foglalások száma": "2"
                                },
                                {
                                    "SZOBA_FK": "48",
                                    "METTOL": "NULL",
                                    "Foglalások száma": "9"
                                },
                                {
                                    "SZOBA_FK": "49",
                                    "METTOL": "NULL",
                                    "Foglalások száma": "7"
                                },
                                {
                                    "SZOBA_FK": "50",
                                    "METTOL": "NULL",
                                    "Foglalások száma": "4"
                                },
                                {
                                    "SZOBA_FK": "51",
                                    "METTOL": "NULL",
                                    "Foglalások száma": "5"
                                },
                                {
                                    "SZOBA_FK": "52",
                                    "METTOL": "NULL",
                                    "Foglalások száma": "5"
                                },
                                {
                                    "SZOBA_FK": "53",
                                    "METTOL": "NULL",
                                    "Foglalások száma": "2"
                                },
                                {
                                    "SZOBA_FK": "54",
                                    "METTOL": "NULL",
                                    "Foglalások száma": "6"
                                },
                                {
                                    "SZOBA_FK": "55",
                                    "METTOL": "NULL",
                                    "Foglalások száma": "8"
                                },
                                {
                                    "SZOBA_FK": "56",
                                    "METTOL": "NULL",
                                    "Foglalások száma": "2"
                                },
                                {
                                    "SZOBA_FK": "57",
                                    "METTOL": "NULL",
                                    "Foglalások száma": "4"
                                },
                                {
                                    "SZOBA_FK": "58",
                                    "METTOL": "NULL",
                                    "Foglalások száma": "13"
                                },
                                {
                                    "SZOBA_FK": "59",
                                    "METTOL": "NULL",
                                    "Foglalások száma": "7"
                                },
                                {
                                    "SZOBA_FK": "61",
                                    "METTOL": "NULL",
                                    "Foglalások száma": "5"
                                },
                                {
                                    "SZOBA_FK": "62",
                                    "METTOL": "NULL",
                                    "Foglalások száma": "5"
                                },
                                {
                                    "SZOBA_FK": "63",
                                    "METTOL": "NULL",
                                    "Foglalások száma": "4"
                                },
                                {
                                    "SZOBA_FK": "64",
                                    "METTOL": "NULL",
                                    "Foglalások száma": "6"
                                },
                                {
                                    "SZOBA_FK": "66",
                                    "METTOL": "NULL",
                                    "Foglalások száma": "4"
                                },
                                {
                                    "SZOBA_FK": "67",
                                    "METTOL": "NULL",
                                    "Foglalások száma": "6"
                                },
                                {
                                    "SZOBA_FK": "68",
                                    "METTOL": "NULL",
                                    "Foglalások száma": "3"
                                },
                                {
                                    "SZOBA_FK": "69",
                                    "METTOL": "NULL",
                                    "Foglalások száma": "4"
                                },
                                {
                                    "SZOBA_FK": "70",
                                    "METTOL": "NULL",
                                    "Foglalások száma": "11"
                                },
                                {
                                    "SZOBA_FK": "71",
                                    "METTOL": "NULL",
                                    "Foglalások száma": "3"
                                },
                                {
                                    "SZOBA_FK": "72",
                                    "METTOL": "NULL",
                                    "Foglalások száma": "4"
                                },
                                {
                                    "SZOBA_FK": "73",
                                    "METTOL": "NULL",
                                    "Foglalások száma": "4"
                                },
                                {
                                    "SZOBA_FK": "74",
                                    "METTOL": "NULL",
                                    "Foglalások száma": "9"
                                },
                                {
                                    "SZOBA_FK": "75",
                                    "METTOL": "NULL",
                                    "Foglalások száma": "3"
                                },
                                {
                                    "SZOBA_FK": "76",
                                    "METTOL": "NULL",
                                    "Foglalások száma": "3"
                                },
                                {
                                    "SZOBA_FK": "77",
                                    "METTOL": "NULL",
                                    "Foglalások száma": "6"
                                },
                                {
                                    "SZOBA_FK": "78",
                                    "METTOL": "NULL",
                                    "Foglalások száma": "6"
                                },
                                {
                                    "SZOBA_FK": "79",
                                    "METTOL": "NULL",
                                    "Foglalások száma": "5"
                                },
                                {
                                    "SZOBA_FK": "80",
                                    "METTOL": "NULL",
                                    "Foglalások száma": "7"
                                },
                                {
                                    "SZOBA_FK": "81",
                                    "METTOL": "NULL",
                                    "Foglalások száma": "5"
                                },
                                {
                                    "SZOBA_FK": "82",
                                    "METTOL": "NULL",
                                    "Foglalások száma": "6"
                                },
                                {
                                    "SZOBA_FK": "83",
                                    "METTOL": "NULL",
                                    "Foglalások száma": "8"
                                },
                                {
                                    "SZOBA_FK": "84",
                                    "METTOL": "NULL",
                                    "Foglalások száma": "4"
                                },
                                {
                                    "SZOBA_FK": "85",
                                    "METTOL": "NULL",
                                    "Foglalások száma": "4"
                                },
                                {
                                    "SZOBA_FK": "86",
                                    "METTOL": "NULL",
                                    "Foglalások száma": "5"
                                },
                                {
                                    "SZOBA_FK": "87",
                                    "METTOL": "NULL",
                                    "Foglalások száma": "5"
                                },
                                {
                                    "SZOBA_FK": "88",
                                    "METTOL": "NULL",
                                    "Foglalások száma": "8"
                                },
                                {
                                    "SZOBA_FK": "89",
                                    "METTOL": "NULL",
                                    "Foglalások száma": "8"
                                },
                                {
                                    "SZOBA_FK": "90",
                                    "METTOL": "NULL",
                                    "Foglalások száma": "4"
                                },
                                {
                                    "SZOBA_FK": "91",
                                    "METTOL": "NULL",
                                    "Foglalások száma": "4"
                                },
                                {
                                    "SZOBA_FK": "92",
                                    "METTOL": "NULL",
                                    "Foglalások száma": "6"
                                },
                                {
                                    "SZOBA_FK": "93",
                                    "METTOL": "NULL",
                                    "Foglalások száma": "5"
                                },
                                {
                                    "SZOBA_FK": "94",
                                    "METTOL": "NULL",
                                    "Foglalások száma": "10"
                                },
                                {
                                    "SZOBA_FK": "95",
                                    "METTOL": "NULL",
                                    "Foglalások száma": "4"
                                },
                                {
                                    "SZOBA_FK": "96",
                                    "METTOL": "NULL",
                                    "Foglalások száma": "7"
                                },
                                {
                                    "SZOBA_FK": "97",
                                    "METTOL": "2016-07-27",
                                    "Foglalások száma": "2"
                                },
                                {
                                    "SZOBA_FK": "97",
                                    "METTOL": "NULL",
                                    "Foglalások száma": "7"
                                },
                                {
                                    "SZOBA_FK": "98",
                                    "METTOL": "NULL",
                                    "Foglalások száma": "4"
                                },
                                {
                                    "SZOBA_FK": "99",
                                    "METTOL": "NULL",
                                    "Foglalások száma": "5"
                                },
                                {
                                    "SZOBA_FK": "100",
                                    "METTOL": "NULL",
                                    "Foglalások száma": "4"
                                },
                                {
                                    "SZOBA_FK": "101",
                                    "METTOL": "NULL",
                                    "Foglalások száma": "3"
                                },
                                {
                                    "SZOBA_FK": "102",
                                    "METTOL": "NULL",
                                    "Foglalások száma": "2"
                                },
                                {
                                    "SZOBA_FK": "103",
                                    "METTOL": "NULL",
                                    "Foglalások száma": "4"
                                },
                                {
                                    "SZOBA_FK": "104",
                                    "METTOL": "NULL",
                                    "Foglalások száma": "4"
                                },
                                {
                                    "SZOBA_FK": "105",
                                    "METTOL": "NULL",
                                    "Foglalások száma": "2"
                                },
                                {
                                    "SZOBA_FK": "106",
                                    "METTOL": "NULL",
                                    "Foglalások száma": "6"
                                },
                                {
                                    "SZOBA_FK": "107",
                                    "METTOL": "NULL",
                                    "Foglalások száma": "5"
                                },
                                {
                                    "SZOBA_FK": "108",
                                    "METTOL": "NULL",
                                    "Foglalások száma": "2"
                                },
                                {
                                    "SZOBA_FK": "109",
                                    "METTOL": "NULL",
                                    "Foglalások száma": "7"
                                },
                                {
                                    "SZOBA_FK": "110",
                                    "METTOL": "NULL",
                                    "Foglalások száma": "8"
                                },
                                {
                                    "SZOBA_FK": "111",
                                    "METTOL": "NULL",
                                    "Foglalások száma": "5"
                                },
                                {
                                    "SZOBA_FK": "112",
                                    "METTOL": "NULL",
                                    "Foglalások száma": "5"
                                },
                                {
                                    "SZOBA_FK": "113",
                                    "METTOL": "NULL",
                                    "Foglalások száma": "5"
                                },
                                {
                                    "SZOBA_FK": "114",
                                    "METTOL": "NULL",
                                    "Foglalások száma": "4"
                                },
                                {
                                    "SZOBA_FK": "115",
                                    "METTOL": "NULL",
                                    "Foglalások száma": "7"
                                },
                                {
                                    "SZOBA_FK": "116",
                                    "METTOL": "NULL",
                                    "Foglalások száma": "2"
                                },
                                {
                                    "SZOBA_FK": "117",
                                    "METTOL": "NULL",
                                    "Foglalások száma": "8"
                                },
                                {
                                    "SZOBA_FK": "118",
                                    "METTOL": "NULL",
                                    "Foglalások száma": "7"
                                },
                                {
                                    "SZOBA_FK": "119",
                                    "METTOL": "NULL",
                                    "Foglalások száma": "5"
                                },
                                {
                                    "SZOBA_FK": "120",
                                    "METTOL": "NULL",
                                    "Foglalások száma": "6"
                                },
                                {
                                    "SZOBA_FK": "121",
                                    "METTOL": "NULL",
                                    "Foglalások száma": "8"
                                },
                                {
                                    "SZOBA_FK": "122",
                                    "METTOL": "NULL",
                                    "Foglalások száma": "9"
                                },
                                {
                                    "SZOBA_FK": "123",
                                    "METTOL": "NULL",
                                    "Foglalások száma": "5"
                                },
                                {
                                    "SZOBA_FK": "124",
                                    "METTOL": "NULL",
                                    "Foglalások száma": "6"
                                },
                                {
                                    "SZOBA_FK": "126",
                                    "METTOL": "NULL",
                                    "Foglalások száma": "6"
                                },
                                {
                                    "SZOBA_FK": "127",
                                    "METTOL": "NULL",
                                    "Foglalások száma": "7"
                                },
                                {
                                    "SZOBA_FK": "128",
                                    "METTOL": "NULL",
                                    "Foglalások száma": "5"
                                },
                                {
                                    "SZOBA_FK": "129",
                                    "METTOL": "NULL",
                                    "Foglalások száma": "4"
                                },
                                {
                                    "SZOBA_FK": "130",
                                    "METTOL": "NULL",
                                    "Foglalások száma": "6"
                                },
                                {
                                    "SZOBA_FK": "131",
                                    "METTOL": "NULL",
                                    "Foglalások száma": "5"
                                },
                                {
                                    "SZOBA_FK": "132",
                                    "METTOL": "NULL",
                                    "Foglalások száma": "6"
                                },
                                {
                                    "SZOBA_FK": "133",
                                    "METTOL": "NULL",
                                    "Foglalások száma": "6"
                                },
                                {
                                    "SZOBA_FK": "134",
                                    "METTOL": "NULL",
                                    "Foglalások száma": "6"
                                },
                                {
                                    "SZOBA_FK": "135",
                                    "METTOL": "NULL",
                                    "Foglalások száma": "3"
                                },
                                {
                                    "SZOBA_FK": "136",
                                    "METTOL": "NULL",
                                    "Foglalások száma": "3"
                                },
                                {
                                    "SZOBA_FK": "137",
                                    "METTOL": "NULL",
                                    "Foglalások száma": "6"
                                },
                                {
                                    "SZOBA_FK": "138",
                                    "METTOL": "NULL",
                                    "Foglalások száma": "7"
                                },
                                {
                                    "SZOBA_FK": "139",
                                    "METTOL": "NULL",
                                    "Foglalások száma": "7"
                                },
                                {
                                    "SZOBA_FK": "140",
                                    "METTOL": "NULL",
                                    "Foglalások száma": "8"
                                },
                                {
                                    "SZOBA_FK": "141",
                                    "METTOL": "NULL",
                                    "Foglalások száma": "6"
                                },
                                {
                                    "SZOBA_FK": "142",
                                    "METTOL": "NULL",
                                    "Foglalások száma": "2"
                                },
                                {
                                    "SZOBA_FK": "143",
                                    "METTOL": "NULL",
                                    "Foglalások száma": "7"
                                },
                                {
                                    "SZOBA_FK": "144",
                                    "METTOL": "NULL",
                                    "Foglalások száma": "5"
                                },
                                {
                                    "SZOBA_FK": "145",
                                    "METTOL": "NULL",
                                    "Foglalások száma": "6"
                                },
                                {
                                    "SZOBA_FK": "146",
                                    "METTOL": "NULL",
                                    "Foglalások száma": "6"
                                },
                                {
                                    "SZOBA_FK": "148",
                                    "METTOL": "2016-08-23",
                                    "Foglalások száma": "2"
                                },
                                {
                                    "SZOBA_FK": "148",
                                    "METTOL": "NULL",
                                    "Foglalások száma": "6"
                                },
                                {
                                    "SZOBA_FK": "149",
                                    "METTOL": "NULL",
                                    "Foglalások száma": "7"
                                },
                                {
                                    "SZOBA_FK": "150",
                                    "METTOL": "2016-10-01",
                                    "Foglalások száma": "2"
                                },
                                {
                                    "SZOBA_FK": "150",
                                    "METTOL": "NULL",
                                    "Foglalások száma": "6"
                                },
                                {
                                    "SZOBA_FK": "151",
                                    "METTOL": "NULL",
                                    "Foglalások száma": "3"
                                },
                                {
                                    "SZOBA_FK": "152",
                                    "METTOL": "NULL",
                                    "Foglalások száma": "4"
                                },
                                {
                                    "SZOBA_FK": "153",
                                    "METTOL": "NULL",
                                    "Foglalások száma": "5"
                                },
                                {
                                    "SZOBA_FK": "154",
                                    "METTOL": "NULL",
                                    "Foglalások száma": "5"
                                },
                                {
                                    "SZOBA_FK": "155",
                                    "METTOL": "NULL",
                                    "Foglalások száma": "5"
                                },
                                {
                                    "SZOBA_FK": "156",
                                    "METTOL": "NULL",
                                    "Foglalások száma": "7"
                                },
                                {
                                    "SZOBA_FK": "157",
                                    "METTOL": "NULL",
                                    "Foglalások száma": "5"
                                },
                                {
                                    "SZOBA_FK": "158",
                                    "METTOL": "NULL",
                                    "Foglalások száma": "3"
                                },
                                {
                                    "SZOBA_FK": "160",
                                    "METTOL": "2016-06-07",
                                    "Foglalások száma": "2"
                                },
                                {
                                    "SZOBA_FK": "160",
                                    "METTOL": "NULL",
                                    "Foglalások száma": "5"
                                },
                                {
                                    "SZOBA_FK": "161",
                                    "METTOL": "NULL",
                                    "Foglalások száma": "6"
                                },
                                {
                                    "SZOBA_FK": "162",
                                    "METTOL": "NULL",
                                    "Foglalások száma": "3"
                                },
                                {
                                    "SZOBA_FK": "163",
                                    "METTOL": "NULL",
                                    "Foglalások száma": "7"
                                },
                                {
                                    "SZOBA_FK": "164",
                                    "METTOL": "NULL",
                                    "Foglalások száma": "5"
                                },
                                {
                                    "SZOBA_FK": "165",
                                    "METTOL": "2016-06-03",
                                    "Foglalások száma": "3"
                                },
                                {
                                    "SZOBA_FK": "165",
                                    "METTOL": "NULL",
                                    "Foglalások száma": "7"
                                },
                                {
                                    "SZOBA_FK": "166",
                                    "METTOL": "NULL",
                                    "Foglalások száma": "3"
                                },
                                {
                                    "SZOBA_FK": "167",
                                    "METTOL": "NULL",
                                    "Foglalások száma": "2"
                                },
                                {
                                    "SZOBA_FK": "168",
                                    "METTOL": "NULL",
                                    "Foglalások száma": "5"
                                },
                                {
                                    "SZOBA_FK": "169",
                                    "METTOL": "NULL",
                                    "Foglalások száma": "6"
                                },
                                {
                                    "SZOBA_FK": "170",
                                    "METTOL": "NULL",
                                    "Foglalások száma": "5"
                                },
                                {
                                    "SZOBA_FK": "171",
                                    "METTOL": "NULL",
                                    "Foglalások száma": "5"
                                },
                                {
                                    "SZOBA_FK": "172",
                                    "METTOL": "NULL",
                                    "Foglalások száma": "9"
                                },
                                {
                                    "SZOBA_FK": "173",
                                    "METTOL": "NULL",
                                    "Foglalások száma": "4"
                                },
                                {
                                    "SZOBA_FK": "174",
                                    "METTOL": "NULL",
                                    "Foglalások száma": "4"
                                },
                                {
                                    "SZOBA_FK": "175",
                                    "METTOL": "NULL",
                                    "Foglalások száma": "5"
                                },
                                {
                                    "SZOBA_FK": "176",
                                    "METTOL": "NULL",
                                    "Foglalások száma": "6"
                                },
                                {
                                    "SZOBA_FK": "177",
                                    "METTOL": "NULL",
                                    "Foglalások száma": "4"
                                },
                                {
                                    "SZOBA_FK": "178",
                                    "METTOL": "NULL",
                                    "Foglalások száma": "4"
                                },
                                {
                                    "SZOBA_FK": "179",
                                    "METTOL": "NULL",
                                    "Foglalások száma": "3"
                                },
                                {
                                    "SZOBA_FK": "180",
                                    "METTOL": "NULL",
                                    "Foglalások száma": "3"
                                },
                                {
                                    "SZOBA_FK": "181",
                                    "METTOL": "NULL",
                                    "Foglalások száma": "6"
                                },
                                {
                                    "SZOBA_FK": "182",
                                    "METTOL": "2016-10-30",
                                    "Foglalások száma": "2"
                                },
                                {
                                    "SZOBA_FK": "182",
                                    "METTOL": "NULL",
                                    "Foglalások száma": "12"
                                },
                                {
                                    "SZOBA_FK": "183",
                                    "METTOL": "NULL",
                                    "Foglalások száma": "4"
                                },
                                {
                                    "SZOBA_FK": "184",
                                    "METTOL": "NULL",
                                    "Foglalások száma": "4"
                                },
                                {
                                    "SZOBA_FK": "185",
                                    "METTOL": "NULL",
                                    "Foglalások száma": "12"
                                },
                                {
                                    "SZOBA_FK": "186",
                                    "METTOL": "NULL",
                                    "Foglalások száma": "4"
                                },
                                {
                                    "SZOBA_FK": "187",
                                    "METTOL": "NULL",
                                    "Foglalások száma": "7"
                                },
                                {
                                    "SZOBA_FK": "188",
                                    "METTOL": "NULL",
                                    "Foglalások száma": "6"
                                },
                                {
                                    "SZOBA_FK": "189",
                                    "METTOL": "NULL",
                                    "Foglalások száma": "5"
                                },
                                {
                                    "SZOBA_FK": "190",
                                    "METTOL": "NULL",
                                    "Foglalások száma": "5"
                                },
                                {
                                    "SZOBA_FK": "191",
                                    "METTOL": "NULL",
                                    "Foglalások száma": "5"
                                },
                                {
                                    "SZOBA_FK": "192",
                                    "METTOL": "NULL",
                                    "Foglalások száma": "2"
                                },
                                {
                                    "SZOBA_FK": "193",
                                    "METTOL": "NULL",
                                    "Foglalások száma": "7"
                                },
                                {
                                    "SZOBA_FK": "195",
                                    "METTOL": "NULL",
                                    "Foglalások száma": "6"
                                },
                                {
                                    "SZOBA_FK": "196",
                                    "METTOL": "NULL",
                                    "Foglalások száma": "4"
                                },
                                {
                                    "SZOBA_FK": "197",
                                    "METTOL": "NULL",
                                    "Foglalások száma": "6"
                                },
                                {
                                    "SZOBA_FK": "198",
                                    "METTOL": "NULL",
                                    "Foglalások száma": "8"
                                },
                                {
                                    "SZOBA_FK": "NULL",
                                    "METTOL": "NULL",
                                    "Foglalások száma": "1027"
                                },
                                {
                                    "SZOBA_FK": "NULL",
                                    "METTOL": "2016-11-16",
                                    "Foglalások száma": "4"
                                },
                                {
                                    "SZOBA_FK": "NULL",
                                    "METTOL": "2017-01-24",
                                    "Foglalások száma": "2"
                                },
                                {
                                    "SZOBA_FK": "NULL",
                                    "METTOL": "2017-01-01",
                                    "Foglalások száma": "4"
                                },
                                {
                                    "SZOBA_FK": "NULL",
                                    "METTOL": "2017-02-16",
                                    "Foglalások száma": "9"
                                },
                                {
                                    "SZOBA_FK": "NULL",
                                    "METTOL": "2016-12-15",
                                    "Foglalások száma": "3"
                                },
                                {
                                    "SZOBA_FK": "NULL",
                                    "METTOL": "2016-04-21",
                                    "Foglalások száma": "2"
                                },
                                {
                                    "SZOBA_FK": "NULL",
                                    "METTOL": "2016-10-30",
                                    "Foglalások száma": "14"
                                },
                                {
                                    "SZOBA_FK": "NULL",
                                    "METTOL": "2016-08-31",
                                    "Foglalások száma": "2"
                                },
                                {
                                    "SZOBA_FK": "NULL",
                                    "METTOL": "2016-06-06",
                                    "Foglalások száma": "14"
                                },
                                {
                                    "SZOBA_FK": "NULL",
                                    "METTOL": "2016-07-16",
                                    "Foglalások száma": "2"
                                },
                                {
                                    "SZOBA_FK": "NULL",
                                    "METTOL": "2016-07-22",
                                    "Foglalások száma": "4"
                                },
                                {
                                    "SZOBA_FK": "NULL",
                                    "METTOL": "2016-10-24",
                                    "Foglalások száma": "3"
                                },
                                {
                                    "SZOBA_FK": "NULL",
                                    "METTOL": "2016-09-17",
                                    "Foglalások száma": "4"
                                },
                                {
                                    "SZOBA_FK": "NULL",
                                    "METTOL": "2016-04-27",
                                    "Foglalások száma": "3"
                                },
                                {
                                    "SZOBA_FK": "NULL",
                                    "METTOL": "2017-01-15",
                                    "Foglalások száma": "2"
                                },
                                {
                                    "SZOBA_FK": "NULL",
                                    "METTOL": "2016-11-25",
                                    "Foglalások száma": "6"
                                },
                                {
                                    "SZOBA_FK": "NULL",
                                    "METTOL": "2016-05-17",
                                    "Foglalások száma": "3"
                                },
                                {
                                    "SZOBA_FK": "NULL",
                                    "METTOL": "2016-07-30",
                                    "Foglalások száma": "4"
                                },
                                {
                                    "SZOBA_FK": "NULL",
                                    "METTOL": "2016-11-05",
                                    "Foglalások száma": "8"
                                },
                                {
                                    "SZOBA_FK": "NULL",
                                    "METTOL": "2016-08-25",
                                    "Foglalások száma": "3"
                                },
                                {
                                    "SZOBA_FK": "NULL",
                                    "METTOL": "2016-12-26",
                                    "Foglalások száma": "3"
                                },
                                {
                                    "SZOBA_FK": "NULL",
                                    "METTOL": "2016-09-23",
                                    "Foglalások száma": "4"
                                },
                                {
                                    "SZOBA_FK": "NULL",
                                    "METTOL": "2016-08-05",
                                    "Foglalások száma": "3"
                                },
                                {
                                    "SZOBA_FK": "NULL",
                                    "METTOL": "2016-10-07",
                                    "Foglalások száma": "2"
                                },
                                {
                                    "SZOBA_FK": "NULL",
                                    "METTOL": "2016-06-23",
                                    "Foglalások száma": "4"
                                },
                                {
                                    "SZOBA_FK": "NULL",
                                    "METTOL": "2017-02-27",
                                    "Foglalások száma": "2"
                                },
                                {
                                    "SZOBA_FK": "NULL",
                                    "METTOL": "2016-10-01",
                                    "Foglalások száma": "18"
                                },
                                {
                                    "SZOBA_FK": "NULL",
                                    "METTOL": "2016-11-19",
                                    "Foglalások száma": "8"
                                },
                                {
                                    "SZOBA_FK": "NULL",
                                    "METTOL": "2016-06-03",
                                    "Foglalások száma": "9"
                                },
                                {
                                    "SZOBA_FK": "NULL",
                                    "METTOL": "2016-10-21",
                                    "Foglalások száma": "4"
                                },
                                {
                                    "SZOBA_FK": "NULL",
                                    "METTOL": "2016-12-06",
                                    "Foglalások száma": "5"
                                },
                                {
                                    "SZOBA_FK": "NULL",
                                    "METTOL": "2016-12-29",
                                    "Foglalások száma": "5"
                                },
                                {
                                    "SZOBA_FK": "NULL",
                                    "METTOL": "2017-02-13",
                                    "Foglalások száma": "5"
                                },
                                {
                                    "SZOBA_FK": "NULL",
                                    "METTOL": "2016-04-10",
                                    "Foglalások száma": "9"
                                },
                                {
                                    "SZOBA_FK": "NULL",
                                    "METTOL": "2016-06-09",
                                    "Foglalások száma": "3"
                                },
                                {
                                    "SZOBA_FK": "NULL",
                                    "METTOL": "2016-07-13",
                                    "Foglalások száma": "5"
                                },
                                {
                                    "SZOBA_FK": "NULL",
                                    "METTOL": "2017-02-04",
                                    "Foglalások száma": "6"
                                },
                                {
                                    "SZOBA_FK": "NULL",
                                    "METTOL": "2016-10-27",
                                    "Foglalások száma": "4"
                                },
                                {
                                    "SZOBA_FK": "NULL",
                                    "METTOL": "2016-07-19",
                                    "Foglalások száma": "3"
                                },
                                {
                                    "SZOBA_FK": "NULL",
                                    "METTOL": "2016-10-10",
                                    "Foglalások száma": "2"
                                },
                                {
                                    "SZOBA_FK": "NULL",
                                    "METTOL": "2017-01-12",
                                    "Foglalások száma": "2"
                                },
                                {
                                    "SZOBA_FK": "NULL",
                                    "METTOL": "2016-09-14",
                                    "Foglalások száma": "2"
                                },
                                {
                                    "SZOBA_FK": "NULL",
                                    "METTOL": "2016-09-20",
                                    "Foglalások száma": "2"
                                },
                                {
                                    "SZOBA_FK": "NULL",
                                    "METTOL": "2016-08-28",
                                    "Foglalások száma": "5"
                                },
                                {
                                    "SZOBA_FK": "NULL",
                                    "METTOL": "2016-07-10",
                                    "Foglalások száma": "2"
                                },
                                {
                                    "SZOBA_FK": "NULL",
                                    "METTOL": "2017-02-10",
                                    "Foglalások száma": "2"
                                },
                                {
                                    "SZOBA_FK": "NULL",
                                    "METTOL": "2016-08-02",
                                    "Foglalások száma": "2"
                                },
                                {
                                    "SZOBA_FK": "NULL",
                                    "METTOL": "2017-01-18",
                                    "Foglalások száma": "2"
                                },
                                {
                                    "SZOBA_FK": "NULL",
                                    "METTOL": "2016-04-24",
                                    "Foglalások száma": "3"
                                },
                                {
                                    "SZOBA_FK": "NULL",
                                    "METTOL": "2016-06-20",
                                    "Foglalások száma": "2"
                                },
                                {
                                    "SZOBA_FK": "NULL",
                                    "METTOL": "2017-02-24",
                                    "Foglalások száma": "5"
                                },
                                {
                                    "SZOBA_FK": "NULL",
                                    "METTOL": "2016-10-04",
                                    "Foglalások száma": "3"
                                },
                                {
                                    "SZOBA_FK": "NULL",
                                    "METTOL": "2016-11-22",
                                    "Foglalások száma": "6"
                                },
                                {
                                    "SZOBA_FK": "NULL",
                                    "METTOL": "2016-05-14",
                                    "Foglalások száma": "4"
                                },
                                {
                                    "SZOBA_FK": "NULL",
                                    "METTOL": "2016-05-08",
                                    "Foglalások száma": "5"
                                },
                                {
                                    "SZOBA_FK": "NULL",
                                    "METTOL": "2016-08-14",
                                    "Foglalások száma": "3"
                                },
                                {
                                    "SZOBA_FK": "NULL",
                                    "METTOL": "2016-09-29",
                                    "Foglalások száma": "2"
                                },
                                {
                                    "SZOBA_FK": "NULL",
                                    "METTOL": "2016-06-27",
                                    "Foglalások száma": "3"
                                },
                                {
                                    "SZOBA_FK": "NULL",
                                    "METTOL": "2016-10-22",
                                    "Foglalások száma": "4"
                                },
                                {
                                    "SZOBA_FK": "NULL",
                                    "METTOL": "2016-06-04",
                                    "Foglalások száma": "6"
                                },
                                {
                                    "SZOBA_FK": "NULL",
                                    "METTOL": "2016-05-12",
                                    "Foglalások száma": "3"
                                },
                                {
                                    "SZOBA_FK": "NULL",
                                    "METTOL": "2016-12-07",
                                    "Foglalások száma": "3"
                                },
                                {
                                    "SZOBA_FK": "NULL",
                                    "METTOL": "2016-04-19",
                                    "Foglalások száma": "4"
                                },
                                {
                                    "SZOBA_FK": "NULL",
                                    "METTOL": "2017-01-22",
                                    "Foglalások száma": "7"
                                },
                                {
                                    "SZOBA_FK": "NULL",
                                    "METTOL": "2016-07-14",
                                    "Foglalások száma": "6"
                                },
                                {
                                    "SZOBA_FK": "NULL",
                                    "METTOL": "2016-10-16",
                                    "Foglalások száma": "3"
                                },
                                {
                                    "SZOBA_FK": "NULL",
                                    "METTOL": "2016-10-28",
                                    "Foglalások száma": "6"
                                },
                                {
                                    "SZOBA_FK": "NULL",
                                    "METTOL": "2016-08-29",
                                    "Foglalások száma": "6"
                                },
                                {
                                    "SZOBA_FK": "NULL",
                                    "METTOL": "2016-09-12",
                                    "Foglalások száma": "3"
                                },
                                {
                                    "SZOBA_FK": "NULL",
                                    "METTOL": "2016-05-29",
                                    "Foglalások száma": "3"
                                },
                                {
                                    "SZOBA_FK": "NULL",
                                    "METTOL": "2017-01-30",
                                    "Foglalások száma": "3"
                                },
                                {
                                    "SZOBA_FK": "NULL",
                                    "METTOL": "2017-02-05",
                                    "Foglalások száma": "5"
                                },
                                {
                                    "SZOBA_FK": "NULL",
                                    "METTOL": "2017-01-13",
                                    "Foglalások száma": "2"
                                },
                                {
                                    "SZOBA_FK": "NULL",
                                    "METTOL": "2017-03-03",
                                    "Foglalások száma": "2"
                                },
                                {
                                    "SZOBA_FK": "NULL",
                                    "METTOL": "2016-12-24",
                                    "Foglalások száma": "3"
                                },
                                {
                                    "SZOBA_FK": "NULL",
                                    "METTOL": "2016-07-28",
                                    "Foglalások száma": "7"
                                },
                                {
                                    "SZOBA_FK": "NULL",
                                    "METTOL": "2016-08-03",
                                    "Foglalások száma": "4"
                                },
                                {
                                    "SZOBA_FK": "NULL",
                                    "METTOL": "2016-09-15",
                                    "Foglalások száma": "3"
                                },
                                {
                                    "SZOBA_FK": "NULL",
                                    "METTOL": "2016-08-23",
                                    "Foglalások száma": "5"
                                },
                                {
                                    "SZOBA_FK": "NULL",
                                    "METTOL": "2016-12-01",
                                    "Foglalások száma": "2"
                                },
                                {
                                    "SZOBA_FK": "NULL",
                                    "METTOL": "2017-01-19",
                                    "Foglalások száma": "3"
                                },
                                {
                                    "SZOBA_FK": "NULL",
                                    "METTOL": "2016-10-05",
                                    "Foglalások száma": "2"
                                },
                                {
                                    "SZOBA_FK": "NULL",
                                    "METTOL": "2016-08-17",
                                    "Foglalások száma": "4"
                                },
                                {
                                    "SZOBA_FK": "NULL",
                                    "METTOL": "2016-11-11",
                                    "Foglalások száma": "2"
                                },
                                {
                                    "SZOBA_FK": "NULL",
                                    "METTOL": "2016-11-17",
                                    "Foglalások száma": "2"
                                },
                                {
                                    "SZOBA_FK": "NULL",
                                    "METTOL": "2017-02-25",
                                    "Foglalások száma": "2"
                                },
                                {
                                    "SZOBA_FK": "NULL",
                                    "METTOL": "2016-04-16",
                                    "Foglalások száma": "2"
                                },
                                {
                                    "SZOBA_FK": "NULL",
                                    "METTOL": "2016-05-09",
                                    "Foglalások száma": "7"
                                },
                                {
                                    "SZOBA_FK": "NULL",
                                    "METTOL": "2016-04-22",
                                    "Foglalások száma": "2"
                                },
                                {
                                    "SZOBA_FK": "NULL",
                                    "METTOL": "2016-12-04",
                                    "Foglalások száma": "3"
                                },
                                {
                                    "SZOBA_FK": "NULL",
                                    "METTOL": "2016-06-07",
                                    "Foglalások száma": "11"
                                },
                                {
                                    "SZOBA_FK": "NULL",
                                    "METTOL": "2016-07-25",
                                    "Foglalások száma": "2"
                                },
                                {
                                    "SZOBA_FK": "NULL",
                                    "METTOL": "2016-10-19",
                                    "Foglalások száma": "4"
                                },
                                {
                                    "SZOBA_FK": "NULL",
                                    "METTOL": "2016-07-17",
                                    "Foglalások száma": "3"
                                },
                                {
                                    "SZOBA_FK": "NULL",
                                    "METTOL": "2016-12-18",
                                    "Foglalások száma": "2"
                                },
                                {
                                    "SZOBA_FK": "NULL",
                                    "METTOL": "2016-09-09",
                                    "Foglalások száma": "2"
                                },
                                {
                                    "SZOBA_FK": "NULL",
                                    "METTOL": "2016-06-01",
                                    "Foglalások száma": "2"
                                },
                                {
                                    "SZOBA_FK": "NULL",
                                    "METTOL": "2016-07-08",
                                    "Foglalások száma": "3"
                                },
                                {
                                    "SZOBA_FK": "NULL",
                                    "METTOL": "2016-11-28",
                                    "Foglalások száma": "3"
                                },
                                {
                                    "SZOBA_FK": "NULL",
                                    "METTOL": "2017-02-08",
                                    "Foglalások száma": "5"
                                },
                                {
                                    "SZOBA_FK": "NULL",
                                    "METTOL": "2016-10-08",
                                    "Foglalások száma": "7"
                                },
                                {
                                    "SZOBA_FK": "NULL",
                                    "METTOL": "2017-01-16",
                                    "Foglalások száma": "8"
                                },
                                {
                                    "SZOBA_FK": "NULL",
                                    "METTOL": "2016-08-26",
                                    "Foglalások száma": "2"
                                },
                                {
                                    "SZOBA_FK": "NULL",
                                    "METTOL": "2016-11-08",
                                    "Foglalások száma": "4"
                                },
                                {
                                    "SZOBA_FK": "NULL",
                                    "METTOL": "2016-07-31",
                                    "Foglalások száma": "2"
                                },
                                {
                                    "SZOBA_FK": "NULL",
                                    "METTOL": "2016-09-18",
                                    "Foglalások száma": "4"
                                },
                                {
                                    "SZOBA_FK": "NULL",
                                    "METTOL": "2016-08-20",
                                    "Foglalások száma": "5"
                                },
                                {
                                    "SZOBA_FK": "NULL",
                                    "METTOL": "2016-08-06",
                                    "Foglalások száma": "3"
                                },
                                {
                                    "SZOBA_FK": "NULL",
                                    "METTOL": "2016-09-26",
                                    "Foglalások száma": "2"
                                },
                                {
                                    "SZOBA_FK": "NULL",
                                    "METTOL": "2017-01-10",
                                    "Foglalások száma": "2"
                                },
                                {
                                    "SZOBA_FK": "NULL",
                                    "METTOL": "2016-06-24",
                                    "Foglalások száma": "2"
                                },
                                {
                                    "SZOBA_FK": "NULL",
                                    "METTOL": "2016-05-10",
                                    "Foglalások száma": "2"
                                },
                                {
                                    "SZOBA_FK": "NULL",
                                    "METTOL": "2016-07-20",
                                    "Foglalások száma": "10"
                                },
                                {
                                    "SZOBA_FK": "NULL",
                                    "METTOL": "2016-06-02",
                                    "Foglalások száma": "4"
                                },
                                {
                                    "SZOBA_FK": "NULL",
                                    "METTOL": "2017-02-20",
                                    "Foglalások száma": "4"
                                },
                                {
                                    "SZOBA_FK": "NULL",
                                    "METTOL": "2016-04-17",
                                    "Foglalások száma": "2"
                                },
                                {
                                    "SZOBA_FK": "NULL",
                                    "METTOL": "2017-02-14",
                                    "Foglalások száma": "3"
                                },
                                {
                                    "SZOBA_FK": "NULL",
                                    "METTOL": "2016-07-26",
                                    "Foglalások száma": "2"
                                },
                                {
                                    "SZOBA_FK": "NULL",
                                    "METTOL": "2016-05-27",
                                    "Foglalások száma": "3"
                                },
                                {
                                    "SZOBA_FK": "NULL",
                                    "METTOL": "2016-09-10",
                                    "Foglalások száma": "2"
                                },
                                {
                                    "SZOBA_FK": "NULL",
                                    "METTOL": "2016-12-05",
                                    "Foglalások száma": "4"
                                },
                                {
                                    "SZOBA_FK": "NULL",
                                    "METTOL": "2016-07-12",
                                    "Foglalások száma": "3"
                                },
                                {
                                    "SZOBA_FK": "NULL",
                                    "METTOL": "2016-10-20",
                                    "Foglalások száma": "4"
                                },
                                {
                                    "SZOBA_FK": "NULL",
                                    "METTOL": "2017-01-28",
                                    "Foglalások száma": "3"
                                },
                                {
                                    "SZOBA_FK": "NULL",
                                    "METTOL": "2017-02-03",
                                    "Foglalások száma": "3"
                                },
                                {
                                    "SZOBA_FK": "NULL",
                                    "METTOL": "2016-08-01",
                                    "Foglalások száma": "4"
                                },
                                {
                                    "SZOBA_FK": "NULL",
                                    "METTOL": "2016-05-21",
                                    "Foglalások száma": "5"
                                },
                                {
                                    "SZOBA_FK": "NULL",
                                    "METTOL": "2016-07-09",
                                    "Foglalások száma": "2"
                                },
                                {
                                    "SZOBA_FK": "NULL",
                                    "METTOL": "2016-11-03",
                                    "Foglalások száma": "7"
                                },
                                {
                                    "SZOBA_FK": "NULL",
                                    "METTOL": "2016-12-22",
                                    "Foglalások száma": "3"
                                },
                                {
                                    "SZOBA_FK": "NULL",
                                    "METTOL": "2017-01-17",
                                    "Foglalások száma": "5"
                                },
                                {
                                    "SZOBA_FK": "NULL",
                                    "METTOL": "2016-08-21",
                                    "Foglalások száma": "2"
                                },
                                {
                                    "SZOBA_FK": "NULL",
                                    "METTOL": "2016-06-13",
                                    "Foglalások száma": "5"
                                },
                                {
                                    "SZOBA_FK": "NULL",
                                    "METTOL": "2016-11-29",
                                    "Foglalások száma": "4"
                                },
                                {
                                    "SZOBA_FK": "NULL",
                                    "METTOL": "2016-07-03",
                                    "Foglalások száma": "5"
                                },
                                {
                                    "SZOBA_FK": "NULL",
                                    "METTOL": "2016-11-09",
                                    "Foglalások száma": "3"
                                },
                                {
                                    "SZOBA_FK": "NULL",
                                    "METTOL": "2016-11-23",
                                    "Foglalások száma": "8"
                                },
                                {
                                    "SZOBA_FK": "NULL",
                                    "METTOL": "2016-05-01",
                                    "Foglalások száma": "5"
                                },
                                {
                                    "SZOBA_FK": "NULL",
                                    "METTOL": "2017-01-05",
                                    "Foglalások száma": "3"
                                },
                                {
                                    "SZOBA_FK": "NULL",
                                    "METTOL": "2016-08-09",
                                    "Foglalások száma": "2"
                                },
                                {
                                    "SZOBA_FK": "NULL",
                                    "METTOL": "2016-08-15",
                                    "Foglalások száma": "2"
                                },
                                {
                                    "SZOBA_FK": "NULL",
                                    "METTOL": "2016-10-03",
                                    "Foglalások száma": "3"
                                },
                                {
                                    "SZOBA_FK": "NULL",
                                    "METTOL": "2017-02-23",
                                    "Foglalások száma": "6"
                                },
                                {
                                    "SZOBA_FK": "NULL",
                                    "METTOL": "2016-10-23",
                                    "Foglalások száma": "7"
                                },
                                {
                                    "SZOBA_FK": "NULL",
                                    "METTOL": "2017-01-02",
                                    "Foglalások száma": "2"
                                },
                                {
                                    "SZOBA_FK": "NULL",
                                    "METTOL": "2016-11-15",
                                    "Foglalások száma": "3"
                                },
                                {
                                    "SZOBA_FK": "NULL",
                                    "METTOL": "2017-02-17",
                                    "Foglalások száma": "2"
                                },
                                {
                                    "SZOBA_FK": "NULL",
                                    "METTOL": "2016-10-17",
                                    "Foglalások száma": "3"
                                },
                                {
                                    "SZOBA_FK": "NULL",
                                    "METTOL": "2016-09-13",
                                    "Foglalások száma": "4"
                                },
                                {
                                    "SZOBA_FK": "NULL",
                                    "METTOL": "2016-07-23",
                                    "Foglalások száma": "2"
                                },
                                {
                                    "SZOBA_FK": "NULL",
                                    "METTOL": "2016-04-08",
                                    "Foglalások száma": "2"
                                },
                                {
                                    "SZOBA_FK": "NULL",
                                    "METTOL": "2016-04-14",
                                    "Foglalások száma": "2"
                                },
                                {
                                    "SZOBA_FK": "NULL",
                                    "METTOL": "2016-05-30",
                                    "Foglalások száma": "11"
                                },
                                {
                                    "SZOBA_FK": "NULL",
                                    "METTOL": "2016-04-28",
                                    "Foglalások száma": "2"
                                },
                                {
                                    "SZOBA_FK": "NULL",
                                    "METTOL": "2016-06-16",
                                    "Foglalások száma": "8"
                                },
                                {
                                    "SZOBA_FK": "NULL",
                                    "METTOL": "2016-05-24",
                                    "Foglalások száma": "4"
                                },
                                {
                                    "SZOBA_FK": "NULL",
                                    "METTOL": "2017-02-06",
                                    "Foglalások száma": "3"
                                },
                                {
                                    "SZOBA_FK": "NULL",
                                    "METTOL": "2016-07-29",
                                    "Foglalások száma": "2"
                                },
                                {
                                    "SZOBA_FK": "NULL",
                                    "METTOL": "2016-06-10",
                                    "Foglalások száma": "10"
                                },
                                {
                                    "SZOBA_FK": "NULL",
                                    "METTOL": "2016-12-02",
                                    "Foglalások száma": "3"
                                },
                                {
                                    "SZOBA_FK": "NULL",
                                    "METTOL": "2016-05-18",
                                    "Foglalások száma": "4"
                                },
                                {
                                    "SZOBA_FK": "NULL",
                                    "METTOL": "2016-08-24",
                                    "Foglalások száma": "10"
                                },
                                {
                                    "SZOBA_FK": "NULL",
                                    "METTOL": "2016-07-06",
                                    "Foglalások száma": "3"
                                },
                                {
                                    "SZOBA_FK": "NULL",
                                    "METTOL": "2016-11-06",
                                    "Foglalások száma": "3"
                                },
                                {
                                    "SZOBA_FK": "NULL",
                                    "METTOL": "2016-12-25",
                                    "Foglalások száma": "9"
                                },
                                {
                                    "SZOBA_FK": "NULL",
                                    "METTOL": "2016-08-18",
                                    "Foglalások száma": "2"
                                },
                                {
                                    "SZOBA_FK": "NULL",
                                    "METTOL": "2016-06-30",
                                    "Foglalások száma": "3"
                                },
                                {
                                    "SZOBA_FK": "NULL",
                                    "METTOL": "2016-11-12",
                                    "Foglalások száma": "2"
                                },
                                {
                                    "SZOBA_FK": "NULL",
                                    "METTOL": "2016-06-22",
                                    "Foglalások száma": "4"
                                },
                                {
                                    "SZOBA_FK": "NULL",
                                    "METTOL": "2017-02-26",
                                    "Foglalások száma": "4"
                                },
                                {
                                    "SZOBA_FK": "NULL",
                                    "METTOL": "2016-08-12",
                                    "Foglalások száma": "6"
                                },
                                {
                                    "SZOBA_FK": "NULL",
                                    "METTOL": "2016-09-30",
                                    "Foglalások száma": "8"
                                },
                                {
                                    "SZOBA_FK": "NULL",
                                    "METTOL": "2017-01-03",
                                    "Foglalások száma": "3"
                                },
                                {
                                    "SZOBA_FK": "NULL",
                                    "METTOL": "2017-02-18",
                                    "Foglalások száma": "4"
                                },
                                {
                                    "SZOBA_FK": "NULL",
                                    "METTOL": "2017-02-01",
                                    "Foglalások száma": "2"
                                },
                                {
                                    "SZOBA_FK": "NULL",
                                    "METTOL": "2016-06-08",
                                    "Foglalások száma": "4"
                                },
                                {
                                    "SZOBA_FK": "NULL",
                                    "METTOL": "2016-12-17",
                                    "Foglalások száma": "10"
                                },
                                {
                                    "SZOBA_FK": "NULL",
                                    "METTOL": "2016-07-24",
                                    "Foglalások száma": "5"
                                },
                                {
                                    "SZOBA_FK": "NULL",
                                    "METTOL": "2016-05-25",
                                    "Foglalások száma": "2"
                                },
                                {
                                    "SZOBA_FK": "NULL",
                                    "METTOL": "2016-10-26",
                                    "Foglalások száma": "12"
                                },
                                {
                                    "SZOBA_FK": "NULL",
                                    "METTOL": "2016-09-02",
                                    "Foglalások száma": "3"
                                },
                                {
                                    "SZOBA_FK": "NULL",
                                    "METTOL": "2016-09-08",
                                    "Foglalások száma": "3"
                                },
                                {
                                    "SZOBA_FK": "NULL",
                                    "METTOL": "2016-07-18",
                                    "Foglalások száma": "7"
                                },
                                {
                                    "SZOBA_FK": "NULL",
                                    "METTOL": "2016-11-27",
                                    "Foglalások száma": "3"
                                },
                                {
                                    "SZOBA_FK": "NULL",
                                    "METTOL": "2016-04-06",
                                    "Foglalások száma": "5"
                                },
                                {
                                    "SZOBA_FK": "NULL",
                                    "METTOL": "2017-03-01",
                                    "Foglalások száma": "2"
                                },
                                {
                                    "SZOBA_FK": "NULL",
                                    "METTOL": "2016-06-17",
                                    "Foglalások száma": "2"
                                },
                                {
                                    "SZOBA_FK": "NULL",
                                    "METTOL": "2016-11-01",
                                    "Foglalások száma": "3"
                                },
                                {
                                    "SZOBA_FK": "NULL",
                                    "METTOL": "2016-11-07",
                                    "Foglalások száma": "6"
                                },
                                {
                                    "SZOBA_FK": "NULL",
                                    "METTOL": "2016-10-09",
                                    "Foglalások száma": "11"
                                },
                                {
                                    "SZOBA_FK": "NULL",
                                    "METTOL": "2016-10-15",
                                    "Foglalások száma": "6"
                                },
                                {
                                    "SZOBA_FK": "NULL",
                                    "METTOL": "2017-02-09",
                                    "Foglalások száma": "2"
                                },
                                {
                                    "SZOBA_FK": "NULL",
                                    "METTOL": "2016-09-19",
                                    "Foglalások száma": "4"
                                },
                                {
                                    "SZOBA_FK": "NULL",
                                    "METTOL": "2016-04-23",
                                    "Foglalások száma": "2"
                                },
                                {
                                    "SZOBA_FK": "NULL",
                                    "METTOL": "2016-06-11",
                                    "Foglalások száma": "2"
                                },
                                {
                                    "SZOBA_FK": "NULL",
                                    "METTOL": "2016-11-21",
                                    "Foglalások száma": "2"
                                },
                                {
                                    "SZOBA_FK": "NULL",
                                    "METTOL": "2017-01-09",
                                    "Foglalások száma": "5"
                                },
                                {
                                    "SZOBA_FK": "NULL",
                                    "METTOL": "2016-07-01",
                                    "Foglalások száma": "5"
                                },
                                {
                                    "SZOBA_FK": "NULL",
                                    "METTOL": "2017-02-21",
                                    "Foglalások száma": "3"
                                },
                                {
                                    "SZOBA_FK": "NULL",
                                    "METTOL": "2016-08-13",
                                    "Foglalások száma": "2"
                                },
                                {
                                    "SZOBA_FK": "NULL",
                                    "METTOL": "2016-07-21",
                                    "Foglalások száma": "2"
                                },
                                {
                                    "SZOBA_FK": "NULL",
                                    "METTOL": "2016-06-05",
                                    "Foglalások száma": "2"
                                },
                                {
                                    "SZOBA_FK": "NULL",
                                    "METTOL": "2016-05-13",
                                    "Foglalások száma": "2"
                                },
                                {
                                    "SZOBA_FK": "NULL",
                                    "METTOL": "2017-01-23",
                                    "Foglalások száma": "4"
                                },
                                {
                                    "SZOBA_FK": "NULL",
                                    "METTOL": "2016-05-28",
                                    "Foglalások száma": "8"
                                },
                                {
                                    "SZOBA_FK": "NULL",
                                    "METTOL": "2016-10-29",
                                    "Foglalások száma": "5"
                                },
                                {
                                    "SZOBA_FK": "NULL",
                                    "METTOL": "2016-07-15",
                                    "Foglalások száma": "2"
                                },
                                {
                                    "SZOBA_FK": "NULL",
                                    "METTOL": "2016-07-27",
                                    "Foglalások száma": "11"
                                },
                                {
                                    "SZOBA_FK": "NULL",
                                    "METTOL": "2017-01-29",
                                    "Foglalások száma": "2"
                                },
                                {
                                    "SZOBA_FK": "NULL",
                                    "METTOL": "2016-12-14",
                                    "Foglalások száma": "2"
                                },
                                {
                                    "SZOBA_FK": "NULL",
                                    "METTOL": "2016-09-05",
                                    "Foglalások száma": "7"
                                },
                                {
                                    "SZOBA_FK": "NULL",
                                    "METTOL": "2016-05-22",
                                    "Foglalások száma": "2"
                                },
                                {
                                    "SZOBA_FK": "NULL",
                                    "METTOL": "2016-08-04",
                                    "Foglalások száma": "2"
                                },
                                {
                                    "SZOBA_FK": "NULL",
                                    "METTOL": "2016-04-26",
                                    "Foglalások száma": "2"
                                },
                                {
                                    "SZOBA_FK": "NULL",
                                    "METTOL": "2016-07-04",
                                    "Foglalások száma": "5"
                                },
                                {
                                    "SZOBA_FK": "NULL",
                                    "METTOL": "2016-09-16",
                                    "Foglalások száma": "3"
                                },
                                {
                                    "SZOBA_FK": "NULL",
                                    "METTOL": "2017-02-12",
                                    "Foglalások száma": "9"
                                },
                                {
                                    "SZOBA_FK": "NULL",
                                    "METTOL": "2016-11-10",
                                    "Foglalások száma": "4"
                                },
                                {
                                    "SZOBA_FK": "NULL",
                                    "METTOL": "2016-10-06",
                                    "Foglalások száma": "2"
                                },
                                {
                                    "SZOBA_FK": "NULL",
                                    "METTOL": "2016-08-16",
                                    "Foglalások száma": "12"
                                },
                                {
                                    "SZOBA_FK": "NULL",
                                    "METTOL": "2016-05-02",
                                    "Foglalások száma": "2"
                                },
                                {
                                    "SZOBA_FK": "NULL",
                                    "METTOL": "2016-09-28",
                                    "Foglalások száma": "3"
                                },
                                {
                                    "SZOBA_FK": "NULL",
                                    "METTOL": "2017-01-06",
                                    "Foglalások száma": "2"
                                }
                            ]
                        },
                        "text/html": [
                            "<table>",
                            "<tr><th>SZOBA_FK</th><th>METTOL</th><th>Foglalások száma</th></tr>",
                            "<tr><td>1</td><td>NULL</td><td>8</td></tr>",
                            "<tr><td>2</td><td>NULL</td><td>4</td></tr>",
                            "<tr><td>3</td><td>NULL</td><td>8</td></tr>",
                            "<tr><td>4</td><td>NULL</td><td>6</td></tr>",
                            "<tr><td>5</td><td>NULL</td><td>4</td></tr>",
                            "<tr><td>6</td><td>NULL</td><td>6</td></tr>",
                            "<tr><td>7</td><td>NULL</td><td>6</td></tr>",
                            "<tr><td>8</td><td>NULL</td><td>5</td></tr>",
                            "<tr><td>9</td><td>NULL</td><td>6</td></tr>",
                            "<tr><td>10</td><td>NULL</td><td>4</td></tr>",
                            "<tr><td>11</td><td>NULL</td><td>4</td></tr>",
                            "<tr><td>12</td><td>NULL</td><td>9</td></tr>",
                            "<tr><td>13</td><td>NULL</td><td>4</td></tr>",
                            "<tr><td>14</td><td>NULL</td><td>3</td></tr>",
                            "<tr><td>15</td><td>NULL</td><td>6</td></tr>",
                            "<tr><td>16</td><td>NULL</td><td>5</td></tr>",
                            "<tr><td>17</td><td>NULL</td><td>6</td></tr>",
                            "<tr><td>18</td><td>NULL</td><td>6</td></tr>",
                            "<tr><td>19</td><td>NULL</td><td>6</td></tr>",
                            "<tr><td>20</td><td>2016-10-01</td><td>2</td></tr>",
                            "<tr><td>20</td><td>NULL</td><td>5</td></tr>",
                            "<tr><td>21</td><td>NULL</td><td>4</td></tr>",
                            "<tr><td>22</td><td>NULL</td><td>6</td></tr>",
                            "<tr><td>23</td><td>NULL</td><td>3</td></tr>",
                            "<tr><td>24</td><td>NULL</td><td>3</td></tr>",
                            "<tr><td>25</td><td>NULL</td><td>2</td></tr>",
                            "<tr><td>26</td><td>NULL</td><td>2</td></tr>",
                            "<tr><td>27</td><td>NULL</td><td>7</td></tr>",
                            "<tr><td>28</td><td>NULL</td><td>6</td></tr>",
                            "<tr><td>29</td><td>NULL</td><td>6</td></tr>",
                            "<tr><td>30</td><td>NULL</td><td>3</td></tr>",
                            "<tr><td>31</td><td>NULL</td><td>3</td></tr>",
                            "<tr><td>33</td><td>NULL</td><td>6</td></tr>",
                            "<tr><td>34</td><td>NULL</td><td>4</td></tr>",
                            "<tr><td>35</td><td>NULL</td><td>9</td></tr>",
                            "<tr><td>36</td><td>NULL</td><td>6</td></tr>",
                            "<tr><td>37</td><td>NULL</td><td>3</td></tr>",
                            "<tr><td>38</td><td>NULL</td><td>8</td></tr>",
                            "<tr><td>39</td><td>NULL</td><td>7</td></tr>",
                            "<tr><td>40</td><td>2016-06-07</td><td>2</td></tr>",
                            "<tr><td>40</td><td>NULL</td><td>4</td></tr>",
                            "<tr><td>41</td><td>NULL</td><td>2</td></tr>",
                            "<tr><td>42</td><td>NULL</td><td>6</td></tr>",
                            "<tr><td>43</td><td>NULL</td><td>8</td></tr>",
                            "<tr><td>44</td><td>NULL</td><td>6</td></tr>",
                            "<tr><td>45</td><td>2016-08-20</td><td>2</td></tr>",
                            "<tr><td>45</td><td>NULL</td><td>5</td></tr>",
                            "<tr><td>46</td><td>NULL</td><td>4</td></tr>",
                            "<tr><td>47</td><td>NULL</td><td>2</td></tr>",
                            "<tr><td>48</td><td>NULL</td><td>9</td></tr>",
                            "<tr><td>49</td><td>NULL</td><td>7</td></tr>",
                            "<tr><td>50</td><td>NULL</td><td>4</td></tr>",
                            "<tr><td>51</td><td>NULL</td><td>5</td></tr>",
                            "<tr><td>52</td><td>NULL</td><td>5</td></tr>",
                            "<tr><td>53</td><td>NULL</td><td>2</td></tr>",
                            "<tr><td>54</td><td>NULL</td><td>6</td></tr>",
                            "<tr><td>55</td><td>NULL</td><td>8</td></tr>",
                            "<tr><td>56</td><td>NULL</td><td>2</td></tr>",
                            "<tr><td>57</td><td>NULL</td><td>4</td></tr>",
                            "<tr><td>58</td><td>NULL</td><td>13</td></tr>",
                            "<tr><td>59</td><td>NULL</td><td>7</td></tr>",
                            "<tr><td>61</td><td>NULL</td><td>5</td></tr>",
                            "<tr><td>62</td><td>NULL</td><td>5</td></tr>",
                            "<tr><td>63</td><td>NULL</td><td>4</td></tr>",
                            "<tr><td>64</td><td>NULL</td><td>6</td></tr>",
                            "<tr><td>66</td><td>NULL</td><td>4</td></tr>",
                            "<tr><td>67</td><td>NULL</td><td>6</td></tr>",
                            "<tr><td>68</td><td>NULL</td><td>3</td></tr>",
                            "<tr><td>69</td><td>NULL</td><td>4</td></tr>",
                            "<tr><td>70</td><td>NULL</td><td>11</td></tr>",
                            "<tr><td>71</td><td>NULL</td><td>3</td></tr>",
                            "<tr><td>72</td><td>NULL</td><td>4</td></tr>",
                            "<tr><td>73</td><td>NULL</td><td>4</td></tr>",
                            "<tr><td>74</td><td>NULL</td><td>9</td></tr>",
                            "<tr><td>75</td><td>NULL</td><td>3</td></tr>",
                            "<tr><td>76</td><td>NULL</td><td>3</td></tr>",
                            "<tr><td>77</td><td>NULL</td><td>6</td></tr>",
                            "<tr><td>78</td><td>NULL</td><td>6</td></tr>",
                            "<tr><td>79</td><td>NULL</td><td>5</td></tr>",
                            "<tr><td>80</td><td>NULL</td><td>7</td></tr>",
                            "<tr><td>81</td><td>NULL</td><td>5</td></tr>",
                            "<tr><td>82</td><td>NULL</td><td>6</td></tr>",
                            "<tr><td>83</td><td>NULL</td><td>8</td></tr>",
                            "<tr><td>84</td><td>NULL</td><td>4</td></tr>",
                            "<tr><td>85</td><td>NULL</td><td>4</td></tr>",
                            "<tr><td>86</td><td>NULL</td><td>5</td></tr>",
                            "<tr><td>87</td><td>NULL</td><td>5</td></tr>",
                            "<tr><td>88</td><td>NULL</td><td>8</td></tr>",
                            "<tr><td>89</td><td>NULL</td><td>8</td></tr>",
                            "<tr><td>90</td><td>NULL</td><td>4</td></tr>",
                            "<tr><td>91</td><td>NULL</td><td>4</td></tr>",
                            "<tr><td>92</td><td>NULL</td><td>6</td></tr>",
                            "<tr><td>93</td><td>NULL</td><td>5</td></tr>",
                            "<tr><td>94</td><td>NULL</td><td>10</td></tr>",
                            "<tr><td>95</td><td>NULL</td><td>4</td></tr>",
                            "<tr><td>96</td><td>NULL</td><td>7</td></tr>",
                            "<tr><td>97</td><td>2016-07-27</td><td>2</td></tr>",
                            "<tr><td>97</td><td>NULL</td><td>7</td></tr>",
                            "<tr><td>98</td><td>NULL</td><td>4</td></tr>",
                            "<tr><td>99</td><td>NULL</td><td>5</td></tr>",
                            "<tr><td>100</td><td>NULL</td><td>4</td></tr>",
                            "<tr><td>101</td><td>NULL</td><td>3</td></tr>",
                            "<tr><td>102</td><td>NULL</td><td>2</td></tr>",
                            "<tr><td>103</td><td>NULL</td><td>4</td></tr>",
                            "<tr><td>104</td><td>NULL</td><td>4</td></tr>",
                            "<tr><td>105</td><td>NULL</td><td>2</td></tr>",
                            "<tr><td>106</td><td>NULL</td><td>6</td></tr>",
                            "<tr><td>107</td><td>NULL</td><td>5</td></tr>",
                            "<tr><td>108</td><td>NULL</td><td>2</td></tr>",
                            "<tr><td>109</td><td>NULL</td><td>7</td></tr>",
                            "<tr><td>110</td><td>NULL</td><td>8</td></tr>",
                            "<tr><td>111</td><td>NULL</td><td>5</td></tr>",
                            "<tr><td>112</td><td>NULL</td><td>5</td></tr>",
                            "<tr><td>113</td><td>NULL</td><td>5</td></tr>",
                            "<tr><td>114</td><td>NULL</td><td>4</td></tr>",
                            "<tr><td>115</td><td>NULL</td><td>7</td></tr>",
                            "<tr><td>116</td><td>NULL</td><td>2</td></tr>",
                            "<tr><td>117</td><td>NULL</td><td>8</td></tr>",
                            "<tr><td>118</td><td>NULL</td><td>7</td></tr>",
                            "<tr><td>119</td><td>NULL</td><td>5</td></tr>",
                            "<tr><td>120</td><td>NULL</td><td>6</td></tr>",
                            "<tr><td>121</td><td>NULL</td><td>8</td></tr>",
                            "<tr><td>122</td><td>NULL</td><td>9</td></tr>",
                            "<tr><td>123</td><td>NULL</td><td>5</td></tr>",
                            "<tr><td>124</td><td>NULL</td><td>6</td></tr>",
                            "<tr><td>126</td><td>NULL</td><td>6</td></tr>",
                            "<tr><td>127</td><td>NULL</td><td>7</td></tr>",
                            "<tr><td>128</td><td>NULL</td><td>5</td></tr>",
                            "<tr><td>129</td><td>NULL</td><td>4</td></tr>",
                            "<tr><td>130</td><td>NULL</td><td>6</td></tr>",
                            "<tr><td>131</td><td>NULL</td><td>5</td></tr>",
                            "<tr><td>132</td><td>NULL</td><td>6</td></tr>",
                            "<tr><td>133</td><td>NULL</td><td>6</td></tr>",
                            "<tr><td>134</td><td>NULL</td><td>6</td></tr>",
                            "<tr><td>135</td><td>NULL</td><td>3</td></tr>",
                            "<tr><td>136</td><td>NULL</td><td>3</td></tr>",
                            "<tr><td>137</td><td>NULL</td><td>6</td></tr>",
                            "<tr><td>138</td><td>NULL</td><td>7</td></tr>",
                            "<tr><td>139</td><td>NULL</td><td>7</td></tr>",
                            "<tr><td>140</td><td>NULL</td><td>8</td></tr>",
                            "<tr><td>141</td><td>NULL</td><td>6</td></tr>",
                            "<tr><td>142</td><td>NULL</td><td>2</td></tr>",
                            "<tr><td>143</td><td>NULL</td><td>7</td></tr>",
                            "<tr><td>144</td><td>NULL</td><td>5</td></tr>",
                            "<tr><td>145</td><td>NULL</td><td>6</td></tr>",
                            "<tr><td>146</td><td>NULL</td><td>6</td></tr>",
                            "<tr><td>148</td><td>2016-08-23</td><td>2</td></tr>",
                            "<tr><td>148</td><td>NULL</td><td>6</td></tr>",
                            "<tr><td>149</td><td>NULL</td><td>7</td></tr>",
                            "<tr><td>150</td><td>2016-10-01</td><td>2</td></tr>",
                            "<tr><td>150</td><td>NULL</td><td>6</td></tr>",
                            "<tr><td>151</td><td>NULL</td><td>3</td></tr>",
                            "<tr><td>152</td><td>NULL</td><td>4</td></tr>",
                            "<tr><td>153</td><td>NULL</td><td>5</td></tr>",
                            "<tr><td>154</td><td>NULL</td><td>5</td></tr>",
                            "<tr><td>155</td><td>NULL</td><td>5</td></tr>",
                            "<tr><td>156</td><td>NULL</td><td>7</td></tr>",
                            "<tr><td>157</td><td>NULL</td><td>5</td></tr>",
                            "<tr><td>158</td><td>NULL</td><td>3</td></tr>",
                            "<tr><td>160</td><td>2016-06-07</td><td>2</td></tr>",
                            "<tr><td>160</td><td>NULL</td><td>5</td></tr>",
                            "<tr><td>161</td><td>NULL</td><td>6</td></tr>",
                            "<tr><td>162</td><td>NULL</td><td>3</td></tr>",
                            "<tr><td>163</td><td>NULL</td><td>7</td></tr>",
                            "<tr><td>164</td><td>NULL</td><td>5</td></tr>",
                            "<tr><td>165</td><td>2016-06-03</td><td>3</td></tr>",
                            "<tr><td>165</td><td>NULL</td><td>7</td></tr>",
                            "<tr><td>166</td><td>NULL</td><td>3</td></tr>",
                            "<tr><td>167</td><td>NULL</td><td>2</td></tr>",
                            "<tr><td>168</td><td>NULL</td><td>5</td></tr>",
                            "<tr><td>169</td><td>NULL</td><td>6</td></tr>",
                            "<tr><td>170</td><td>NULL</td><td>5</td></tr>",
                            "<tr><td>171</td><td>NULL</td><td>5</td></tr>",
                            "<tr><td>172</td><td>NULL</td><td>9</td></tr>",
                            "<tr><td>173</td><td>NULL</td><td>4</td></tr>",
                            "<tr><td>174</td><td>NULL</td><td>4</td></tr>",
                            "<tr><td>175</td><td>NULL</td><td>5</td></tr>",
                            "<tr><td>176</td><td>NULL</td><td>6</td></tr>",
                            "<tr><td>177</td><td>NULL</td><td>4</td></tr>",
                            "<tr><td>178</td><td>NULL</td><td>4</td></tr>",
                            "<tr><td>179</td><td>NULL</td><td>3</td></tr>",
                            "<tr><td>180</td><td>NULL</td><td>3</td></tr>",
                            "<tr><td>181</td><td>NULL</td><td>6</td></tr>",
                            "<tr><td>182</td><td>2016-10-30</td><td>2</td></tr>",
                            "<tr><td>182</td><td>NULL</td><td>12</td></tr>",
                            "<tr><td>183</td><td>NULL</td><td>4</td></tr>",
                            "<tr><td>184</td><td>NULL</td><td>4</td></tr>",
                            "<tr><td>185</td><td>NULL</td><td>12</td></tr>",
                            "<tr><td>186</td><td>NULL</td><td>4</td></tr>",
                            "<tr><td>187</td><td>NULL</td><td>7</td></tr>",
                            "<tr><td>188</td><td>NULL</td><td>6</td></tr>",
                            "<tr><td>189</td><td>NULL</td><td>5</td></tr>",
                            "<tr><td>190</td><td>NULL</td><td>5</td></tr>",
                            "<tr><td>191</td><td>NULL</td><td>5</td></tr>",
                            "<tr><td>192</td><td>NULL</td><td>2</td></tr>",
                            "<tr><td>193</td><td>NULL</td><td>7</td></tr>",
                            "<tr><td>195</td><td>NULL</td><td>6</td></tr>",
                            "<tr><td>196</td><td>NULL</td><td>4</td></tr>",
                            "<tr><td>197</td><td>NULL</td><td>6</td></tr>",
                            "<tr><td>198</td><td>NULL</td><td>8</td></tr>",
                            "<tr><td>NULL</td><td>NULL</td><td>1027</td></tr>",
                            "<tr><td>NULL</td><td>2016-11-16</td><td>4</td></tr>",
                            "<tr><td>NULL</td><td>2017-01-24</td><td>2</td></tr>",
                            "<tr><td>NULL</td><td>2017-01-01</td><td>4</td></tr>",
                            "<tr><td>NULL</td><td>2017-02-16</td><td>9</td></tr>",
                            "<tr><td>NULL</td><td>2016-12-15</td><td>3</td></tr>",
                            "<tr><td>NULL</td><td>2016-04-21</td><td>2</td></tr>",
                            "<tr><td>NULL</td><td>2016-10-30</td><td>14</td></tr>",
                            "<tr><td>NULL</td><td>2016-08-31</td><td>2</td></tr>",
                            "<tr><td>NULL</td><td>2016-06-06</td><td>14</td></tr>",
                            "<tr><td>NULL</td><td>2016-07-16</td><td>2</td></tr>",
                            "<tr><td>NULL</td><td>2016-07-22</td><td>4</td></tr>",
                            "<tr><td>NULL</td><td>2016-10-24</td><td>3</td></tr>",
                            "<tr><td>NULL</td><td>2016-09-17</td><td>4</td></tr>",
                            "<tr><td>NULL</td><td>2016-04-27</td><td>3</td></tr>",
                            "<tr><td>NULL</td><td>2017-01-15</td><td>2</td></tr>",
                            "<tr><td>NULL</td><td>2016-11-25</td><td>6</td></tr>",
                            "<tr><td>NULL</td><td>2016-05-17</td><td>3</td></tr>",
                            "<tr><td>NULL</td><td>2016-07-30</td><td>4</td></tr>",
                            "<tr><td>NULL</td><td>2016-11-05</td><td>8</td></tr>",
                            "<tr><td>NULL</td><td>2016-08-25</td><td>3</td></tr>",
                            "<tr><td>NULL</td><td>2016-12-26</td><td>3</td></tr>",
                            "<tr><td>NULL</td><td>2016-09-23</td><td>4</td></tr>",
                            "<tr><td>NULL</td><td>2016-08-05</td><td>3</td></tr>",
                            "<tr><td>NULL</td><td>2016-10-07</td><td>2</td></tr>",
                            "<tr><td>NULL</td><td>2016-06-23</td><td>4</td></tr>",
                            "<tr><td>NULL</td><td>2017-02-27</td><td>2</td></tr>",
                            "<tr><td>NULL</td><td>2016-10-01</td><td>18</td></tr>",
                            "<tr><td>NULL</td><td>2016-11-19</td><td>8</td></tr>",
                            "<tr><td>NULL</td><td>2016-06-03</td><td>9</td></tr>",
                            "<tr><td>NULL</td><td>2016-10-21</td><td>4</td></tr>",
                            "<tr><td>NULL</td><td>2016-12-06</td><td>5</td></tr>",
                            "<tr><td>NULL</td><td>2016-12-29</td><td>5</td></tr>",
                            "<tr><td>NULL</td><td>2017-02-13</td><td>5</td></tr>",
                            "<tr><td>NULL</td><td>2016-04-10</td><td>9</td></tr>",
                            "<tr><td>NULL</td><td>2016-06-09</td><td>3</td></tr>",
                            "<tr><td>NULL</td><td>2016-07-13</td><td>5</td></tr>",
                            "<tr><td>NULL</td><td>2017-02-04</td><td>6</td></tr>",
                            "<tr><td>NULL</td><td>2016-10-27</td><td>4</td></tr>",
                            "<tr><td>NULL</td><td>2016-07-19</td><td>3</td></tr>",
                            "<tr><td>NULL</td><td>2016-10-10</td><td>2</td></tr>",
                            "<tr><td>NULL</td><td>2017-01-12</td><td>2</td></tr>",
                            "<tr><td>NULL</td><td>2016-09-14</td><td>2</td></tr>",
                            "<tr><td>NULL</td><td>2016-09-20</td><td>2</td></tr>",
                            "<tr><td>NULL</td><td>2016-08-28</td><td>5</td></tr>",
                            "<tr><td>NULL</td><td>2016-07-10</td><td>2</td></tr>",
                            "<tr><td>NULL</td><td>2017-02-10</td><td>2</td></tr>",
                            "<tr><td>NULL</td><td>2016-08-02</td><td>2</td></tr>",
                            "<tr><td>NULL</td><td>2017-01-18</td><td>2</td></tr>",
                            "<tr><td>NULL</td><td>2016-04-24</td><td>3</td></tr>",
                            "<tr><td>NULL</td><td>2016-06-20</td><td>2</td></tr>",
                            "<tr><td>NULL</td><td>2017-02-24</td><td>5</td></tr>",
                            "<tr><td>NULL</td><td>2016-10-04</td><td>3</td></tr>",
                            "<tr><td>NULL</td><td>2016-11-22</td><td>6</td></tr>",
                            "<tr><td>NULL</td><td>2016-05-14</td><td>4</td></tr>",
                            "<tr><td>NULL</td><td>2016-05-08</td><td>5</td></tr>",
                            "<tr><td>NULL</td><td>2016-08-14</td><td>3</td></tr>",
                            "<tr><td>NULL</td><td>2016-09-29</td><td>2</td></tr>",
                            "<tr><td>NULL</td><td>2016-06-27</td><td>3</td></tr>",
                            "<tr><td>NULL</td><td>2016-10-22</td><td>4</td></tr>",
                            "<tr><td>NULL</td><td>2016-06-04</td><td>6</td></tr>",
                            "<tr><td>NULL</td><td>2016-05-12</td><td>3</td></tr>",
                            "<tr><td>NULL</td><td>2016-12-07</td><td>3</td></tr>",
                            "<tr><td>NULL</td><td>2016-04-19</td><td>4</td></tr>",
                            "<tr><td>NULL</td><td>2017-01-22</td><td>7</td></tr>",
                            "<tr><td>NULL</td><td>2016-07-14</td><td>6</td></tr>",
                            "<tr><td>NULL</td><td>2016-10-16</td><td>3</td></tr>",
                            "<tr><td>NULL</td><td>2016-10-28</td><td>6</td></tr>",
                            "<tr><td>NULL</td><td>2016-08-29</td><td>6</td></tr>",
                            "<tr><td>NULL</td><td>2016-09-12</td><td>3</td></tr>",
                            "<tr><td>NULL</td><td>2016-05-29</td><td>3</td></tr>",
                            "<tr><td>NULL</td><td>2017-01-30</td><td>3</td></tr>",
                            "<tr><td>NULL</td><td>2017-02-05</td><td>5</td></tr>",
                            "<tr><td>NULL</td><td>2017-01-13</td><td>2</td></tr>",
                            "<tr><td>NULL</td><td>2017-03-03</td><td>2</td></tr>",
                            "<tr><td>NULL</td><td>2016-12-24</td><td>3</td></tr>",
                            "<tr><td>NULL</td><td>2016-07-28</td><td>7</td></tr>",
                            "<tr><td>NULL</td><td>2016-08-03</td><td>4</td></tr>",
                            "<tr><td>NULL</td><td>2016-09-15</td><td>3</td></tr>",
                            "<tr><td>NULL</td><td>2016-08-23</td><td>5</td></tr>",
                            "<tr><td>NULL</td><td>2016-12-01</td><td>2</td></tr>",
                            "<tr><td>NULL</td><td>2017-01-19</td><td>3</td></tr>",
                            "<tr><td>NULL</td><td>2016-10-05</td><td>2</td></tr>",
                            "<tr><td>NULL</td><td>2016-08-17</td><td>4</td></tr>",
                            "<tr><td>NULL</td><td>2016-11-11</td><td>2</td></tr>",
                            "<tr><td>NULL</td><td>2016-11-17</td><td>2</td></tr>",
                            "<tr><td>NULL</td><td>2017-02-25</td><td>2</td></tr>",
                            "<tr><td>NULL</td><td>2016-04-16</td><td>2</td></tr>",
                            "<tr><td>NULL</td><td>2016-05-09</td><td>7</td></tr>",
                            "<tr><td>NULL</td><td>2016-04-22</td><td>2</td></tr>",
                            "<tr><td>NULL</td><td>2016-12-04</td><td>3</td></tr>",
                            "<tr><td>NULL</td><td>2016-06-07</td><td>11</td></tr>",
                            "<tr><td>NULL</td><td>2016-07-25</td><td>2</td></tr>",
                            "<tr><td>NULL</td><td>2016-10-19</td><td>4</td></tr>",
                            "<tr><td>NULL</td><td>2016-07-17</td><td>3</td></tr>",
                            "<tr><td>NULL</td><td>2016-12-18</td><td>2</td></tr>",
                            "<tr><td>NULL</td><td>2016-09-09</td><td>2</td></tr>",
                            "<tr><td>NULL</td><td>2016-06-01</td><td>2</td></tr>",
                            "<tr><td>NULL</td><td>2016-07-08</td><td>3</td></tr>",
                            "<tr><td>NULL</td><td>2016-11-28</td><td>3</td></tr>",
                            "<tr><td>NULL</td><td>2017-02-08</td><td>5</td></tr>",
                            "<tr><td>NULL</td><td>2016-10-08</td><td>7</td></tr>",
                            "<tr><td>NULL</td><td>2017-01-16</td><td>8</td></tr>",
                            "<tr><td>NULL</td><td>2016-08-26</td><td>2</td></tr>",
                            "<tr><td>NULL</td><td>2016-11-08</td><td>4</td></tr>",
                            "<tr><td>NULL</td><td>2016-07-31</td><td>2</td></tr>",
                            "<tr><td>NULL</td><td>2016-09-18</td><td>4</td></tr>",
                            "<tr><td>NULL</td><td>2016-08-20</td><td>5</td></tr>",
                            "<tr><td>NULL</td><td>2016-08-06</td><td>3</td></tr>",
                            "<tr><td>NULL</td><td>2016-09-26</td><td>2</td></tr>",
                            "<tr><td>NULL</td><td>2017-01-10</td><td>2</td></tr>",
                            "<tr><td>NULL</td><td>2016-06-24</td><td>2</td></tr>",
                            "<tr><td>NULL</td><td>2016-05-10</td><td>2</td></tr>",
                            "<tr><td>NULL</td><td>2016-07-20</td><td>10</td></tr>",
                            "<tr><td>NULL</td><td>2016-06-02</td><td>4</td></tr>",
                            "<tr><td>NULL</td><td>2017-02-20</td><td>4</td></tr>",
                            "<tr><td>NULL</td><td>2016-04-17</td><td>2</td></tr>",
                            "<tr><td>NULL</td><td>2017-02-14</td><td>3</td></tr>",
                            "<tr><td>NULL</td><td>2016-07-26</td><td>2</td></tr>",
                            "<tr><td>NULL</td><td>2016-05-27</td><td>3</td></tr>",
                            "<tr><td>NULL</td><td>2016-09-10</td><td>2</td></tr>",
                            "<tr><td>NULL</td><td>2016-12-05</td><td>4</td></tr>",
                            "<tr><td>NULL</td><td>2016-07-12</td><td>3</td></tr>",
                            "<tr><td>NULL</td><td>2016-10-20</td><td>4</td></tr>",
                            "<tr><td>NULL</td><td>2017-01-28</td><td>3</td></tr>",
                            "<tr><td>NULL</td><td>2017-02-03</td><td>3</td></tr>",
                            "<tr><td>NULL</td><td>2016-08-01</td><td>4</td></tr>",
                            "<tr><td>NULL</td><td>2016-05-21</td><td>5</td></tr>",
                            "<tr><td>NULL</td><td>2016-07-09</td><td>2</td></tr>",
                            "<tr><td>NULL</td><td>2016-11-03</td><td>7</td></tr>",
                            "<tr><td>NULL</td><td>2016-12-22</td><td>3</td></tr>",
                            "<tr><td>NULL</td><td>2017-01-17</td><td>5</td></tr>",
                            "<tr><td>NULL</td><td>2016-08-21</td><td>2</td></tr>",
                            "<tr><td>NULL</td><td>2016-06-13</td><td>5</td></tr>",
                            "<tr><td>NULL</td><td>2016-11-29</td><td>4</td></tr>",
                            "<tr><td>NULL</td><td>2016-07-03</td><td>5</td></tr>",
                            "<tr><td>NULL</td><td>2016-11-09</td><td>3</td></tr>",
                            "<tr><td>NULL</td><td>2016-11-23</td><td>8</td></tr>",
                            "<tr><td>NULL</td><td>2016-05-01</td><td>5</td></tr>",
                            "<tr><td>NULL</td><td>2017-01-05</td><td>3</td></tr>",
                            "<tr><td>NULL</td><td>2016-08-09</td><td>2</td></tr>",
                            "<tr><td>NULL</td><td>2016-08-15</td><td>2</td></tr>",
                            "<tr><td>NULL</td><td>2016-10-03</td><td>3</td></tr>",
                            "<tr><td>NULL</td><td>2017-02-23</td><td>6</td></tr>",
                            "<tr><td>NULL</td><td>2016-10-23</td><td>7</td></tr>",
                            "<tr><td>NULL</td><td>2017-01-02</td><td>2</td></tr>",
                            "<tr><td>NULL</td><td>2016-11-15</td><td>3</td></tr>",
                            "<tr><td>NULL</td><td>2017-02-17</td><td>2</td></tr>",
                            "<tr><td>NULL</td><td>2016-10-17</td><td>3</td></tr>",
                            "<tr><td>NULL</td><td>2016-09-13</td><td>4</td></tr>",
                            "<tr><td>NULL</td><td>2016-07-23</td><td>2</td></tr>",
                            "<tr><td>NULL</td><td>2016-04-08</td><td>2</td></tr>",
                            "<tr><td>NULL</td><td>2016-04-14</td><td>2</td></tr>",
                            "<tr><td>NULL</td><td>2016-05-30</td><td>11</td></tr>",
                            "<tr><td>NULL</td><td>2016-04-28</td><td>2</td></tr>",
                            "<tr><td>NULL</td><td>2016-06-16</td><td>8</td></tr>",
                            "<tr><td>NULL</td><td>2016-05-24</td><td>4</td></tr>",
                            "<tr><td>NULL</td><td>2017-02-06</td><td>3</td></tr>",
                            "<tr><td>NULL</td><td>2016-07-29</td><td>2</td></tr>",
                            "<tr><td>NULL</td><td>2016-06-10</td><td>10</td></tr>",
                            "<tr><td>NULL</td><td>2016-12-02</td><td>3</td></tr>",
                            "<tr><td>NULL</td><td>2016-05-18</td><td>4</td></tr>",
                            "<tr><td>NULL</td><td>2016-08-24</td><td>10</td></tr>",
                            "<tr><td>NULL</td><td>2016-07-06</td><td>3</td></tr>",
                            "<tr><td>NULL</td><td>2016-11-06</td><td>3</td></tr>",
                            "<tr><td>NULL</td><td>2016-12-25</td><td>9</td></tr>",
                            "<tr><td>NULL</td><td>2016-08-18</td><td>2</td></tr>",
                            "<tr><td>NULL</td><td>2016-06-30</td><td>3</td></tr>",
                            "<tr><td>NULL</td><td>2016-11-12</td><td>2</td></tr>",
                            "<tr><td>NULL</td><td>2016-06-22</td><td>4</td></tr>",
                            "<tr><td>NULL</td><td>2017-02-26</td><td>4</td></tr>",
                            "<tr><td>NULL</td><td>2016-08-12</td><td>6</td></tr>",
                            "<tr><td>NULL</td><td>2016-09-30</td><td>8</td></tr>",
                            "<tr><td>NULL</td><td>2017-01-03</td><td>3</td></tr>",
                            "<tr><td>NULL</td><td>2017-02-18</td><td>4</td></tr>",
                            "<tr><td>NULL</td><td>2017-02-01</td><td>2</td></tr>",
                            "<tr><td>NULL</td><td>2016-06-08</td><td>4</td></tr>",
                            "<tr><td>NULL</td><td>2016-12-17</td><td>10</td></tr>",
                            "<tr><td>NULL</td><td>2016-07-24</td><td>5</td></tr>",
                            "<tr><td>NULL</td><td>2016-05-25</td><td>2</td></tr>",
                            "<tr><td>NULL</td><td>2016-10-26</td><td>12</td></tr>",
                            "<tr><td>NULL</td><td>2016-09-02</td><td>3</td></tr>",
                            "<tr><td>NULL</td><td>2016-09-08</td><td>3</td></tr>",
                            "<tr><td>NULL</td><td>2016-07-18</td><td>7</td></tr>",
                            "<tr><td>NULL</td><td>2016-11-27</td><td>3</td></tr>",
                            "<tr><td>NULL</td><td>2016-04-06</td><td>5</td></tr>",
                            "<tr><td>NULL</td><td>2017-03-01</td><td>2</td></tr>",
                            "<tr><td>NULL</td><td>2016-06-17</td><td>2</td></tr>",
                            "<tr><td>NULL</td><td>2016-11-01</td><td>3</td></tr>",
                            "<tr><td>NULL</td><td>2016-11-07</td><td>6</td></tr>",
                            "<tr><td>NULL</td><td>2016-10-09</td><td>11</td></tr>",
                            "<tr><td>NULL</td><td>2016-10-15</td><td>6</td></tr>",
                            "<tr><td>NULL</td><td>2017-02-09</td><td>2</td></tr>",
                            "<tr><td>NULL</td><td>2016-09-19</td><td>4</td></tr>",
                            "<tr><td>NULL</td><td>2016-04-23</td><td>2</td></tr>",
                            "<tr><td>NULL</td><td>2016-06-11</td><td>2</td></tr>",
                            "<tr><td>NULL</td><td>2016-11-21</td><td>2</td></tr>",
                            "<tr><td>NULL</td><td>2017-01-09</td><td>5</td></tr>",
                            "<tr><td>NULL</td><td>2016-07-01</td><td>5</td></tr>",
                            "<tr><td>NULL</td><td>2017-02-21</td><td>3</td></tr>",
                            "<tr><td>NULL</td><td>2016-08-13</td><td>2</td></tr>",
                            "<tr><td>NULL</td><td>2016-07-21</td><td>2</td></tr>",
                            "<tr><td>NULL</td><td>2016-06-05</td><td>2</td></tr>",
                            "<tr><td>NULL</td><td>2016-05-13</td><td>2</td></tr>",
                            "<tr><td>NULL</td><td>2017-01-23</td><td>4</td></tr>",
                            "<tr><td>NULL</td><td>2016-05-28</td><td>8</td></tr>",
                            "<tr><td>NULL</td><td>2016-10-29</td><td>5</td></tr>",
                            "<tr><td>NULL</td><td>2016-07-15</td><td>2</td></tr>",
                            "<tr><td>NULL</td><td>2016-07-27</td><td>11</td></tr>",
                            "<tr><td>NULL</td><td>2017-01-29</td><td>2</td></tr>",
                            "<tr><td>NULL</td><td>2016-12-14</td><td>2</td></tr>",
                            "<tr><td>NULL</td><td>2016-09-05</td><td>7</td></tr>",
                            "<tr><td>NULL</td><td>2016-05-22</td><td>2</td></tr>",
                            "<tr><td>NULL</td><td>2016-08-04</td><td>2</td></tr>",
                            "<tr><td>NULL</td><td>2016-04-26</td><td>2</td></tr>",
                            "<tr><td>NULL</td><td>2016-07-04</td><td>5</td></tr>",
                            "<tr><td>NULL</td><td>2016-09-16</td><td>3</td></tr>",
                            "<tr><td>NULL</td><td>2017-02-12</td><td>9</td></tr>",
                            "<tr><td>NULL</td><td>2016-11-10</td><td>4</td></tr>",
                            "<tr><td>NULL</td><td>2016-10-06</td><td>2</td></tr>",
                            "<tr><td>NULL</td><td>2016-08-16</td><td>12</td></tr>",
                            "<tr><td>NULL</td><td>2016-05-02</td><td>2</td></tr>",
                            "<tr><td>NULL</td><td>2016-09-28</td><td>3</td></tr>",
                            "<tr><td>NULL</td><td>2017-01-06</td><td>2</td></tr>",
                            "</table>"
                        ]
                    }
                }
            ],
            "execution_count": 23
        },
        {
            "cell_type": "markdown",
            "source": [
                "5\\. feladat"
            ],
            "metadata": {
                "azdata_cell_guid": "d7dfadd7-488a-463e-ac99-e05346921cd1"
            },
            "attachments": {}
        },
        {
            "cell_type": "code",
            "source": [
                "CREATE TABLE #MASKED_GUEST(\r\n",
                "USERNEV VARCHAR(20) PRIMARY KEY,\r\n",
                "NEV VARCHAR(50) MASKED WITH (Function = 'partial(2, \"XXX\", 3)'),\r\n",
                "EMAIL VARCHAR(60),\r\n",
                "SZAML_CIM NVARCHAR(100),\r\n",
                "SZUL_DATE DATE\r\n",
                ")"
            ],
            "metadata": {
                "azdata_cell_guid": "c231d9aa-45fd-4387-811b-93b0332dec0d",
                "language": "sql"
            },
            "outputs": [
                {
                    "output_type": "display_data",
                    "data": {
                        "text/html": "Commands completed successfully."
                    },
                    "metadata": {}
                },
                {
                    "output_type": "display_data",
                    "data": {
                        "text/html": "Total execution time: 00:00:00.005"
                    },
                    "metadata": {}
                }
            ],
            "execution_count": 24
        },
        {
            "cell_type": "markdown",
            "source": [
                "6\\. feladat"
            ],
            "metadata": {
                "azdata_cell_guid": "a544ee89-fcdb-4223-99f6-55c2879aa424"
            },
            "attachments": {}
        },
        {
            "cell_type": "code",
            "source": [
                "SET konyvtarnev 'Szechenyi Konyvtar'\r\n",
                "\r\n",
                "HSET konyvadatok nev 'Kis Herceg' megjelenes 1989 iro 'Napoleon'\r\n",
                "\r\n",
                "SADD mufajok tudomanyos gyerek krimi\r\n",
                "\r\n",
                "LPUSH konyvcimek 'Kis Herceg' 'Közepes Herceg' 'Nagy Herceg'\r\n",
                "\r\n",
                "ZADD kolcsonzesek 1 'Kis Herceg' 4 'Közepes Herceg' 2 'Nagy Herceg'"
            ],
            "metadata": {
                "azdata_cell_guid": "41ceef29-9c9f-450d-9b5d-1746a842a4bb",
                "language": "sql",
                "tags": []
            },
            "outputs": [],
            "execution_count": null
        }
    ]
}